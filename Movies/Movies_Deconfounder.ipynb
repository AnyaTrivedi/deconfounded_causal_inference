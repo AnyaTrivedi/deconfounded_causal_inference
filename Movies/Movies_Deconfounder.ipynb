{
  "nbformat": 4,
  "nbformat_minor": 0,
  "metadata": {
    "colab": {
      "name": "Movies PMF .ipynb",
      "provenance": [],
      "collapsed_sections": []
    },
    "kernelspec": {
      "name": "python3",
      "display_name": "Python 3"
    }
  },
  "cells": [
    {
      "cell_type": "markdown",
      "source": [
        "# Deconfounded Recommender\n",
        "\n",
        "Dataset - Kaggle Movies Dataset\n",
        "\n",
        "Author - Mahima"
      ],
      "metadata": {
        "id": "Cgq_yJ6aIxxM"
      }
    },
    {
      "cell_type": "markdown",
      "metadata": {
        "id": "sE0imG0HLDgf"
      },
      "source": [
        "# Baseline Model - Probabilistic Matrix Factorization (PMF)\n",
        "\n"
      ]
    },
    {
      "cell_type": "code",
      "metadata": {
        "id": "8-65Kyq2Kv8R"
      },
      "source": [
        "import os\n",
        "import sys\n",
        "import pickle\n",
        "import warnings\n",
        "import numpy as np \n",
        "import pandas as pd \n",
        "from ast import literal_eval\n",
        "import matplotlib.pyplot as plt\n",
        "from sklearn import linear_model\n",
        "from sklearn import preprocessing\n",
        "from sklearn.metrics import mean_squared_error\n",
        "from sklearn.feature_extraction.text import TfidfVectorizer, CountVectorizer\n",
        "from sklearn.metrics.pairwise import linear_kernel, cosine_similarity\n",
        "from sklearn.model_selection import train_test_split\n",
        "\n",
        "randseed = 29266137\n"
      ],
      "execution_count": 30,
      "outputs": []
    },
    {
      "cell_type": "markdown",
      "metadata": {
        "id": "pDzg9SMk_iW8"
      },
      "source": [
        "download the dataset and unzip it for further use."
      ]
    },
    {
      "cell_type": "code",
      "source": [
        "os.environ['KAGGLE_USERNAME'] = \"mahimagaur3131\" # username from the json file\n",
        "os.environ['KAGGLE_KEY'] = \"f283ab784cb9afd472c90766acabc801\" # key from the json file\n",
        "\n",
        "#Movies Dataset\n",
        "!kaggle datasets download -d rounakbanik/the-movies-dataset\n",
        "!unzip the-movies-dataset.zip"
      ],
      "metadata": {
        "id": "U9v2vgINZLlJ",
        "colab": {
          "base_uri": "https://localhost:8080/"
        },
        "outputId": "74222d95-7a8a-4468-b916-af2c1742b413"
      },
      "execution_count": 2,
      "outputs": [
        {
          "output_type": "stream",
          "name": "stdout",
          "text": [
            "Downloading the-movies-dataset.zip to /content\n",
            " 95% 217M/228M [00:01<00:00, 191MB/s]\n",
            "100% 228M/228M [00:01<00:00, 169MB/s]\n",
            "Archive:  the-movies-dataset.zip\n",
            "  inflating: credits.csv             \n",
            "  inflating: keywords.csv            \n",
            "  inflating: links.csv               \n",
            "  inflating: links_small.csv         \n",
            "  inflating: movies_metadata.csv     \n",
            "  inflating: ratings.csv             \n",
            "  inflating: ratings_small.csv       \n"
          ]
        }
      ]
    },
    {
      "cell_type": "code",
      "metadata": {
        "id": "dbWjyrOEC5G1",
        "outputId": "a2496cb2-6de6-4e61-f151-2281be66ef72",
        "colab": {
          "base_uri": "https://localhost:8080/",
          "height": 206
        }
      },
      "source": [
        "df = pd.read_csv('ratings_small.csv')\n",
        "df = df[['userId', 'movieId', 'rating']]\n",
        "df.head()"
      ],
      "execution_count": 3,
      "outputs": [
        {
          "output_type": "execute_result",
          "data": {
            "text/plain": [
              "   userId  movieId  rating\n",
              "0       1       31     2.5\n",
              "1       1     1029     3.0\n",
              "2       1     1061     3.0\n",
              "3       1     1129     2.0\n",
              "4       1     1172     4.0"
            ],
            "text/html": [
              "\n",
              "  <div id=\"df-7a920d62-dca9-463c-a19a-659e2a663412\">\n",
              "    <div class=\"colab-df-container\">\n",
              "      <div>\n",
              "<style scoped>\n",
              "    .dataframe tbody tr th:only-of-type {\n",
              "        vertical-align: middle;\n",
              "    }\n",
              "\n",
              "    .dataframe tbody tr th {\n",
              "        vertical-align: top;\n",
              "    }\n",
              "\n",
              "    .dataframe thead th {\n",
              "        text-align: right;\n",
              "    }\n",
              "</style>\n",
              "<table border=\"1\" class=\"dataframe\">\n",
              "  <thead>\n",
              "    <tr style=\"text-align: right;\">\n",
              "      <th></th>\n",
              "      <th>userId</th>\n",
              "      <th>movieId</th>\n",
              "      <th>rating</th>\n",
              "    </tr>\n",
              "  </thead>\n",
              "  <tbody>\n",
              "    <tr>\n",
              "      <th>0</th>\n",
              "      <td>1</td>\n",
              "      <td>31</td>\n",
              "      <td>2.5</td>\n",
              "    </tr>\n",
              "    <tr>\n",
              "      <th>1</th>\n",
              "      <td>1</td>\n",
              "      <td>1029</td>\n",
              "      <td>3.0</td>\n",
              "    </tr>\n",
              "    <tr>\n",
              "      <th>2</th>\n",
              "      <td>1</td>\n",
              "      <td>1061</td>\n",
              "      <td>3.0</td>\n",
              "    </tr>\n",
              "    <tr>\n",
              "      <th>3</th>\n",
              "      <td>1</td>\n",
              "      <td>1129</td>\n",
              "      <td>2.0</td>\n",
              "    </tr>\n",
              "    <tr>\n",
              "      <th>4</th>\n",
              "      <td>1</td>\n",
              "      <td>1172</td>\n",
              "      <td>4.0</td>\n",
              "    </tr>\n",
              "  </tbody>\n",
              "</table>\n",
              "</div>\n",
              "      <button class=\"colab-df-convert\" onclick=\"convertToInteractive('df-7a920d62-dca9-463c-a19a-659e2a663412')\"\n",
              "              title=\"Convert this dataframe to an interactive table.\"\n",
              "              style=\"display:none;\">\n",
              "        \n",
              "  <svg xmlns=\"http://www.w3.org/2000/svg\" height=\"24px\"viewBox=\"0 0 24 24\"\n",
              "       width=\"24px\">\n",
              "    <path d=\"M0 0h24v24H0V0z\" fill=\"none\"/>\n",
              "    <path d=\"M18.56 5.44l.94 2.06.94-2.06 2.06-.94-2.06-.94-.94-2.06-.94 2.06-2.06.94zm-11 1L8.5 8.5l.94-2.06 2.06-.94-2.06-.94L8.5 2.5l-.94 2.06-2.06.94zm10 10l.94 2.06.94-2.06 2.06-.94-2.06-.94-.94-2.06-.94 2.06-2.06.94z\"/><path d=\"M17.41 7.96l-1.37-1.37c-.4-.4-.92-.59-1.43-.59-.52 0-1.04.2-1.43.59L10.3 9.45l-7.72 7.72c-.78.78-.78 2.05 0 2.83L4 21.41c.39.39.9.59 1.41.59.51 0 1.02-.2 1.41-.59l7.78-7.78 2.81-2.81c.8-.78.8-2.07 0-2.86zM5.41 20L4 18.59l7.72-7.72 1.47 1.35L5.41 20z\"/>\n",
              "  </svg>\n",
              "      </button>\n",
              "      \n",
              "  <style>\n",
              "    .colab-df-container {\n",
              "      display:flex;\n",
              "      flex-wrap:wrap;\n",
              "      gap: 12px;\n",
              "    }\n",
              "\n",
              "    .colab-df-convert {\n",
              "      background-color: #E8F0FE;\n",
              "      border: none;\n",
              "      border-radius: 50%;\n",
              "      cursor: pointer;\n",
              "      display: none;\n",
              "      fill: #1967D2;\n",
              "      height: 32px;\n",
              "      padding: 0 0 0 0;\n",
              "      width: 32px;\n",
              "    }\n",
              "\n",
              "    .colab-df-convert:hover {\n",
              "      background-color: #E2EBFA;\n",
              "      box-shadow: 0px 1px 2px rgba(60, 64, 67, 0.3), 0px 1px 3px 1px rgba(60, 64, 67, 0.15);\n",
              "      fill: #174EA6;\n",
              "    }\n",
              "\n",
              "    [theme=dark] .colab-df-convert {\n",
              "      background-color: #3B4455;\n",
              "      fill: #D2E3FC;\n",
              "    }\n",
              "\n",
              "    [theme=dark] .colab-df-convert:hover {\n",
              "      background-color: #434B5C;\n",
              "      box-shadow: 0px 1px 3px 1px rgba(0, 0, 0, 0.15);\n",
              "      filter: drop-shadow(0px 1px 2px rgba(0, 0, 0, 0.3));\n",
              "      fill: #FFFFFF;\n",
              "    }\n",
              "  </style>\n",
              "\n",
              "      <script>\n",
              "        const buttonEl =\n",
              "          document.querySelector('#df-7a920d62-dca9-463c-a19a-659e2a663412 button.colab-df-convert');\n",
              "        buttonEl.style.display =\n",
              "          google.colab.kernel.accessAllowed ? 'block' : 'none';\n",
              "\n",
              "        async function convertToInteractive(key) {\n",
              "          const element = document.querySelector('#df-7a920d62-dca9-463c-a19a-659e2a663412');\n",
              "          const dataTable =\n",
              "            await google.colab.kernel.invokeFunction('convertToInteractive',\n",
              "                                                     [key], {});\n",
              "          if (!dataTable) return;\n",
              "\n",
              "          const docLinkHtml = 'Like what you see? Visit the ' +\n",
              "            '<a target=\"_blank\" href=https://colab.research.google.com/notebooks/data_table.ipynb>data table notebook</a>'\n",
              "            + ' to learn more about interactive tables.';\n",
              "          element.innerHTML = '';\n",
              "          dataTable['output_type'] = 'display_data';\n",
              "          await google.colab.output.renderOutput(dataTable, element);\n",
              "          const docLink = document.createElement('div');\n",
              "          docLink.innerHTML = docLinkHtml;\n",
              "          element.appendChild(docLink);\n",
              "        }\n",
              "      </script>\n",
              "    </div>\n",
              "  </div>\n",
              "  "
            ]
          },
          "metadata": {},
          "execution_count": 3
        }
      ]
    },
    {
      "cell_type": "markdown",
      "metadata": {
        "id": "STnXs_BhAnsm"
      },
      "source": [
        "Prepare the sparse review matrix R."
      ]
    },
    {
      "cell_type": "code",
      "metadata": {
        "id": "BDoGa6i7OFy_"
      },
      "source": [
        "def get_ratings_matrix(df, train_size=0.75):\n",
        "    user_to_row = {}\n",
        "    movie_to_column = {}\n",
        "    df_values = df.values\n",
        "    n_dims = 10\n",
        "    parameters = {}\n",
        "    \n",
        "    uniq_users = np.unique(df_values[:, 0])\n",
        "    uniq_movies = np.unique(df_values[:, 1])\n",
        "\n",
        "    for i, user_id in enumerate(uniq_users):\n",
        "        user_to_row[user_id] = i\n",
        "\n",
        "    for j, movie_id in enumerate(uniq_movies):\n",
        "        movie_to_column[movie_id] = j\n",
        "    \n",
        "    n_users = len(uniq_users)\n",
        "    n_movies = len(uniq_movies)\n",
        "    \n",
        "    R = np.zeros((n_users, n_movies))\n",
        "    \n",
        "    df_copy = df.copy()\n",
        "    train_set = df_copy.sample(frac=train_size, random_state=0)\n",
        "    test_set = df_copy.drop(train_set.index)\n",
        "    \n",
        "    for index, row in train_set.iterrows():\n",
        "        i = user_to_row[row.userId]\n",
        "        j = movie_to_column[row.movieId]\n",
        "        R[i, j] = row.rating\n",
        "\n",
        "    return R, train_set, test_set, n_dims, n_users, n_movies, user_to_row, movie_to_column"
      ],
      "execution_count": 4,
      "outputs": []
    },
    {
      "cell_type": "markdown",
      "metadata": {
        "id": "bKIg5iNe5SKn"
      },
      "source": [
        "Let's now call this function and retrieve all necessary parameters."
      ]
    },
    {
      "cell_type": "code",
      "metadata": {
        "id": "HBjrbs8VD6_2"
      },
      "source": [
        "R, train_set, test_set, n_dims, n_users, n_movies, user_to_row, movie_to_column = get_ratings_matrix(df, 0.8)\n",
        "parameters = {}"
      ],
      "execution_count": 5,
      "outputs": []
    },
    {
      "cell_type": "markdown",
      "metadata": {
        "id": "2C8nnfseBTOM"
      },
      "source": [
        "We will now initialise our parameters. First the $V$ matrix can be initialised randomly using the following distribution:\n",
        "\n",
        "\\begin{equation}\n",
        "\\large\n",
        "V \\sim \\mathcal N\\left(0, \\frac {1} {\\lambda_V}\\right)\n",
        "\\end{equation}\n",
        "\n",
        "Let's remember that:\n",
        "\n",
        "\\begin{equation}\n",
        "\\large\n",
        "U \\in \\mathbb R^{D\\times N}, \\qquad V \\in \\mathbb R^{D\\times M}\n",
        "\\end{equation}\n",
        "\n",
        "Where $N$ is __n_users__, $M$ is __n_movies__ and $D$ is __n_dims__."
      ]
    },
    {
      "cell_type": "code",
      "metadata": {
        "id": "HaM_fnR0Nd_i"
      },
      "source": [
        "def initialize_parameters(lambda_U, lambda_V):\n",
        "    U = np.zeros((n_dims, n_users), dtype=np.float64)\n",
        "    V = np.random.normal(0.0, 1.0 / lambda_V, (n_dims, n_movies))\n",
        "    \n",
        "    parameters['U'] = U\n",
        "    parameters['V'] = V\n",
        "    parameters['lambda_U'] = lambda_U\n",
        "    parameters['lambda_V'] = lambda_V"
      ],
      "execution_count": 6,
      "outputs": []
    },
    {
      "cell_type": "markdown",
      "metadata": {
        "id": "ntiPL_EnCLe-"
      },
      "source": [
        "Let's now implement the function that updates U and V. The elements of both matrices can be updated using the following expressions:\n",
        "\n",
        "\\begin{equation}\n",
        "\\large\n",
        "U_i=\\left[\\left(V_jV_j^T\\right)_{j\\in\\Omega_{U_i}}+\\lambda_UI\\right]^{-1}\\left(R_{ij}V_j^T\\right)_{j\\in\\Omega_{U_i}}\n",
        "\\end{equation}\n",
        "\n",
        "\\begin{equation}\n",
        "\\large\n",
        "V_j=\\left[\\left(U_iU_i^T\\right)_{i\\in\\Omega_{V_j}}+\\lambda_VI\\right]^{-1}\\left(R_{ij}U_i^T\\right)_{i\\in\\Omega_{V_j}}\n",
        "\\end{equation}"
      ]
    },
    {
      "cell_type": "code",
      "metadata": {
        "id": "DjKB4TzFkoJx"
      },
      "source": [
        "def update_parameters():\n",
        "    U = parameters['U']\n",
        "    V = parameters['V']\n",
        "    lambda_U = parameters['lambda_U']\n",
        "    lambda_V = parameters['lambda_V']\n",
        "    \n",
        "    for i in range(n_users):\n",
        "        V_j = V[:, R[i, :] > 0]\n",
        "        U[:, i] = np.dot(np.linalg.inv(np.dot(V_j, V_j.T) + lambda_U * np.identity(n_dims)), np.dot(R[i, R[i, :] > 0], V_j.T))\n",
        "        \n",
        "    for j in range(n_movies):\n",
        "        U_i = U[:, R[:, j] > 0]\n",
        "        V[:, j] = np.dot(np.linalg.inv(np.dot(U_i, U_i.T) + lambda_V * np.identity(n_dims)), np.dot(R[R[:, j] > 0, j], U_i.T))\n",
        "        \n",
        "    parameters['U'] = U\n",
        "    parameters['V'] = V"
      ],
      "execution_count": 7,
      "outputs": []
    },
    {
      "cell_type": "markdown",
      "metadata": {
        "id": "hQ5in2inJApx"
      },
      "source": [
        "Now let's implement the Log-a posteriori:\n",
        "\n",
        "\\begin{equation}\n",
        "\\large\n",
        "L=-\\frac 1 2 \\left(\\sum_{i=1}^N\\sum_{j=1}^M(R_{ij}-U_i^TV_j)_{(i,j) \\in \\Omega_{R_{ij}}}^2+\\lambda_U\\sum_{i=1}^N\\|U_i\\|_{Fro}^2+\\lambda_V\\sum_{j=1}^M\\|V_j\\|_{Fro}^2\\right)\n",
        "\\end{equation}"
      ]
    },
    {
      "cell_type": "code",
      "metadata": {
        "id": "5PUgHUp2MeZI"
      },
      "source": [
        "def log_a_posteriori():\n",
        "    lambda_U = parameters['lambda_U']\n",
        "    lambda_V = parameters['lambda_V']\n",
        "    U = parameters['U']\n",
        "    V = parameters['V']\n",
        "    \n",
        "    UV = np.dot(U.T, V)\n",
        "    R_UV = (R[R > 0] - UV[R > 0])\n",
        "    \n",
        "    return -0.5 * (np.sum(np.dot(R_UV, R_UV.T)) + lambda_U * np.sum(np.dot(U, U.T)) + lambda_V * np.sum(np.dot(V, V.T)))"
      ],
      "execution_count": 8,
      "outputs": []
    },
    {
      "cell_type": "markdown",
      "metadata": {
        "id": "68fmuPQrPRnU"
      },
      "source": [
        "The __predict__ function allows us to predict the rating value given the __user_id__ and the __movie_id__ parameters. The value has been scaled within the range 0-5"
      ]
    },
    {
      "cell_type": "code",
      "metadata": {
        "id": "neTN8ejbQ5dg"
      },
      "source": [
        "def predict(user_id, movie_id):\n",
        "    U = parameters['U']\n",
        "    V = parameters['V']\n",
        "    \n",
        "    r_ij = U[:, user_to_row[user_id]].T.reshape(1, -1) @ V[:, movie_to_column[movie_id]].reshape(-1, 1)\n",
        "\n",
        "    max_rating = parameters['max_rating']\n",
        "    min_rating = parameters['min_rating']\n",
        "\n",
        "    return 0 if max_rating == min_rating else ((r_ij[0][0] - min_rating) / (max_rating - min_rating)) * 5.0"
      ],
      "execution_count": 9,
      "outputs": []
    },
    {
      "cell_type": "markdown",
      "metadata": {
        "id": "7Rt2ol1j7OJ0"
      },
      "source": [
        "The __evaluate__ function will calculate the __RMSE__ of the model given a dataset (train or test)."
      ]
    },
    {
      "cell_type": "code",
      "metadata": {
        "id": "jnNGbogWh6OR"
      },
      "source": [
        "def evaluate(dataset):\n",
        "    ground_truths = []\n",
        "    predictions = []\n",
        "    \n",
        "    for index, row in dataset.iterrows():\n",
        "        ground_truths.append(row.loc['rating'])\n",
        "        predictions.append(predict(row.loc['userId'], row.loc['movieId']))\n",
        "    \n",
        "    return mean_squared_error(ground_truths, predictions, squared=False)"
      ],
      "execution_count": 10,
      "outputs": []
    },
    {
      "cell_type": "markdown",
      "metadata": {
        "id": "6R1ePeME7qSW"
      },
      "source": [
        "For the purposes of scaling, we need the maximum and minimum rating values."
      ]
    },
    {
      "cell_type": "code",
      "metadata": {
        "id": "YNIlELvx0M0W"
      },
      "source": [
        "def update_max_min_ratings():\n",
        "    U = parameters['U']\n",
        "    V = parameters['V']\n",
        "\n",
        "    R = U.T @ V\n",
        "    min_rating = np.min(R)\n",
        "    max_rating = np.max(R)\n",
        "\n",
        "    parameters['min_rating'] = min_rating\n",
        "    parameters['max_rating'] = max_rating"
      ],
      "execution_count": 11,
      "outputs": []
    },
    {
      "cell_type": "markdown",
      "metadata": {
        "id": "AZGq6J9pDl5O"
      },
      "source": [
        "The __train__ function implements the code necessary for training the model as well as recording the __RMSE__ values on the training and testing sets."
      ]
    },
    {
      "cell_type": "code",
      "metadata": {
        "id": "VYwTD_nBNO5F"
      },
      "source": [
        "def train(n_epochs):\n",
        "    initialize_parameters(0.3, 0.3)\n",
        "    log_aps = []\n",
        "    rmse_train = []\n",
        "    rmse_test = []\n",
        "\n",
        "    update_max_min_ratings()\n",
        "    rmse_train.append(evaluate(train_set))\n",
        "    rmse_test.append(evaluate(test_set))\n",
        "    \n",
        "    for k in range(n_epochs):\n",
        "        update_parameters()\n",
        "        log_ap = log_a_posteriori()\n",
        "        log_aps.append(log_ap)\n",
        "\n",
        "        if (k + 1) % 10 == 0:\n",
        "            update_max_min_ratings()\n",
        "\n",
        "            rmse_train.append(evaluate(train_set))\n",
        "            rmse_test.append(evaluate(test_set))\n",
        "            print('Log p a-posteriori at iteration', k + 1, ':', log_ap)\n",
        "\n",
        "    update_max_min_ratings()\n",
        "\n",
        "    return log_aps, rmse_train, rmse_test"
      ],
      "execution_count": 12,
      "outputs": []
    },
    {
      "cell_type": "markdown",
      "metadata": {
        "id": "SJbozBbQPk9A"
      },
      "source": [
        "Let's train our model!"
      ]
    },
    {
      "cell_type": "code",
      "metadata": {
        "id": "XeH5sRNp7eHA",
        "colab": {
          "base_uri": "https://localhost:8080/"
        },
        "outputId": "47965055-655f-4c22-b626-5b1be8a0af42"
      },
      "source": [
        "log_ps, rmse_train, rmse_test = train(150)"
      ],
      "execution_count": 13,
      "outputs": [
        {
          "output_type": "stream",
          "name": "stdout",
          "text": [
            "Log p a-posteriori at iteration 10 : -27629.399783032357\n",
            "Log p a-posteriori at iteration 20 : -18749.159910719412\n",
            "Log p a-posteriori at iteration 30 : -15499.199304651382\n",
            "Log p a-posteriori at iteration 40 : -13828.137860616216\n",
            "Log p a-posteriori at iteration 50 : -12814.626206647246\n",
            "Log p a-posteriori at iteration 60 : -12158.291720802146\n",
            "Log p a-posteriori at iteration 70 : -11716.500947866094\n",
            "Log p a-posteriori at iteration 80 : -11409.778386288792\n",
            "Log p a-posteriori at iteration 90 : -11189.984197844427\n",
            "Log p a-posteriori at iteration 100 : -11019.573961354483\n",
            "Log p a-posteriori at iteration 110 : -10880.013032004126\n",
            "Log p a-posteriori at iteration 120 : -10758.876582385588\n",
            "Log p a-posteriori at iteration 130 : -10654.859213985572\n",
            "Log p a-posteriori at iteration 140 : -10572.438570042252\n",
            "Log p a-posteriori at iteration 150 : -10502.446085693644\n"
          ]
        }
      ]
    },
    {
      "cell_type": "markdown",
      "metadata": {
        "id": "TKzp4hukECUE"
      },
      "source": [
        "Now let's take a look at some graphs"
      ]
    },
    {
      "cell_type": "code",
      "metadata": {
        "id": "yRr_wko07e37",
        "outputId": "750b05a9-19dd-4a59-ae6b-a683f9e6c37a",
        "colab": {
          "base_uri": "https://localhost:8080/",
          "height": 607
        }
      },
      "source": [
        "_, (ax1, ax2) = plt.subplots(1, 2, figsize=(20, 10))\n",
        "plt.title('Training results')\n",
        "ax1.plot(np.arange(len(log_ps)), log_ps, label='MAP')\n",
        "ax1.legend()\n",
        "\n",
        "ax2.plot(np.arange(len(rmse_train)), rmse_train, label='RMSE train')\n",
        "ax2.plot(np.arange(len(rmse_test)), rmse_test, label='RMSE test')\n",
        "ax2.legend()\n",
        "\n",
        "plt.show()"
      ],
      "execution_count": 14,
      "outputs": [
        {
          "output_type": "display_data",
          "data": {
            "text/plain": [
              "<Figure size 1440x720 with 2 Axes>"
            ],
            "image/png": "[encoded data removed]"
          },
          "metadata": {
            "needs_background": "light"
          }
        }
      ]
    },
    {
      "cell_type": "markdown",
      "metadata": {
        "id": "-nhrZDHvPx1-"
      },
      "source": [
        "Let's now evaluate our model on both the training and testing sets."
      ]
    },
    {
      "cell_type": "code",
      "metadata": {
        "id": "L9mKLM7BkuVz",
        "outputId": "d694aa92-cc47-4377-cf6b-de11d2c5dd16",
        "colab": {
          "base_uri": "https://localhost:8080/"
        }
      },
      "source": [
        "print('RMSE of training set:', evaluate(train_set))\n",
        "print('RMSE of testing set:', evaluate(test_set))"
      ],
      "execution_count": 15,
      "outputs": [
        {
          "output_type": "stream",
          "name": "stdout",
          "text": [
            "RMSE of training set: 1.1553022783143079\n",
            "RMSE of testing set: 1.2378647020723668\n"
          ]
        }
      ]
    },
    {
      "cell_type": "markdown",
      "metadata": {
        "id": "Ls2D-iRqty8x"
      },
      "source": [
        "# The Deconfounder in Action\n",
        "\n"
      ]
    },
    {
      "cell_type": "markdown",
      "source": [
        "Poisson Matrix Factorization  - The Exposure Model"
      ],
      "metadata": {
        "id": "YQ2aqvoXvaAD"
      }
    },
    {
      "cell_type": "markdown",
      "source": [
        "Preparing the exposure data."
      ],
      "metadata": {
        "id": "yAMcLzUPZEm2"
      }
    },
    {
      "cell_type": "code",
      "source": [
        "def exposure_data(df, train_size=0.75):\n",
        "    user_to_row = {}\n",
        "    movie_to_column = {}\n",
        "    \n",
        "    uniq_users = np.unique(df['userId'])\n",
        "    uniq_movies = np.unique(df['movieId'])\n",
        "\n",
        "    for i, user_id in enumerate(uniq_users):\n",
        "        user_to_row[user_id] = i\n",
        "\n",
        "    for j, movie_id in enumerate(uniq_movies):\n",
        "        movie_to_column[movie_id] = j\n",
        "    \n",
        "    data = []\n",
        "    n_users = len(uniq_users)\n",
        "    n_movies = len(uniq_movies)\n",
        "    for row in df.iterrows():\n",
        "      user, movie = row[1][0], row[1][1]\n",
        "      data.append((user_to_row[user], movie_to_column[movie], 1))\n",
        "\n",
        "    exposure_df = pd.DataFrame(data, columns =['userID', 'movieID', 'a'])\n",
        "    #Train-test split\n",
        "    df_copy = exposure_df.copy()\n",
        "    train_set = df_copy.sample(frac=train_size, random_state=0)\n",
        "    test_set = df_copy.drop(train_set.index)\n",
        "    \n",
        "    return exposure_df, train_set, test_set, n_users, n_movies, user_to_row, movie_to_column\n",
        "\n",
        "\n",
        "exposure_df, train, test, n_users, n_movies, user_to_row, movie_to_column = exposure_data(df)"
      ],
      "metadata": {
        "id": "_AQXjgbJZCpe"
      },
      "execution_count": 22,
      "outputs": []
    },
    {
      "cell_type": "markdown",
      "source": [
        "Step 1 - Fit the exposure model"
      ],
      "metadata": {
        "id": "CKyIdJjD7jA0"
      }
    },
    {
      "cell_type": "code",
      "source": [
        "! pip install hpfrec\n",
        "import pandas as pd, numpy as np\n",
        "from hpfrec import HPF\n",
        "exposure_df.columns = ['UserId', 'ItemId', 'Count']\n",
        "recommender = HPF()\n",
        "param = recommender.fit(exposure_df)"
      ],
      "metadata": {
        "colab": {
          "base_uri": "https://localhost:8080/"
        },
        "id": "4UgLhdr9MxnZ",
        "outputId": "7ca9e537-c18e-4ba1-f89c-7f5f41aa9f55"
      },
      "execution_count": 23,
      "outputs": [
        {
          "output_type": "stream",
          "name": "stdout",
          "text": [
            "Requirement already satisfied: hpfrec in /usr/local/lib/python3.7/dist-packages (0.2.5.post4)\n",
            "Requirement already satisfied: numpy>=1.18 in /usr/local/lib/python3.7/dist-packages (from hpfrec) (1.21.6)\n",
            "Requirement already satisfied: cython in /usr/local/lib/python3.7/dist-packages (from hpfrec) (0.29.28)\n",
            "Requirement already satisfied: scipy in /usr/local/lib/python3.7/dist-packages (from hpfrec) (1.4.1)\n",
            "Requirement already satisfied: pandas>=0.24 in /usr/local/lib/python3.7/dist-packages (from hpfrec) (1.3.5)\n",
            "Requirement already satisfied: python-dateutil>=2.7.3 in /usr/local/lib/python3.7/dist-packages (from pandas>=0.24->hpfrec) (2.8.2)\n",
            "Requirement already satisfied: pytz>=2017.3 in /usr/local/lib/python3.7/dist-packages (from pandas>=0.24->hpfrec) (2022.1)\n",
            "Requirement already satisfied: six>=1.5 in /usr/local/lib/python3.7/dist-packages (from python-dateutil>=2.7.3->pandas>=0.24->hpfrec) (1.15.0)\n",
            "**********************************\n",
            "Hierarchical Poisson Factorization\n",
            "**********************************\n",
            "\n",
            "Number of users: 671\n",
            "Number of items: 9066\n",
            "Latent factors to use: 30\n",
            "\n",
            "Initializing parameters...\n",
            "Allocating Phi matrix...\n",
            "Initializing optimization procedure...\n",
            "Iteration 10 | train llk: -338484 | train rmse: 0.8521\n",
            "Iteration 20 | train llk: -280626 | train rmse: 0.7591\n",
            "Iteration 30 | train llk: -276980 | train rmse: 0.7552\n",
            "Iteration 40 | train llk: -276400 | train rmse: 0.7552\n",
            "Iteration 50 | train llk: -276295 | train rmse: 0.7557\n",
            "Iteration 60 | train llk: -276310 | train rmse: 0.7561\n",
            "Iteration 70 | train llk: -276309 | train rmse: 0.7565\n",
            "Iteration 80 | train llk: -276309 | train rmse: 0.7567\n",
            "Iteration 90 | train llk: -276342 | train rmse: 0.7568\n",
            "Iteration 100 | train llk: -276385 | train rmse: 0.7569\n",
            "\n",
            "\n",
            "Optimization finished\n",
            "Final log-likelihood: -276385\n",
            "Final RMSE: 0.7569\n",
            "Minutes taken (optimization part): 0.6\n",
            "\n"
          ]
        }
      ]
    },
    {
      "cell_type": "markdown",
      "source": [
        "Some data preprocessing"
      ],
      "metadata": {
        "id": "ErIWllM49IEy"
      }
    },
    {
      "cell_type": "code",
      "source": [
        "def matrix_X(R):\n",
        "  X = []\n",
        "  for i in range(len(R)):\n",
        "    row = [1 if val == 1 else 0 for val in R[i]]\n",
        "    X.append(row)\n",
        "  return X\n",
        "\n",
        "X = matrix_X(R)\n",
        "ratings = df['rating']\n",
        "y = R\n",
        "pmfU = param.Theta\n",
        "\n",
        "y_scaler = preprocessing.StandardScaler().fit(y)\n",
        "y_scaled = y_scaler.fit_transform(y)\n",
        "\n",
        "X_scaler = preprocessing.StandardScaler().fit(X)\n",
        "X_scaled = X_scaler.fit_transform(X)\n",
        "\n",
        "pmfU_scaler = preprocessing.StandardScaler().fit(pmfU)\n",
        "pmfU_scaled = pmfU_scaler.fit_transform(pmfU)\n",
        "\n",
        "X_train, X_test = train_test_split(X_scaled, test_size=0.20, random_state=randseed)\n",
        "y_train, y_test = train_test_split(y_scaled, test_size=0.20, random_state=randseed)\n",
        "pmfU_train, pmfU_test = train_test_split(pmfU_scaled, test_size=0.20, random_state=randseed)\n",
        "n_users, n_items = X_train.shape"
      ],
      "metadata": {
        "id": "dbE2DJyHv1gr"
      },
      "execution_count": 24,
      "outputs": []
    },
    {
      "cell_type": "markdown",
      "source": [
        "Step 2 - Fit the outcome model"
      ],
      "metadata": {
        "id": "u-oEzCuE8jCJ"
      }
    },
    {
      "cell_type": "code",
      "source": [
        "import warnings\n",
        "warnings.filterwarnings('ignore')\n",
        "reg = linear_model.Ridge(normalize=True)\n",
        "for i in range(n_items):\n",
        "    # if i%100 == 0:\n",
        "    #   print('---- Fitting row', i, '----')\n",
        "    reg.fit(np.column_stack([X_train[:,i], pmfU_train]), y_train[:,i])"
      ],
      "metadata": {
        "id": "GFrpisFYO6X1"
      },
      "execution_count": null,
      "outputs": []
    },
    {
      "cell_type": "markdown",
      "source": [
        "Step 4 - Estimate potential ratings"
      ],
      "metadata": {
        "id": "L4WOvXJX9l26"
      }
    },
    {
      "cell_type": "code",
      "source": [
        "test_items = X_test.shape[1]\n",
        "prediction = []\n",
        "\n",
        "for i in range(test_items):\n",
        "    # if i%100 == 0:\n",
        "    #   print('---- Predicting row', i, '----')\n",
        "    res = reg.predict(np.column_stack([X_test[:,i], pmfU_test]))\n",
        "    prediction.append(res)"
      ],
      "metadata": {
        "id": "7jgYJZRb865Z"
      },
      "execution_count": null,
      "outputs": []
    },
    {
      "cell_type": "markdown",
      "source": [
        "Evaluate the model"
      ],
      "metadata": {
        "id": "jkKUVmRL9thn"
      }
    },
    {
      "cell_type": "code",
      "source": [
        "y_test = np.transpose(y_test)\n",
        "rmse = mean_squared_error(y_test, prediction, squared=False)\n",
        "print(rmse)"
      ],
      "metadata": {
        "colab": {
          "base_uri": "https://localhost:8080/"
        },
        "id": "ytUp9Afw8iRQ",
        "outputId": "d707241f-ff9f-4af2-a5a0-60cffe46d838"
      },
      "execution_count": 39,
      "outputs": [
        {
          "output_type": "stream",
          "name": "stdout",
          "text": [
            "0.780996536081642\n"
          ]
        }
      ]
    },
    {
      "cell_type": "markdown",
      "source": [
        "*   Baseline MSE = 1.2\n",
        "*   Decounder MSE = 0.7\n",
        "\n",
        "\n"
      ],
      "metadata": {
        "id": "iA904GSo9xsB"
      }
    }
  ]
}