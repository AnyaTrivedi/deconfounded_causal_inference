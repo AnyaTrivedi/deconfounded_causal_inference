{
  "nbformat": 4,
  "nbformat_minor": 0,
  "metadata": {
    "colab": {
      "name": "Books-ConfounderDimension.ipynb",
      "provenance": [],
      "collapsed_sections": []
    },
    "kernelspec": {
      "name": "python3",
      "display_name": "Python 3"
    },
    "language_info": {
      "name": "python"
    }
  },
  "cells": [
    {
      "cell_type": "code",
      "execution_count": null,
      "metadata": {
        "id": "vaQoVcwy-4FE"
      },
      "outputs": [],
      "source": [
        ""
      ]
    },
    {
      "cell_type": "markdown",
      "source": [
        "# Determining what each dimenssion of the Substitute Confounder Means\n",
        "\n",
        "\n",
        "Exploring different latent dimensions of the Books data, we see that each of the dimensions correspond to a different genre"
      ],
      "metadata": {
        "id": "ucSaG6zA_PPv"
      }
    },
    {
      "cell_type": "code",
      "source": [
        "import os\n",
        "import sys\n",
        "import pickle\n",
        "import warnings\n",
        "import numpy as np \n",
        "import pandas as pd \n",
        "from ast import literal_eval\n",
        "import matplotlib\n",
        "import matplotlib.pyplot as plt\n",
        "from sklearn import linear_model\n",
        "from sklearn import preprocessing\n",
        "from sklearn.metrics import mean_squared_error\n",
        "from sklearn.feature_extraction.text import TfidfVectorizer, CountVectorizer\n",
        "from sklearn.metrics.pairwise import linear_kernel, cosine_similarity\n",
        "from sklearn.model_selection import train_test_split\n",
        "\n",
        "\n",
        "\n",
        "matplotlib.rcParams.update({'font.sans-serif' : 'Helvetica',\n",
        "                            'axes.labelsize': 10,\n",
        "                            'xtick.labelsize' : 6,\n",
        "                            'ytick.labelsize' : 6,\n",
        "                            'axes.titlesize' : 10})\n",
        "import matplotlib.pyplot as plt\n",
        "\n",
        "import seaborn as sns\n",
        "color_names = [\"windows blue\",\n",
        "               \"amber\",\n",
        "               \"crimson\",\n",
        "               \"faded green\",\n",
        "               \"dusty purple\",\n",
        "               \"greyish\"]\n",
        "colors = sns.xkcd_palette(color_names)\n",
        "sns.set(style=\"white\", palette=sns.xkcd_palette(color_names), color_codes = False)\n",
        "\n",
        "\n",
        "randseed = 29266137"
      ],
      "metadata": {
        "id": "isgcdkcv_iKG"
      },
      "execution_count": null,
      "outputs": []
    },
    {
      "cell_type": "code",
      "source": [
        "DATA_DIR = '/content/'\n"
      ],
      "metadata": {
        "id": "R87HcIsO_mSd"
      },
      "execution_count": null,
      "outputs": []
    },
    {
      "cell_type": "code",
      "source": [
        "books = pd.read_csv(os.path.join(DATA_DIR, 'books_clean.csv'))"
      ],
      "metadata": {
        "id": "uTxk4NVjAGZz"
      },
      "execution_count": null,
      "outputs": []
    },
    {
      "cell_type": "code",
      "source": [
        "books.head()"
      ],
      "metadata": {
        "colab": {
          "base_uri": "https://localhost:8080/",
          "height": 206
        },
        "id": "DbrIhUO6AMZ2",
        "outputId": "2ec8ef3f-e2ba-47f3-f689-126abcdb03a1"
      },
      "execution_count": null,
      "outputs": [
        {
          "output_type": "execute_result",
          "data": {
            "text/plain": [
              "         ISBN                                          bookTitle  \\\n",
              "0  0195153448                                Classical Mythology   \n",
              "1  0002005018                                       Clara Callan   \n",
              "2  0060973129                               Decision in Normandy   \n",
              "3  0374157065  Flu: The Story of the Great Influenza Pandemic...   \n",
              "4  0393045218                             The Mummies of Urumchi   \n",
              "\n",
              "             bookAuthor  yearOfPublication                   publisher  \n",
              "0    Mark P. O. Morford               2002     Oxford University Press  \n",
              "1  Richard Bruce Wright               2001       HarperFlamingo Canada  \n",
              "2          Carlo D'Este               1991             HarperPerennial  \n",
              "3      Gina Bari Kolata               1999        Farrar Straus Giroux  \n",
              "4       E. J. W. Barber               1999  W. W. Norton &amp; Company  "
            ],
            "text/html": [
              "\n",
              "  <div id=\"df-68ac440d-6afc-4e26-80bd-cece7f0f1ae8\">\n",
              "    <div class=\"colab-df-container\">\n",
              "      <div>\n",
              "<style scoped>\n",
              "    .dataframe tbody tr th:only-of-type {\n",
              "        vertical-align: middle;\n",
              "    }\n",
              "\n",
              "    .dataframe tbody tr th {\n",
              "        vertical-align: top;\n",
              "    }\n",
              "\n",
              "    .dataframe thead th {\n",
              "        text-align: right;\n",
              "    }\n",
              "</style>\n",
              "<table border=\"1\" class=\"dataframe\">\n",
              "  <thead>\n",
              "    <tr style=\"text-align: right;\">\n",
              "      <th></th>\n",
              "      <th>ISBN</th>\n",
              "      <th>bookTitle</th>\n",
              "      <th>bookAuthor</th>\n",
              "      <th>yearOfPublication</th>\n",
              "      <th>publisher</th>\n",
              "    </tr>\n",
              "  </thead>\n",
              "  <tbody>\n",
              "    <tr>\n",
              "      <th>0</th>\n",
              "      <td>0195153448</td>\n",
              "      <td>Classical Mythology</td>\n",
              "      <td>Mark P. O. Morford</td>\n",
              "      <td>2002</td>\n",
              "      <td>Oxford University Press</td>\n",
              "    </tr>\n",
              "    <tr>\n",
              "      <th>1</th>\n",
              "      <td>0002005018</td>\n",
              "      <td>Clara Callan</td>\n",
              "      <td>Richard Bruce Wright</td>\n",
              "      <td>2001</td>\n",
              "      <td>HarperFlamingo Canada</td>\n",
              "    </tr>\n",
              "    <tr>\n",
              "      <th>2</th>\n",
              "      <td>0060973129</td>\n",
              "      <td>Decision in Normandy</td>\n",
              "      <td>Carlo D'Este</td>\n",
              "      <td>1991</td>\n",
              "      <td>HarperPerennial</td>\n",
              "    </tr>\n",
              "    <tr>\n",
              "      <th>3</th>\n",
              "      <td>0374157065</td>\n",
              "      <td>Flu: The Story of the Great Influenza Pandemic...</td>\n",
              "      <td>Gina Bari Kolata</td>\n",
              "      <td>1999</td>\n",
              "      <td>Farrar Straus Giroux</td>\n",
              "    </tr>\n",
              "    <tr>\n",
              "      <th>4</th>\n",
              "      <td>0393045218</td>\n",
              "      <td>The Mummies of Urumchi</td>\n",
              "      <td>E. J. W. Barber</td>\n",
              "      <td>1999</td>\n",
              "      <td>W. W. Norton &amp;amp; Company</td>\n",
              "    </tr>\n",
              "  </tbody>\n",
              "</table>\n",
              "</div>\n",
              "      <button class=\"colab-df-convert\" onclick=\"convertToInteractive('df-68ac440d-6afc-4e26-80bd-cece7f0f1ae8')\"\n",
              "              title=\"Convert this dataframe to an interactive table.\"\n",
              "              style=\"display:none;\">\n",
              "        \n",
              "  <svg xmlns=\"http://www.w3.org/2000/svg\" height=\"24px\"viewBox=\"0 0 24 24\"\n",
              "       width=\"24px\">\n",
              "    <path d=\"M0 0h24v24H0V0z\" fill=\"none\"/>\n",
              "    <path d=\"M18.56 5.44l.94 2.06.94-2.06 2.06-.94-2.06-.94-.94-2.06-.94 2.06-2.06.94zm-11 1L8.5 8.5l.94-2.06 2.06-.94-2.06-.94L8.5 2.5l-.94 2.06-2.06.94zm10 10l.94 2.06.94-2.06 2.06-.94-2.06-.94-.94-2.06-.94 2.06-2.06.94z\"/><path d=\"M17.41 7.96l-1.37-1.37c-.4-.4-.92-.59-1.43-.59-.52 0-1.04.2-1.43.59L10.3 9.45l-7.72 7.72c-.78.78-.78 2.05 0 2.83L4 21.41c.39.39.9.59 1.41.59.51 0 1.02-.2 1.41-.59l7.78-7.78 2.81-2.81c.8-.78.8-2.07 0-2.86zM5.41 20L4 18.59l7.72-7.72 1.47 1.35L5.41 20z\"/>\n",
              "  </svg>\n",
              "      </button>\n",
              "      \n",
              "  <style>\n",
              "    .colab-df-container {\n",
              "      display:flex;\n",
              "      flex-wrap:wrap;\n",
              "      gap: 12px;\n",
              "    }\n",
              "\n",
              "    .colab-df-convert {\n",
              "      background-color: #E8F0FE;\n",
              "      border: none;\n",
              "      border-radius: 50%;\n",
              "      cursor: pointer;\n",
              "      display: none;\n",
              "      fill: #1967D2;\n",
              "      height: 32px;\n",
              "      padding: 0 0 0 0;\n",
              "      width: 32px;\n",
              "    }\n",
              "\n",
              "    .colab-df-convert:hover {\n",
              "      background-color: #E2EBFA;\n",
              "      box-shadow: 0px 1px 2px rgba(60, 64, 67, 0.3), 0px 1px 3px 1px rgba(60, 64, 67, 0.15);\n",
              "      fill: #174EA6;\n",
              "    }\n",
              "\n",
              "    [theme=dark] .colab-df-convert {\n",
              "      background-color: #3B4455;\n",
              "      fill: #D2E3FC;\n",
              "    }\n",
              "\n",
              "    [theme=dark] .colab-df-convert:hover {\n",
              "      background-color: #434B5C;\n",
              "      box-shadow: 0px 1px 3px 1px rgba(0, 0, 0, 0.15);\n",
              "      filter: drop-shadow(0px 1px 2px rgba(0, 0, 0, 0.3));\n",
              "      fill: #FFFFFF;\n",
              "    }\n",
              "  </style>\n",
              "\n",
              "      <script>\n",
              "        const buttonEl =\n",
              "          document.querySelector('#df-68ac440d-6afc-4e26-80bd-cece7f0f1ae8 button.colab-df-convert');\n",
              "        buttonEl.style.display =\n",
              "          google.colab.kernel.accessAllowed ? 'block' : 'none';\n",
              "\n",
              "        async function convertToInteractive(key) {\n",
              "          const element = document.querySelector('#df-68ac440d-6afc-4e26-80bd-cece7f0f1ae8');\n",
              "          const dataTable =\n",
              "            await google.colab.kernel.invokeFunction('convertToInteractive',\n",
              "                                                     [key], {});\n",
              "          if (!dataTable) return;\n",
              "\n",
              "          const docLinkHtml = 'Like what you see? Visit the ' +\n",
              "            '<a target=\"_blank\" href=https://colab.research.google.com/notebooks/data_table.ipynb>data table notebook</a>'\n",
              "            + ' to learn more about interactive tables.';\n",
              "          element.innerHTML = '';\n",
              "          dataTable['output_type'] = 'display_data';\n",
              "          await google.colab.output.renderOutput(dataTable, element);\n",
              "          const docLink = document.createElement('div');\n",
              "          docLink.innerHTML = docLinkHtml;\n",
              "          element.appendChild(docLink);\n",
              "        }\n",
              "      </script>\n",
              "    </div>\n",
              "  </div>\n",
              "  "
            ]
          },
          "metadata": {},
          "execution_count": 5
        }
      ]
    },
    {
      "cell_type": "code",
      "source": [
        "import pickle\n",
        "\n",
        "with open(os.path.join(DATA_DIR, 'book_params.pkl'), 'rb') as f:\n",
        "    params = pickle.load(f)\n",
        "\n",
        "id2user = pd.read_csv(os.path.join(DATA_DIR, 'id2user.csv'))\n",
        "data = pd.read_csv(os.path.join(DATA_DIR, 'joinBooksUsers.csv'))"
      ],
      "metadata": {
        "id": "TtJulP8a_oRp"
      },
      "execution_count": null,
      "outputs": []
    },
    {
      "cell_type": "code",
      "source": [
        "U = params['U']"
      ],
      "metadata": {
        "id": "33iW-WsDANxl"
      },
      "execution_count": null,
      "outputs": []
    },
    {
      "cell_type": "code",
      "source": [
        "#illustrate what each dimension of the pmf substitute confounders mean\n",
        "\n",
        "print(\"Which movies has the k-th latent dimension on? \\\n",
        "(The latent dimensions capture book themes.)\")\n",
        "num_top = 5\n",
        "for K in range(4):\n",
        "    topids = U[:,K].argsort()[-num_top:][::-1]\n",
        "    print(\"\\n\\n\\nK = \", K)\n",
        "    print([(i, data[data[\"userId\"]==int(id2user[topid])][\"booktitle\"]) \\\n",
        "           for i, topid in enumerate(topids)])"
      ],
      "metadata": {
        "colab": {
          "base_uri": "https://localhost:8080/"
        },
        "id": "rGnRMszmBCjw",
        "outputId": "26643586-10e0-43e3-b968-c05deaced14e"
      },
      "execution_count": null,
      "outputs": [
        {
          "output_type": "stream",
          "name": "stdout",
          "text": [
            "\n",
            "\n",
            "\n",
            "K =  1\n",
            "\n",
            "[(0, 103    Rich Dad, Poor Dad: What the Rich Teach Their Kids About Money--That the Poor and Middle Class Do Not!\n",
            "Name: title, dtype: object), (1, 106    Creating Wealth : Retire in Ten Years Using Allen's Seven Principles of Wealth!\n",
            "Name: title, dtype: object), (2, 152    Keep It Simple: And Get More Out of Life\n",
            "Name: title, dtype: object), (3, 250    Lies and the Lying Liars Who Tell Them: A Fair and Balanced Look at the Right\n",
            "Name: title, dtype: object), (4, 343    The Best Democracy Money Can Buy: The Truth About Corporate Cons, Globalization and High-Finance Fraudsters\n",
            "\n",
            "\n",
            "\n",
            "K =  2\n",
            "\n",
            "[(0, 43    Pride and Prejudice (Dover Thrift Editions)\n",
            "Name: title, dtype: object), (1, 232    Frankenstein (Dover Thrift Editions)\n",
            "Name: title, dtype: object), (2, 285   Little Women (Signet Classic)\n",
            "Name: title, dtype: object), (3, 286    Emma (Signet Classics (Paperback))\n",
            "Name: title, dtype: object), (4, 288    Great Expectations (Heinemann Guided Readers)\n",
            "\n",
            "\n",
            "\n",
            "K =  3\n",
            "\n",
            "[(0, 81    Black Beauty\n",
            "Name: title, dtype: object), (1,  82    Anil's Ghost \n",
            "Name: title, dtype: object), (2, 171   Skin and Bones\n",
            "Name: title, dtype: object), (3, 170   James and the Giant Peach\n",
            "Name: title, dtype: object), (4, 274    EYE ON CRIME: HARDY BOYS #153\n",
            "\n",
            "\n",
            "\n",
            "K =  4\n",
            "\n",
            "[(0, 116    Digital Fortress : A Thriller\n",
            "Name: title, dtype: object), (1, 120    Angels &amp; Demons\n",
            "Name: title, dtype: object), (2, 164   The Hitchhiker's Guide to the Galaxy\n",
            "Name: title, dtype: object), (3, 179    Deception Point\n",
            "Name: title, dtype: object), (4, 221   Nowhere To Run\n"
          ]
        }
      ]
    },
    {
      "cell_type": "code",
      "source": [
        ""
      ],
      "metadata": {
        "id": "ic3KWUY-Bcaf"
      },
      "execution_count": null,
      "outputs": []
    }
  ]
}