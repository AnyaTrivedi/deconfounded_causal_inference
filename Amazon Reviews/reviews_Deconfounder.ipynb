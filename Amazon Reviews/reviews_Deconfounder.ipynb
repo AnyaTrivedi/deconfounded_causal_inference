{
 "cells": [
  {
   "cell_type": "markdown",
   "metadata": {
    "id": "Cgq_yJ6aIxxM"
   },
   "source": [
    "# Deconfounded Recommender\n",
    "\n",
    "Dataset - Amazon Reviews Dataset\n",
    "\n",
    "Author - Mahima"
   ]
  },
  {
   "cell_type": "markdown",
   "metadata": {
    "id": "sE0imG0HLDgf"
   },
   "source": [
    "# Baseline Model - Probabilistic Matrix Factorization (PMF)\n",
    "\n"
   ]
  },
  {
   "cell_type": "code",
   "execution_count": 86,
   "metadata": {
    "id": "8-65Kyq2Kv8R"
   },
   "outputs": [],
   "source": [
    "import os\n",
    "import sys\n",
    "import pickle\n",
    "import warnings\n",
    "import numpy as np \n",
    "import pandas as pd \n",
    "from ast import literal_eval\n",
    "import matplotlib.pyplot as plt\n",
    "from sklearn import linear_model\n",
    "from sklearn import preprocessing\n",
    "from sklearn.metrics import mean_squared_error\n",
    "from sklearn.feature_extraction.text import TfidfVectorizer, CountVectorizer\n",
    "from sklearn.metrics.pairwise import linear_kernel, cosine_similarity\n",
    "from sklearn.model_selection import train_test_split\n",
    "\n",
    "randseed = 29266137\n"
   ]
  },
  {
   "cell_type": "markdown",
   "metadata": {
    "id": "pDzg9SMk_iW8"
   },
   "source": [
    "download the dataset and unzip it for further use."
   ]
  },
  {
   "cell_type": "code",
   "execution_count": 87,
   "metadata": {
    "colab": {
     "base_uri": "https://localhost:8080/"
    },
    "id": "U9v2vgINZLlJ",
    "outputId": "4b2e9fd3-1fef-4c06-bc94-5948219ad596"
   },
   "outputs": [
    {
     "name": "stdout",
     "output_type": "stream",
     "text": [
      "Defaulting to user installation because normal site-packages is not writeable\n",
      "Requirement already satisfied: opendatasets in /home/mg6827/.local/lib/python3.8/site-packages (0.1.22)\n",
      "Requirement already satisfied: tqdm in /home/mg6827/.local/lib/python3.8/site-packages (from opendatasets) (4.64.0)\n",
      "Requirement already satisfied: click in /home/mg6827/.local/lib/python3.8/site-packages (from opendatasets) (7.1.2)\n",
      "Requirement already satisfied: kaggle in /home/mg6827/.local/lib/python3.8/site-packages (from opendatasets) (1.5.12)\n",
      "Requirement already satisfied: python-dateutil in /share/apps/python/3.8.6/intel/lib/python3.8/site-packages (from kaggle->opendatasets) (2.8.1)\n",
      "Requirement already satisfied: urllib3 in /share/apps/python/3.8.6/intel/lib/python3.8/site-packages (from kaggle->opendatasets) (1.25.10)\n",
      "Requirement already satisfied: six>=1.10 in /share/apps/python/3.8.6/intel/lib/python3.8/site-packages (from kaggle->opendatasets) (1.15.0)\n",
      "Requirement already satisfied: certifi in /share/apps/python/3.8.6/intel/lib/python3.8/site-packages (from kaggle->opendatasets) (2020.6.20)\n",
      "Requirement already satisfied: python-slugify in /home/mg6827/.local/lib/python3.8/site-packages (from kaggle->opendatasets) (6.1.1)\n",
      "Requirement already satisfied: requests in /share/apps/python/3.8.6/intel/lib/python3.8/site-packages (from kaggle->opendatasets) (2.24.0)\n",
      "Requirement already satisfied: text-unidecode>=1.3 in /home/mg6827/.local/lib/python3.8/site-packages (from python-slugify->kaggle->opendatasets) (1.3)\n",
      "Requirement already satisfied: chardet<4,>=3.0.2 in /share/apps/python/3.8.6/intel/lib/python3.8/site-packages (from requests->kaggle->opendatasets) (3.0.4)\n",
      "Requirement already satisfied: idna<3,>=2.5 in /share/apps/python/3.8.6/intel/lib/python3.8/site-packages (from requests->kaggle->opendatasets) (2.10)\n",
      "\u001b[33mWARNING: You are using pip version 20.2.3; however, version 22.0.4 is available.\n",
      "You should consider upgrading via the '/share/apps/python/3.8.6/intel/bin/python -m pip install --upgrade pip' command.\u001b[0m\n",
      "Skipping, found downloaded files in \"./amazon-product-reviews\" (use force=True to force download)\n"
     ]
    }
   ],
   "source": [
    "os.environ['KAGGLE_USERNAME'] = \"mahimagaur3131\" # username from the json file\n",
    "os.environ['KAGGLE_KEY'] = \"f283ab784cb9afd472c90766acabc801\" # key from the json file\n",
    "\n",
    "#Movies Dataset\n",
    "# ! kaggle datasets download -d saurav9786/amazon-product-reviews\n",
    "# !unzip amazon-product-reviews.zip\n",
    "\n",
    "#Amazon Reviews Dataset\n",
    "!pip install opendatasets\n",
    "import opendatasets as od\n",
    "od.download(\"https://www.kaggle.com/datasets/saurav9786/amazon-product-reviews\")\n",
    "# !unzip amazon-product-reviews.zip"
   ]
  },
  {
   "cell_type": "code",
   "execution_count": 88,
   "metadata": {
    "colab": {
     "base_uri": "https://localhost:8080/"
    },
    "id": "dbWjyrOEC5G1",
    "outputId": "9972eb34-0191-435e-b86d-a253ce8884f6"
   },
   "outputs": [
    {
     "name": "stdout",
     "output_type": "stream",
     "text": [
      "(7824482, 4)\n",
      "(7825, 3)\n"
     ]
    }
   ],
   "source": [
    "colnames=['userId', 'itemId', 'rating', 'timestamp'] \n",
    "pwd = os.getcwd()\n",
    "df = pd.read_csv(pwd+'/amazon-product-reviews/ratings_Electronics (1).csv', names=colnames, header=None)\n",
    "print(df.shape)\n",
    "_, df = train_test_split(df, test_size=0.001, random_state=randseed)\n",
    "df = df[['userId', 'itemId', 'rating']]\n",
    "print(df.shape)\n"
   ]
  },
  {
   "cell_type": "markdown",
   "metadata": {
    "id": "STnXs_BhAnsm"
   },
   "source": [
    "Prepare the sparse review matrix R."
   ]
  },
  {
   "cell_type": "code",
   "execution_count": 89,
   "metadata": {
    "id": "BDoGa6i7OFy_"
   },
   "outputs": [],
   "source": [
    "def get_ratings_matrix(df, train_size=0.75):\n",
    "    user_to_row = {}\n",
    "    items_to_column = {}\n",
    "    df_values = df.values\n",
    "    n_dims = 10\n",
    "    parameters = {}\n",
    "    \n",
    "    uniq_users = np.unique(df_values[:, 0])\n",
    "    uniq_items = np.unique(df_values[:, 1])\n",
    "\n",
    "    for i, user_id in enumerate(uniq_users):\n",
    "        user_to_row[user_id] = i\n",
    "\n",
    "    for j, item_id in enumerate(uniq_items):\n",
    "        items_to_column[item_id] = j\n",
    "    \n",
    "    n_users = len(uniq_users)\n",
    "    n_items = len(uniq_items)\n",
    "    \n",
    "    R = np.zeros((n_users, n_items))\n",
    "    \n",
    "    df_copy = df.copy()\n",
    "    train_set = df_copy.sample(frac=train_size, random_state=0)\n",
    "    test_set = df_copy.drop(train_set.index)\n",
    "    \n",
    "    for index, row in train_set.iterrows():\n",
    "        i = user_to_row[row.userId]\n",
    "        j = items_to_column[row.itemId]\n",
    "        R[i, j] = row.rating\n",
    "\n",
    "    return R, train_set, test_set, n_dims, n_users, n_items, user_to_row, items_to_column"
   ]
  },
  {
   "cell_type": "markdown",
   "metadata": {
    "id": "bKIg5iNe5SKn"
   },
   "source": [
    "Let's now call this function and retrieve all necessary parameters."
   ]
  },
  {
   "cell_type": "code",
   "execution_count": 90,
   "metadata": {
    "id": "HBjrbs8VD6_2"
   },
   "outputs": [],
   "source": [
    "R, train_set, test_set, n_dims, n_users, n_items, user_to_row, item_to_column = get_ratings_matrix(df, 0.8)\n",
    "parameters = {}"
   ]
  },
  {
   "cell_type": "markdown",
   "metadata": {
    "id": "2C8nnfseBTOM"
   },
   "source": [
    "We will now initialise our parameters. First the $V$ matrix can be initialised randomly using the following distribution:\n",
    "\n",
    "\\begin{equation}\n",
    "\\large\n",
    "V \\sim \\mathcal N\\left(0, \\frac {1} {\\lambda_V}\\right)\n",
    "\\end{equation}\n",
    "\n",
    "Let's remember that:\n",
    "\n",
    "\\begin{equation}\n",
    "\\large\n",
    "U \\in \\mathbb R^{D\\times N}, \\qquad V \\in \\mathbb R^{D\\times M}\n",
    "\\end{equation}\n",
    "\n",
    "Where $N$ is __n_users__, $M$ is __n_movies__ and $D$ is __n_dims__."
   ]
  },
  {
   "cell_type": "code",
   "execution_count": 91,
   "metadata": {
    "id": "HaM_fnR0Nd_i"
   },
   "outputs": [],
   "source": [
    "def initialize_parameters(lambda_U, lambda_V):\n",
    "    U = np.zeros((n_dims, n_users), dtype=np.float64)\n",
    "    V = np.random.normal(0.0, 1.0 / lambda_V, (n_dims, n_items))\n",
    "    \n",
    "    parameters['U'] = U\n",
    "    parameters['V'] = V\n",
    "    parameters['lambda_U'] = lambda_U\n",
    "    parameters['lambda_V'] = lambda_V"
   ]
  },
  {
   "cell_type": "markdown",
   "metadata": {
    "id": "ntiPL_EnCLe-"
   },
   "source": [
    "Let's now implement the function that updates U and V. The elements of both matrices can be updated using the following expressions:\n",
    "\n",
    "\\begin{equation}\n",
    "\\large\n",
    "U_i=\\left[\\left(V_jV_j^T\\right)_{j\\in\\Omega_{U_i}}+\\lambda_UI\\right]^{-1}\\left(R_{ij}V_j^T\\right)_{j\\in\\Omega_{U_i}}\n",
    "\\end{equation}\n",
    "\n",
    "\\begin{equation}\n",
    "\\large\n",
    "V_j=\\left[\\left(U_iU_i^T\\right)_{i\\in\\Omega_{V_j}}+\\lambda_VI\\right]^{-1}\\left(R_{ij}U_i^T\\right)_{i\\in\\Omega_{V_j}}\n",
    "\\end{equation}"
   ]
  },
  {
   "cell_type": "code",
   "execution_count": 92,
   "metadata": {
    "id": "DjKB4TzFkoJx"
   },
   "outputs": [],
   "source": [
    "def update_parameters():\n",
    "    U = parameters['U']\n",
    "    V = parameters['V']\n",
    "    lambda_U = parameters['lambda_U']\n",
    "    lambda_V = parameters['lambda_V']\n",
    "    \n",
    "    for i in range(n_users):\n",
    "        V_j = V[:, R[i, :] > 0]\n",
    "        U[:, i] = np.dot(np.linalg.inv(np.dot(V_j, V_j.T) + lambda_U * np.identity(n_dims)), np.dot(R[i, R[i, :] > 0], V_j.T))\n",
    "        \n",
    "    for j in range(n_items):\n",
    "        U_i = U[:, R[:, j] > 0]\n",
    "        V[:, j] = np.dot(np.linalg.inv(np.dot(U_i, U_i.T) + lambda_V * np.identity(n_dims)), np.dot(R[R[:, j] > 0, j], U_i.T))\n",
    "        \n",
    "    parameters['U'] = U\n",
    "    parameters['V'] = V"
   ]
  },
  {
   "cell_type": "markdown",
   "metadata": {
    "id": "hQ5in2inJApx"
   },
   "source": [
    "Now let's implement the Log-a posteriori:\n",
    "\n",
    "\\begin{equation}\n",
    "\\large\n",
    "L=-\\frac 1 2 \\left(\\sum_{i=1}^N\\sum_{j=1}^M(R_{ij}-U_i^TV_j)_{(i,j) \\in \\Omega_{R_{ij}}}^2+\\lambda_U\\sum_{i=1}^N\\|U_i\\|_{Fro}^2+\\lambda_V\\sum_{j=1}^M\\|V_j\\|_{Fro}^2\\right)\n",
    "\\end{equation}"
   ]
  },
  {
   "cell_type": "code",
   "execution_count": 93,
   "metadata": {
    "id": "5PUgHUp2MeZI"
   },
   "outputs": [],
   "source": [
    "def log_a_posteriori():\n",
    "    lambda_U = parameters['lambda_U']\n",
    "    lambda_V = parameters['lambda_V']\n",
    "    U = parameters['U']\n",
    "    V = parameters['V']\n",
    "    \n",
    "    UV = np.dot(U.T, V)\n",
    "    R_UV = (R[R > 0] - UV[R > 0])\n",
    "    \n",
    "    return -0.5 * (np.sum(np.dot(R_UV, R_UV.T)) + lambda_U * np.sum(np.dot(U, U.T)) + lambda_V * np.sum(np.dot(V, V.T)))"
   ]
  },
  {
   "cell_type": "markdown",
   "metadata": {
    "id": "68fmuPQrPRnU"
   },
   "source": [
    "The __predict__ function allows us to predict the rating value given the __user_id__ and the __movie_id__ parameters. The value has been scaled within the range 0-5"
   ]
  },
  {
   "cell_type": "code",
   "execution_count": 94,
   "metadata": {
    "id": "neTN8ejbQ5dg"
   },
   "outputs": [],
   "source": [
    "def predict(user_id, item_id):\n",
    "    U = parameters['U']\n",
    "    V = parameters['V']\n",
    "    \n",
    "    r_ij = U[:, user_to_row[user_id]].T.reshape(1, -1) @ V[:, item_to_column[item_id]].reshape(-1, 1)\n",
    "\n",
    "    max_rating = parameters['max_rating']\n",
    "    min_rating = parameters['min_rating']\n",
    "\n",
    "    return 0 if max_rating == min_rating else ((r_ij[0][0] - min_rating) / (max_rating - min_rating)) * 5.0"
   ]
  },
  {
   "cell_type": "markdown",
   "metadata": {
    "id": "7Rt2ol1j7OJ0"
   },
   "source": [
    "The __evaluate__ function will calculate the __RMSE__ of the model given a dataset (train or test)."
   ]
  },
  {
   "cell_type": "code",
   "execution_count": 95,
   "metadata": {
    "id": "jnNGbogWh6OR"
   },
   "outputs": [],
   "source": [
    "def evaluate(dataset):\n",
    "    ground_truths = []\n",
    "    predictions = []\n",
    "    \n",
    "    for index, row in dataset.iterrows():\n",
    "        ground_truths.append(row.loc['rating'])\n",
    "        predictions.append(predict(row.loc['userId'], row.loc['itemId']))\n",
    "    \n",
    "    return mean_squared_error(ground_truths, predictions, squared=False)"
   ]
  },
  {
   "cell_type": "markdown",
   "metadata": {
    "id": "6R1ePeME7qSW"
   },
   "source": [
    "For the purposes of scaling, we need the maximum and minimum rating values."
   ]
  },
  {
   "cell_type": "code",
   "execution_count": 96,
   "metadata": {
    "id": "YNIlELvx0M0W"
   },
   "outputs": [],
   "source": [
    "def update_max_min_ratings():\n",
    "    U = parameters['U']\n",
    "    V = parameters['V']\n",
    "\n",
    "    R = U.T @ V\n",
    "    min_rating = np.min(R)\n",
    "    max_rating = np.max(R)\n",
    "\n",
    "    parameters['min_rating'] = min_rating\n",
    "    parameters['max_rating'] = max_rating"
   ]
  },
  {
   "cell_type": "markdown",
   "metadata": {
    "id": "AZGq6J9pDl5O"
   },
   "source": [
    "The __train__ function implements the code necessary for training the model as well as recording the __RMSE__ values on the training and testing sets."
   ]
  },
  {
   "cell_type": "code",
   "execution_count": 102,
   "metadata": {
    "id": "VYwTD_nBNO5F"
   },
   "outputs": [],
   "source": [
    "def train(n_epochs):\n",
    "    initialize_parameters(0.3, 0.3)\n",
    "    log_aps = []\n",
    "    rmse_train = []\n",
    "    rmse_test = []\n",
    "    update_max_min_ratings()\n",
    "    rmse_train.append(evaluate(train_set))\n",
    "    rmse_test.append(evaluate(test_set))\n",
    "    \n",
    "    for k in range(n_epochs):\n",
    "        update_parameters()\n",
    "        log_ap = log_a_posteriori()\n",
    "        log_aps.append(log_ap)\n",
    "\n",
    "        if (k + 1) % 10 == 0:\n",
    "            update_max_min_ratings()\n",
    "\n",
    "            rmse_train.append(evaluate(train_set))\n",
    "            rmse_test.append(evaluate(test_set))\n",
    "            print('Log p a-posteriori at iteration', k + 1, ':', log_ap)\n",
    "\n",
    "    update_max_min_ratings()\n",
    "\n",
    "    return log_aps, rmse_train, rmse_test"
   ]
  },
  {
   "cell_type": "markdown",
   "metadata": {
    "id": "SJbozBbQPk9A"
   },
   "source": [
    "Let's train our model!"
   ]
  },
  {
   "cell_type": "code",
   "execution_count": 103,
   "metadata": {
    "colab": {
     "base_uri": "https://localhost:8080/"
    },
    "id": "XeH5sRNp7eHA",
    "outputId": "47965055-655f-4c22-b626-5b1be8a0af42"
   },
   "outputs": [
    {
     "name": "stdout",
     "output_type": "stream",
     "text": [
      "Log p a-posteriori at iteration 10 : -6649.741005952103\n",
      "Log p a-posteriori at iteration 20 : -6553.875630932693\n",
      "Log p a-posteriori at iteration 30 : -6549.9361119245805\n",
      "Log p a-posteriori at iteration 40 : -6549.580834192831\n",
      "Log p a-posteriori at iteration 50 : -6549.539175275028\n",
      "Log p a-posteriori at iteration 60 : -6549.533504044123\n",
      "Log p a-posteriori at iteration 70 : -6549.532515543359\n",
      "Log p a-posteriori at iteration 80 : -6549.532245121985\n",
      "Log p a-posteriori at iteration 90 : -6549.532135529434\n",
      "Log p a-posteriori at iteration 100 : -6549.532084243101\n",
      "Log p a-posteriori at iteration 110 : -6549.5320598834705\n",
      "Log p a-posteriori at iteration 120 : -6549.532048508367\n",
      "Log p a-posteriori at iteration 130 : -6549.532043296707\n",
      "Log p a-posteriori at iteration 140 : -6549.532040944373\n",
      "Log p a-posteriori at iteration 150 : -6549.532039893958\n"
     ]
    }
   ],
   "source": [
    "log_ps, rmse_train, rmse_test = train(150)"
   ]
  },
  {
   "cell_type": "markdown",
   "metadata": {
    "id": "TKzp4hukECUE"
   },
   "source": [
    "Now let's take a look at some graphs"
   ]
  },
  {
   "cell_type": "code",
   "execution_count": 104,
   "metadata": {
    "colab": {
     "base_uri": "https://localhost:8080/",
     "height": 607
    },
    "id": "yRr_wko07e37",
    "outputId": "750b05a9-19dd-4a59-ae6b-a683f9e6c37a"
   },
   "outputs": [
    {
     "data": {
      "image/png": "[encoded data removed]",
      "text/plain": [
       "<Figure size 1440x720 with 2 Axes>"
      ]
     },
     "metadata": {
      "needs_background": "light"
     },
     "output_type": "display_data"
    }
   ],
   "source": [
    "_, (ax1, ax2) = plt.subplots(1, 2, figsize=(20, 10))\n",
    "plt.title('Training results')\n",
    "ax1.plot(np.arange(len(log_ps)), log_ps, label='MAP')\n",
    "ax1.legend()\n",
    "\n",
    "ax2.plot(np.arange(len(rmse_train)), rmse_train, label='RMSE train')\n",
    "ax2.plot(np.arange(len(rmse_test)), rmse_test, label='RMSE test')\n",
    "ax2.legend()\n",
    "\n",
    "plt.show()"
   ]
  },
  {
   "cell_type": "markdown",
   "metadata": {
    "id": "-nhrZDHvPx1-"
   },
   "source": [
    "Let's now evaluate our model on both the training and testing sets."
   ]
  },
  {
   "cell_type": "code",
   "execution_count": 106,
   "metadata": {
    "colab": {
     "base_uri": "https://localhost:8080/"
    },
    "id": "L9mKLM7BkuVz",
    "outputId": "d694aa92-cc47-4377-cf6b-de11d2c5dd16"
   },
   "outputs": [
    {
     "name": "stdout",
     "output_type": "stream",
     "text": [
      "RMSE of training set: 0.9761051302411172\n",
      "RMSE of testing set: 2.056411658558598\n"
     ]
    }
   ],
   "source": [
    "print('RMSE of training set:', evaluate(train_set))\n",
    "print('RMSE of testing set:', evaluate(test_set))"
   ]
  },
  {
   "cell_type": "markdown",
   "metadata": {
    "id": "Ls2D-iRqty8x"
   },
   "source": [
    "# The Deconfounder in Action\n",
    "\n"
   ]
  },
  {
   "cell_type": "markdown",
   "metadata": {
    "id": "YQ2aqvoXvaAD"
   },
   "source": [
    "Poisson Matrix Factorization  - The Exposure Model"
   ]
  },
  {
   "cell_type": "markdown",
   "metadata": {
    "id": "yAMcLzUPZEm2"
   },
   "source": [
    "Preparing the exposure data."
   ]
  },
  {
   "cell_type": "code",
   "execution_count": 107,
   "metadata": {
    "id": "_AQXjgbJZCpe"
   },
   "outputs": [],
   "source": [
    "def exposure_data(df, train_size=0.75):\n",
    "    user_to_row = {}\n",
    "    item_to_column = {}\n",
    "    \n",
    "    uniq_users = np.unique(df['userId'])\n",
    "    uniq_items = np.unique(df['itemId'])\n",
    "\n",
    "    for i, user_id in enumerate(uniq_users):\n",
    "        user_to_row[user_id] = i\n",
    "\n",
    "    for j, item_id in enumerate(uniq_items):\n",
    "        item_to_column[item_id] = j\n",
    "    \n",
    "    data = []\n",
    "    n_users = len(uniq_users)\n",
    "    n_items = len(uniq_items)\n",
    "    for row in df.iterrows():\n",
    "      user, item = row[1][0], row[1][1]\n",
    "      data.append((user_to_row[user], item_to_column[item], 1))\n",
    "\n",
    "    exposure_df = pd.DataFrame(data, columns =['userID', 'itemID', 'a'])\n",
    "    #Train-test split\n",
    "    df_copy = exposure_df.copy()\n",
    "    train_set = df_copy.sample(frac=train_size, random_state=0)\n",
    "    test_set = df_copy.drop(train_set.index)\n",
    "    \n",
    "    return exposure_df, train_set, test_set, n_users, n_items, user_to_row, item_to_column\n",
    "\n",
    "\n",
    "exposure_df, train, test, n_users, n_items, user_to_row, item_to_column = exposure_data(df)"
   ]
  },
  {
   "cell_type": "markdown",
   "metadata": {
    "id": "CKyIdJjD7jA0"
   },
   "source": [
    "Step 1 - Fit the exposure model"
   ]
  },
  {
   "cell_type": "code",
   "execution_count": 108,
   "metadata": {
    "colab": {
     "base_uri": "https://localhost:8080/"
    },
    "id": "4UgLhdr9MxnZ",
    "outputId": "7ca9e537-c18e-4ba1-f89c-7f5f41aa9f55"
   },
   "outputs": [
    {
     "name": "stdout",
     "output_type": "stream",
     "text": [
      "Defaulting to user installation because normal site-packages is not writeable\n",
      "Requirement already satisfied: hpfrec in /home/mg6827/.local/lib/python3.8/site-packages (0.2.5.post4)\n",
      "Requirement already satisfied: cython in /share/apps/python/3.8.6/intel/lib/python3.8/site-packages/Cython-0.29.21-py3.8-linux-x86_64.egg (from hpfrec) (0.29.21)\n",
      "Requirement already satisfied: pandas>=0.24 in /share/apps/python/3.8.6/intel/lib/python3.8/site-packages (from hpfrec) (1.1.3)\n",
      "Requirement already satisfied: numpy>=1.18 in /share/apps/python/3.8.6/intel/lib/python3.8/site-packages/numpy-1.19.2-py3.8-linux-x86_64.egg (from hpfrec) (1.19.2)\n",
      "Requirement already satisfied: scipy in /share/apps/python/3.8.6/intel/lib/python3.8/site-packages/scipy-1.5.2-py3.8-linux-x86_64.egg (from hpfrec) (1.5.2)\n",
      "Requirement already satisfied: python-dateutil>=2.7.3 in /share/apps/python/3.8.6/intel/lib/python3.8/site-packages (from pandas>=0.24->hpfrec) (2.8.1)\n",
      "Requirement already satisfied: pytz>=2017.2 in /share/apps/python/3.8.6/intel/lib/python3.8/site-packages (from pandas>=0.24->hpfrec) (2020.1)\n",
      "Requirement already satisfied: six>=1.5 in /share/apps/python/3.8.6/intel/lib/python3.8/site-packages (from python-dateutil>=2.7.3->pandas>=0.24->hpfrec) (1.15.0)\n",
      "\u001b[33mWARNING: You are using pip version 20.2.3; however, version 22.0.4 is available.\n",
      "You should consider upgrading via the '/share/apps/python/3.8.6/intel/bin/python -m pip install --upgrade pip' command.\u001b[0m\n",
      "**********************************\n",
      "Hierarchical Poisson Factorization\n",
      "**********************************\n",
      "\n",
      "Number of users: 7811\n",
      "Number of items: 6506\n",
      "Latent factors to use: 30\n",
      "\n",
      "Initializing parameters...\n",
      "Allocating Phi matrix...\n",
      "Initializing optimization procedure...\n",
      "Iteration 10 | train llk: -101553 | train rmse: 0.9990\n",
      "Iteration 20 | train llk: -101600 | train rmse: 0.9989\n",
      "Iteration 30 | train llk: -101404 | train rmse: 0.9988\n",
      "Iteration 40 | train llk: -101396 | train rmse: 0.9988\n",
      "Iteration 50 | train llk: -101395 | train rmse: 0.9988\n",
      "Iteration 60 | train llk: -101394 | train rmse: 0.9988\n",
      "Iteration 70 | train llk: -101393 | train rmse: 0.9988\n",
      "Iteration 80 | train llk: -101393 | train rmse: 0.9988\n",
      "Iteration 90 | train llk: -101394 | train rmse: 0.9988\n",
      "Iteration 100 | train llk: -101394 | train rmse: 0.9988\n",
      "\n",
      "\n",
      "Optimization finished\n",
      "Final log-likelihood: -101394\n",
      "Final RMSE: 0.9988\n",
      "Minutes taken (optimization part): 0.1\n",
      "\n"
     ]
    }
   ],
   "source": [
    "! pip install hpfrec\n",
    "import pandas as pd, numpy as np\n",
    "from hpfrec import HPF\n",
    "exposure_df.columns = ['UserId', 'ItemId', 'Count']\n",
    "recommender = HPF()\n",
    "param = recommender.fit(exposure_df)"
   ]
  },
  {
   "cell_type": "markdown",
   "metadata": {
    "id": "ErIWllM49IEy"
   },
   "source": [
    "Some data preprocessing"
   ]
  },
  {
   "cell_type": "code",
   "execution_count": 109,
   "metadata": {
    "id": "dbE2DJyHv1gr"
   },
   "outputs": [],
   "source": [
    "def matrix_X(R):\n",
    "  X = []\n",
    "  for i in range(len(R)):\n",
    "    row = [1 if val == 1 else 0 for val in R[i]]\n",
    "    X.append(row)\n",
    "  return X\n",
    "\n",
    "X = matrix_X(R)\n",
    "ratings = df['rating']\n",
    "y = R\n",
    "pmfU = param.Theta\n",
    "\n",
    "y_scaler = preprocessing.StandardScaler().fit(y)\n",
    "y_scaled = y_scaler.fit_transform(y)\n",
    "\n",
    "X_scaler = preprocessing.StandardScaler().fit(X)\n",
    "X_scaled = X_scaler.fit_transform(X)\n",
    "\n",
    "pmfU_scaler = preprocessing.StandardScaler().fit(pmfU)\n",
    "pmfU_scaled = pmfU_scaler.fit_transform(pmfU)\n",
    "\n",
    "X_train, X_test = train_test_split(X_scaled, test_size=0.20, random_state=randseed)\n",
    "y_train, y_test = train_test_split(y_scaled, test_size=0.20, random_state=randseed)\n",
    "pmfU_train, pmfU_test = train_test_split(pmfU_scaled, test_size=0.20, random_state=randseed)\n",
    "n_users, n_items = X_train.shape"
   ]
  },
  {
   "cell_type": "markdown",
   "metadata": {
    "id": "u-oEzCuE8jCJ"
   },
   "source": [
    "Step 2 - Fit the outcome model"
   ]
  },
  {
   "cell_type": "code",
   "execution_count": 110,
   "metadata": {
    "id": "GFrpisFYO6X1"
   },
   "outputs": [],
   "source": [
    "import warnings\n",
    "warnings.filterwarnings('ignore')\n",
    "reg = linear_model.Ridge(normalize=True)\n",
    "for i in range(n_items):\n",
    "#     if i%100 == 0:\n",
    "#       print('---- Fitting row', i, '----')\n",
    "    reg.fit(np.column_stack([X_train[:,i], pmfU_train]), y_train[:,i])"
   ]
  },
  {
   "cell_type": "markdown",
   "metadata": {
    "id": "L4WOvXJX9l26"
   },
   "source": [
    "Step 4 - Estimate potential ratings"
   ]
  },
  {
   "cell_type": "code",
   "execution_count": 111,
   "metadata": {
    "id": "7jgYJZRb865Z"
   },
   "outputs": [],
   "source": [
    "test_items = X_test.shape[1]\n",
    "prediction = []\n",
    "\n",
    "for i in range(test_items):\n",
    "#     if i%100 == 0:\n",
    "#       print('---- Predicting row', i, '----')\n",
    "    res = reg.predict(np.column_stack([X_test[:,i], pmfU_test]))\n",
    "    prediction.append(res)"
   ]
  },
  {
   "cell_type": "markdown",
   "metadata": {
    "id": "jkKUVmRL9thn"
   },
   "source": [
    "Evaluate the model"
   ]
  },
  {
   "cell_type": "code",
   "execution_count": 112,
   "metadata": {
    "colab": {
     "base_uri": "https://localhost:8080/"
    },
    "id": "ytUp9Afw8iRQ",
    "outputId": "d707241f-ff9f-4af2-a5a0-60cffe46d838"
   },
   "outputs": [
    {
     "name": "stdout",
     "output_type": "stream",
     "text": [
      "0.7829110024758507\n"
     ]
    }
   ],
   "source": [
    "y_test = np.transpose(y_test)\n",
    "rmse = mean_squared_error(y_test, prediction, squared=False)\n",
    "print(rmse)"
   ]
  },
  {
   "cell_type": "markdown",
   "metadata": {
    "id": "iA904GSo9xsB"
   },
   "source": [
    "*   Baseline MSE = 2.0\n",
    "*   Decounder MSE = 0.78\n",
    "\n",
    "\n"
   ]
  }
 ],
 "metadata": {
  "colab": {
   "collapsed_sections": [],
   "name": "reviews_Deconfounder.ipynb",
   "provenance": []
  },
  "kernelspec": {
   "display_name": "Python 3",
   "language": "python",
   "name": "python3"
  },
  "language_info": {
   "codemirror_mode": {
    "name": "ipython",
    "version": 3
   },
   "file_extension": ".py",
   "mimetype": "text/x-python",
   "name": "python",
   "nbconvert_exporter": "python",
   "pygments_lexer": "ipython3",
   "version": "3.8.6"
  }
 },
 "nbformat": 4,
 "nbformat_minor": 4
}
