{
 "cells": [
  {
   "cell_type": "code",
   "execution_count": 1,
   "metadata": {},
   "outputs": [
    {
     "name": "stderr",
     "output_type": "stream",
     "text": [
      "/home/uk2051/.local/lib/python3.8/site-packages/numpy/core/getlimits.py:499: UserWarning: The value of the smallest subnormal for <class 'numpy.float64'> type is zero.\n",
      "  setattr(self, word, getattr(machar, word).flat[0])\n",
      "/home/uk2051/.local/lib/python3.8/site-packages/numpy/core/getlimits.py:89: UserWarning: The value of the smallest subnormal for <class 'numpy.float64'> type is zero.\n",
      "  return self._float_to_str(self.smallest_subnormal)\n",
      "/home/uk2051/.local/lib/python3.8/site-packages/numpy/core/getlimits.py:499: UserWarning: The value of the smallest subnormal for <class 'numpy.float32'> type is zero.\n",
      "  setattr(self, word, getattr(machar, word).flat[0])\n",
      "/home/uk2051/.local/lib/python3.8/site-packages/numpy/core/getlimits.py:89: UserWarning: The value of the smallest subnormal for <class 'numpy.float32'> type is zero.\n",
      "  return self._float_to_str(self.smallest_subnormal)\n"
     ]
    }
   ],
   "source": [
    "#Fitting exposure matrix using PCA\n",
    "from sklearn.decomposition import PCA\n",
    "from sklearn import preprocessing\n",
    "\n",
    "\n",
    "\n",
    "\n",
    "\n",
    "\n",
    "#Row represent userIds, Columns represent songIds\n",
    "#dim are number of latent factors\n",
    "#exposureMatrix is numpy matrix, with row represents every user and column representing every feature\n",
    "def GetFactorsForRowsAndColumns(dim, exposureMatrix):\n",
    "    Xscaler = preprocessing.StandardScaler(with_std=False).fit(exposureMatrix)\n",
    "    Xscaled = Xscaler.fit_transform(exposureMatrix)\n",
    "    pca = PCA(n_components=dim)\n",
    "    pca.fit(Xscaled)\n",
    "    rowFactors = pca.fit_transform(Xscaled)\n",
    "    colFactors = pca.components_.T\n",
    "\n",
    "    #Shape of row factors will be (num of rows) x (latent dim)\n",
    "    #Shape of column factors will be (num of cols) x (latent dim)\n",
    "    \n",
    "    return rowFactors, colFactors\n",
    "\n"
   ]
  },
  {
   "cell_type": "code",
   "execution_count": 2,
   "metadata": {},
   "outputs": [],
   "source": [
    "import os\n",
    "import sys\n",
    "import pickle\n",
    "import warnings\n",
    "import numpy as np \n",
    "import pandas as pd \n",
    "from ast import literal_eval\n",
    "import matplotlib.pyplot as plt\n",
    "from scipy import sparse, stats\n",
    "from sklearn import linear_model\n",
    "from sklearn import preprocessing\n",
    "from sklearn.metrics import mean_squared_error\n",
    "from sklearn.feature_extraction.text import TfidfVectorizer, CountVectorizer\n",
    "from sklearn.metrics.pairwise import linear_kernel, cosine_similarity\n",
    "from sklearn.model_selection import train_test_split\n",
    "\n",
    "randseed = 29266137"
   ]
  },
  {
   "cell_type": "code",
   "execution_count": 73,
   "metadata": {},
   "outputs": [],
   "source": [
    "def PreprocessData():\n",
    "    df = pd.read_csv('/home/uk2051/ML_Project/songsDataset.csv')\n",
    "    df = df.rename({\"\\'userID\\'\": \"userId\", \"\\'songID\\'\": \"movieId\", \"\\'rating\\'\": \"rating\"}, axis='columns')\n",
    "    \n",
    "    df = df.drop(labels = range(10000,2000000), axis = 0)\n",
    "    songIntCode, songUniques = pd.factorize(df['movieId'], sort=True) #Reindexing songs ids\n",
    "    df['movieId'] = songIntCode\n",
    "    return df"
   ]
  },
  {
   "cell_type": "code",
   "execution_count": 74,
   "metadata": {},
   "outputs": [],
   "source": [
    "df = PreprocessData()"
   ]
  },
  {
   "cell_type": "code",
   "execution_count": 75,
   "metadata": {},
   "outputs": [
    {
     "data": {
      "text/html": [
       "<div>\n",
       "<style scoped>\n",
       "    .dataframe tbody tr th:only-of-type {\n",
       "        vertical-align: middle;\n",
       "    }\n",
       "\n",
       "    .dataframe tbody tr th {\n",
       "        vertical-align: top;\n",
       "    }\n",
       "\n",
       "    .dataframe thead th {\n",
       "        text-align: right;\n",
       "    }\n",
       "</style>\n",
       "<table border=\"1\" class=\"dataframe\">\n",
       "  <thead>\n",
       "    <tr style=\"text-align: right;\">\n",
       "      <th></th>\n",
       "      <th>userId</th>\n",
       "      <th>movieId</th>\n",
       "      <th>rating</th>\n",
       "    </tr>\n",
       "  </thead>\n",
       "  <tbody>\n",
       "    <tr>\n",
       "      <th>0</th>\n",
       "      <td>0</td>\n",
       "      <td>382</td>\n",
       "      <td>5</td>\n",
       "    </tr>\n",
       "    <tr>\n",
       "      <th>1</th>\n",
       "      <td>0</td>\n",
       "      <td>448</td>\n",
       "      <td>4</td>\n",
       "    </tr>\n",
       "    <tr>\n",
       "      <th>2</th>\n",
       "      <td>0</td>\n",
       "      <td>1185</td>\n",
       "      <td>4</td>\n",
       "    </tr>\n",
       "    <tr>\n",
       "      <th>3</th>\n",
       "      <td>0</td>\n",
       "      <td>1891</td>\n",
       "      <td>5</td>\n",
       "    </tr>\n",
       "    <tr>\n",
       "      <th>4</th>\n",
       "      <td>0</td>\n",
       "      <td>4466</td>\n",
       "      <td>5</td>\n",
       "    </tr>\n",
       "  </tbody>\n",
       "</table>\n",
       "</div>"
      ],
      "text/plain": [
       "   userId  movieId  rating\n",
       "0       0      382       5\n",
       "1       0      448       4\n",
       "2       0     1185       4\n",
       "3       0     1891       5\n",
       "4       0     4466       5"
      ]
     },
     "execution_count": 75,
     "metadata": {},
     "output_type": "execute_result"
    }
   ],
   "source": [
    "df.head()"
   ]
  },
  {
   "cell_type": "code",
   "execution_count": 78,
   "metadata": {},
   "outputs": [],
   "source": [
    "def exposure_data(df, train_size=0.75):\n",
    "    user_to_row = {}\n",
    "    movie_to_column = {}\n",
    "    \n",
    "    uniq_users = np.unique(df['userId'])\n",
    "    uniq_movies = np.unique(df['movieId'])\n",
    "\n",
    "    for i, user_id in enumerate(uniq_users):\n",
    "        user_to_row[user_id] = i\n",
    "\n",
    "    for j, movie_id in enumerate(uniq_movies):\n",
    "        movie_to_column[movie_id] = j\n",
    "    \n",
    "    data = []\n",
    "    n_users = len(uniq_users)\n",
    "    n_movies = len(uniq_movies)\n",
    "    for row in df.iterrows():\n",
    "      user, movie = row[1][0], row[1][1]\n",
    "      data.append((user_to_row[user], movie_to_column[movie], 1))\n",
    "\n",
    "    exposure_df = pd.DataFrame(data, columns =['userid', 'movieid', 'a'])\n",
    "    #Train-test split\n",
    "    df_copy = exposure_df.copy()\n",
    "    train_set = df_copy.sample(frac=train_size, random_state=0)\n",
    "    test_set = df_copy.drop(train_set.index)\n",
    "    \n",
    "    return exposure_df, train_set, test_set, n_users, n_movies, user_to_row, movie_to_column\n",
    "\n",
    "\n",
    "exposure_df, train, test, n_users, n_movies, user_to_row, movie_to_column = exposure_data(df)"
   ]
  },
  {
   "cell_type": "code",
   "execution_count": 79,
   "metadata": {},
   "outputs": [
    {
     "data": {
      "text/html": [
       "<div>\n",
       "<style scoped>\n",
       "    .dataframe tbody tr th:only-of-type {\n",
       "        vertical-align: middle;\n",
       "    }\n",
       "\n",
       "    .dataframe tbody tr th {\n",
       "        vertical-align: top;\n",
       "    }\n",
       "\n",
       "    .dataframe thead th {\n",
       "        text-align: right;\n",
       "    }\n",
       "</style>\n",
       "<table border=\"1\" class=\"dataframe\">\n",
       "  <thead>\n",
       "    <tr style=\"text-align: right;\">\n",
       "      <th></th>\n",
       "      <th>userid</th>\n",
       "      <th>movieid</th>\n",
       "      <th>a</th>\n",
       "    </tr>\n",
       "  </thead>\n",
       "  <tbody>\n",
       "    <tr>\n",
       "      <th>0</th>\n",
       "      <td>0</td>\n",
       "      <td>382</td>\n",
       "      <td>1</td>\n",
       "    </tr>\n",
       "    <tr>\n",
       "      <th>1</th>\n",
       "      <td>0</td>\n",
       "      <td>448</td>\n",
       "      <td>1</td>\n",
       "    </tr>\n",
       "    <tr>\n",
       "      <th>2</th>\n",
       "      <td>0</td>\n",
       "      <td>1185</td>\n",
       "      <td>1</td>\n",
       "    </tr>\n",
       "    <tr>\n",
       "      <th>3</th>\n",
       "      <td>0</td>\n",
       "      <td>1891</td>\n",
       "      <td>1</td>\n",
       "    </tr>\n",
       "    <tr>\n",
       "      <th>4</th>\n",
       "      <td>0</td>\n",
       "      <td>4466</td>\n",
       "      <td>1</td>\n",
       "    </tr>\n",
       "  </tbody>\n",
       "</table>\n",
       "</div>"
      ],
      "text/plain": [
       "   userid  movieid  a\n",
       "0       0      382  1\n",
       "1       0      448  1\n",
       "2       0     1185  1\n",
       "3       0     1891  1\n",
       "4       0     4466  1"
      ]
     },
     "execution_count": 79,
     "metadata": {},
     "output_type": "execute_result"
    }
   ],
   "source": [
    "exposure_df.head()"
   ]
  },
  {
   "cell_type": "code",
   "execution_count": 81,
   "metadata": {},
   "outputs": [],
   "source": [
    "a_matrix = sparse.coo_matrix((exposure_df['a'],(exposure_df['userid'],exposure_df['movieid'])),shape=(n_users,n_movies))"
   ]
  },
  {
   "cell_type": "code",
   "execution_count": 82,
   "metadata": {},
   "outputs": [
    {
     "name": "stdout",
     "output_type": "stream",
     "text": [
      "<class 'scipy.sparse.coo.coo_matrix'>\n",
      "<class 'numpy.matrix'>\n",
      "<class 'list'>\n"
     ]
    }
   ],
   "source": [
    "a_matrix.shape\n",
    "print(type(a_matrix))\n",
    "a_matrix = a_matrix.todense()\n",
    "print(type(a_matrix))\n",
    "a_matrix = a_matrix.tolist()\n",
    "print(type(a_matrix))"
   ]
  },
  {
   "cell_type": "code",
   "execution_count": 127,
   "metadata": {},
   "outputs": [],
   "source": [
    "userFactors, songsFactor = GetFactorsForRowsAndColumns(20, a_matrix)"
   ]
  },
  {
   "cell_type": "code",
   "execution_count": 128,
   "metadata": {},
   "outputs": [
    {
     "name": "stdout",
     "output_type": "stream",
     "text": [
      "(1000, 20)\n"
     ]
    }
   ],
   "source": [
    "print(userFactors.shape)"
   ]
  },
  {
   "cell_type": "code",
   "execution_count": 129,
   "metadata": {},
   "outputs": [],
   "source": [
    "def get_ratings_matrix(df, train_size=0.75):\n",
    "    user_to_row = {}\n",
    "    movie_to_column = {}\n",
    "    df_values = df.values\n",
    "    n_dims = 10\n",
    "    parameters = {}\n",
    "    \n",
    "    uniq_users = np.unique(df_values[:, 0])\n",
    "    uniq_movies = np.unique(df_values[:, 1])\n",
    "\n",
    "    for i, user_id in enumerate(uniq_users):\n",
    "        user_to_row[user_id] = i\n",
    "\n",
    "    for j, movie_id in enumerate(uniq_movies):\n",
    "        movie_to_column[movie_id] = j\n",
    "    \n",
    "    n_users = len(uniq_users)\n",
    "    n_movies = len(uniq_movies)\n",
    "    \n",
    "    R = np.zeros((n_users, n_movies))\n",
    "    \n",
    "    df_copy = df.copy()\n",
    "    train_set = df_copy.sample(frac=train_size, random_state=0)\n",
    "    test_set = df_copy.drop(train_set.index)\n",
    "    \n",
    "    for index, row in train_set.iterrows():\n",
    "        i = user_to_row[row.userId]\n",
    "        j = movie_to_column[row.movieId]\n",
    "        R[i, j] = row.rating\n",
    "\n",
    "    return R, train_set, test_set, n_dims, n_users, n_movies, user_to_row, movie_to_column"
   ]
  },
  {
   "cell_type": "code",
   "execution_count": 130,
   "metadata": {},
   "outputs": [],
   "source": [
    "R, train_set, test_set, n_dims, n_users, n_movies, user_to_row, movie_to_column = get_ratings_matrix(df, 0.8)"
   ]
  },
  {
   "cell_type": "code",
   "execution_count": 154,
   "metadata": {},
   "outputs": [],
   "source": [
    "def matrix_X(R):\n",
    "  X = []\n",
    "  for i in range(len(R)):\n",
    "    row = [1 if val == 1 else 0 for val in R[i]]\n",
    "    X.append(row)\n",
    "  return X\n",
    "\n",
    "X = matrix_X(R)\n",
    "y = R #Rating matrix\n",
    "y_scaler = preprocessing.StandardScaler().fit(y)\n",
    "y_scaled = y_scaler.fit_transform(y)\n",
    "\n",
    "X_scaler = preprocessing.StandardScaler().fit(X)\n",
    "X_scaled = X_scaler.fit_transform(X)\n",
    "\n",
    "pmfU_scaler = preprocessing.StandardScaler().fit(userFactors)\n",
    "pmfU_scaled = pmfU_scaler.fit_transform(userFactors)"
   ]
  },
  {
   "cell_type": "code",
   "execution_count": 155,
   "metadata": {},
   "outputs": [],
   "source": [
    "X_train, X_test = train_test_split(X_scaled, test_size=0.20, random_state=randseed)\n",
    "y_train, y_test = train_test_split(y_scaled, test_size=0.20, random_state=randseed)\n",
    "pmfU_train, pmfU_test = train_test_split(pmfU_scaled, test_size=0.20, random_state=randseed)\n",
    "n_users, n_items = X_train.shape"
   ]
  },
  {
   "cell_type": "code",
   "execution_count": null,
   "metadata": {},
   "outputs": [],
   "source": []
  },
  {
   "cell_type": "code",
   "execution_count": 156,
   "metadata": {},
   "outputs": [
    {
     "name": "stdout",
     "output_type": "stream",
     "text": [
      "1000\n",
      "(800, 7389)\n",
      "(800, 7389)\n",
      "(200, 7389)\n",
      "(200, 7389)\n",
      "(800, 20)\n",
      "(200, 20)\n",
      "7389\n"
     ]
    }
   ],
   "source": [
    "print(len(X))\n",
    "print(X_train.shape)\n",
    "print(y_train.shape)\n",
    "print(X_test.shape)\n",
    "print(y_test.shape)\n",
    "print(pmfU_train.shape)\n",
    "print(pmfU_test.shape)\n",
    "print(n_items)"
   ]
  },
  {
   "cell_type": "code",
   "execution_count": 159,
   "metadata": {},
   "outputs": [],
   "source": [
    "import warnings\n",
    "warnings.filterwarnings('ignore')\n",
    "reg = linear_model.Ridge(normalize=True)\n",
    "for i in range(n_items):\n",
    "    reg.fit(np.column_stack([X_train[:,i], pmfU_train]), y_train[:,i])"
   ]
  },
  {
   "cell_type": "code",
   "execution_count": 160,
   "metadata": {},
   "outputs": [],
   "source": [
    "test_items = X_test.shape[1]\n",
    "prediction = []\n",
    "\n",
    "for i in range(test_items):\n",
    "    res = reg.predict(np.column_stack([X_test[:,i], pmfU_test]))\n",
    "    prediction.append(res)"
   ]
  },
  {
   "cell_type": "code",
   "execution_count": 161,
   "metadata": {},
   "outputs": [
    {
     "name": "stdout",
     "output_type": "stream",
     "text": [
      "0.8880783998490532\n"
     ]
    }
   ],
   "source": [
    "y_test = np.transpose(y_test)\n",
    "rmse = mean_squared_error(y_test, prediction, squared=False)\n",
    "print(rmse)"
   ]
  }
 ],
 "metadata": {
  "kernelspec": {
   "display_name": "Python 3",
   "language": "python",
   "name": "python3"
  },
  "language_info": {
   "codemirror_mode": {
    "name": "ipython",
    "version": 3
   },
   "file_extension": ".py",
   "mimetype": "text/x-python",
   "name": "python",
   "nbconvert_exporter": "python",
   "pygments_lexer": "ipython3",
   "version": "3.8.6"
  }
 },
 "nbformat": 4,
 "nbformat_minor": 4
}
