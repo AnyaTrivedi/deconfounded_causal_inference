{
 "cells": [
  {
   "cell_type": "markdown",
   "metadata": {},
   "source": [
    "# Songs Recommendation using Deconfounder"
   ]
  },
  {
   "cell_type": "code",
   "execution_count": 1,
   "metadata": {},
   "outputs": [
    {
     "name": "stderr",
     "output_type": "stream",
     "text": [
      "/home/uk2051/.local/lib/python3.8/site-packages/numpy/core/getlimits.py:499: UserWarning: The value of the smallest subnormal for <class 'numpy.float64'> type is zero.\n",
      "  setattr(self, word, getattr(machar, word).flat[0])\n",
      "/home/uk2051/.local/lib/python3.8/site-packages/numpy/core/getlimits.py:89: UserWarning: The value of the smallest subnormal for <class 'numpy.float64'> type is zero.\n",
      "  return self._float_to_str(self.smallest_subnormal)\n",
      "/home/uk2051/.local/lib/python3.8/site-packages/numpy/core/getlimits.py:499: UserWarning: The value of the smallest subnormal for <class 'numpy.float32'> type is zero.\n",
      "  setattr(self, word, getattr(machar, word).flat[0])\n",
      "/home/uk2051/.local/lib/python3.8/site-packages/numpy/core/getlimits.py:89: UserWarning: The value of the smallest subnormal for <class 'numpy.float32'> type is zero.\n",
      "  return self._float_to_str(self.smallest_subnormal)\n"
     ]
    }
   ],
   "source": [
    "import os\n",
    "import sys\n",
    "import pickle\n",
    "import warnings\n",
    "import numpy as np \n",
    "import pandas as pd \n",
    "from ast import literal_eval\n",
    "import matplotlib.pyplot as plt\n",
    "from scipy import sparse, stats\n",
    "from sklearn import linear_model\n",
    "from sklearn import preprocessing\n",
    "from sklearn.metrics import mean_squared_error\n",
    "from sklearn.feature_extraction.text import TfidfVectorizer, CountVectorizer\n",
    "from sklearn.metrics.pairwise import linear_kernel, cosine_similarity\n",
    "from sklearn.model_selection import train_test_split\n",
    "\n",
    "randseed = 29266137"
   ]
  },
  {
   "cell_type": "markdown",
   "metadata": {},
   "source": [
    "Reading data and preprocessing it"
   ]
  },
  {
   "cell_type": "code",
   "execution_count": 2,
   "metadata": {},
   "outputs": [],
   "source": [
    "def PreprocessData():\n",
    "    df = pd.read_csv('/home/uk2051/ML_Project/songsDataset.csv')\n",
    "    df = df.rename({\"\\'userID\\'\": \"userId\", \"\\'songID\\'\": \"movieId\", \"\\'rating\\'\": \"rating\"}, axis='columns')\n",
    "    \n",
    "    df = df.drop(labels = range(10000,2000000), axis = 0)\n",
    "    songIntCode, songUniques = pd.factorize(df['movieId'], sort=True) #Reindexing songs ids\n",
    "    df['songID'] = songIntCode\n",
    "    return df\n",
    "\n"
   ]
  },
  {
   "cell_type": "code",
   "execution_count": 3,
   "metadata": {},
   "outputs": [],
   "source": [
    "df = PreprocessData()"
   ]
  },
  {
   "cell_type": "code",
   "execution_count": 4,
   "metadata": {},
   "outputs": [],
   "source": [
    "def get_ratings_matrix(df, train_size=0.75):\n",
    "    user_to_row = {}\n",
    "    movie_to_column = {}\n",
    "    df_values = df.values\n",
    "    n_dims = 10\n",
    "    parameters = {}\n",
    "    \n",
    "    uniq_users = np.unique(df_values[:, 0])\n",
    "    uniq_movies = np.unique(df_values[:, 1])\n",
    "\n",
    "    for i, UserId in enumerate(uniq_users):\n",
    "        user_to_row[UserId] = i\n",
    "\n",
    "    for j, ItemId in enumerate(uniq_movies):\n",
    "        movie_to_column[ItemId] = j\n",
    "    \n",
    "    n_users = len(uniq_users)\n",
    "    n_movies = len(uniq_movies)\n",
    "    \n",
    "    R = np.zeros((n_users, n_movies))\n",
    "    \n",
    "    df_copy = df.copy()\n",
    "    train_set = df_copy.sample(frac=train_size, random_state=0)\n",
    "    test_set = df_copy.drop(train_set.index)\n",
    "    \n",
    "    for index, row in train_set.iterrows():\n",
    "        i = user_to_row[row.userId]\n",
    "        j = movie_to_column[row.movieId]\n",
    "        R[i, j] = row.rating\n",
    "\n",
    "    return R, train_set, test_set, n_dims, n_users, n_movies, user_to_row, movie_to_column"
   ]
  },
  {
   "cell_type": "code",
   "execution_count": 5,
   "metadata": {},
   "outputs": [],
   "source": [
    "R, train_set, test_set, n_dims, n_users, n_movies, user_to_row, movie_to_column = get_ratings_matrix(df, 0.8)"
   ]
  },
  {
   "cell_type": "code",
   "execution_count": 6,
   "metadata": {},
   "outputs": [],
   "source": [
    "#Base Line Model\n",
    "parameters = {}"
   ]
  },
  {
   "cell_type": "code",
   "execution_count": 7,
   "metadata": {},
   "outputs": [],
   "source": [
    "def initialize_parameters(lambda_U, lambda_V):\n",
    "    U = np.zeros((n_dims, n_users), dtype=np.float64)\n",
    "    V = np.random.normal(0.0, 1.0 / lambda_V, (n_dims, n_movies))\n",
    "    \n",
    "    parameters['U'] = U\n",
    "    parameters['V'] = V\n",
    "    parameters['lambda_U'] = lambda_U\n",
    "    parameters['lambda_V'] = lambda_V\n",
    "    \n",
    "def update_parameters():\n",
    "    U = parameters['U']\n",
    "    V = parameters['V']\n",
    "    lambda_U = parameters['lambda_U']\n",
    "    lambda_V = parameters['lambda_V']\n",
    "    \n",
    "    for i in range(n_users):\n",
    "        V_j = V[:, R[i, :] > 0]\n",
    "        U[:, i] = np.dot(np.linalg.inv(np.dot(V_j, V_j.T) + lambda_U * np.identity(n_dims)), np.dot(R[i, R[i, :] > 0], V_j.T))\n",
    "        \n",
    "    for j in range(n_movies):\n",
    "        U_i = U[:, R[:, j] > 0]\n",
    "        V[:, j] = np.dot(np.linalg.inv(np.dot(U_i, U_i.T) + lambda_V * np.identity(n_dims)), np.dot(R[R[:, j] > 0, j], U_i.T))\n",
    "        \n",
    "    parameters['U'] = U\n",
    "    parameters['V'] = V\n",
    "    \n",
    "def log_a_posteriori():\n",
    "    lambda_U = parameters['lambda_U']\n",
    "    lambda_V = parameters['lambda_V']\n",
    "    U = parameters['U']\n",
    "    V = parameters['V']\n",
    "    \n",
    "    UV = np.dot(U.T, V)\n",
    "    R_UV = (R[R > 0] - UV[R > 0])\n",
    "    \n",
    "    return -0.5 * (np.sum(np.dot(R_UV, R_UV.T)) + lambda_U * np.sum(np.dot(U, U.T)) + lambda_V * np.sum(np.dot(V, V.T)))   \n",
    "\n",
    "def predict(user_id, movie_id):\n",
    "    U = parameters['U']\n",
    "    V = parameters['V']\n",
    "    \n",
    "    r_ij = U[:, user_to_row[user_id]].T.reshape(1, -1) @ V[:, movie_to_column[movie_id]].reshape(-1, 1)\n",
    "\n",
    "    max_rating = parameters['max_rating']\n",
    "    min_rating = parameters['min_rating']\n",
    "\n",
    "    return 0 if max_rating == min_rating else ((r_ij[0][0] - min_rating) / (max_rating - min_rating)) * 5.0\n",
    "\n",
    "def evaluate(dataset):\n",
    "    ground_truths = []\n",
    "    predictions = []\n",
    "    \n",
    "    for index, row in dataset.iterrows():\n",
    "        ground_truths.append(row.loc['rating'])\n",
    "        predictions.append(predict(row.loc['userId'], row.loc['movieId']))\n",
    "    \n",
    "    return mean_squared_error(ground_truths, predictions, squared=False)\n",
    "\n",
    "\n",
    "def update_max_min_ratings():\n",
    "    U = parameters['U']\n",
    "    V = parameters['V']\n",
    "\n",
    "    R = U.T @ V\n",
    "    min_rating = np.min(R)\n",
    "    max_rating = np.max(R)\n",
    "\n",
    "    parameters['min_rating'] = min_rating\n",
    "    parameters['max_rating'] = max_rating\n",
    "    \n",
    "def train(n_epochs):\n",
    "    initialize_parameters(0.3, 0.3)\n",
    "    log_aps = []\n",
    "    rmse_train = []\n",
    "    rmse_test = []\n",
    "\n",
    "    update_max_min_ratings()\n",
    "    rmse_train.append(evaluate(train_set))\n",
    "    rmse_test.append(evaluate(test_set))\n",
    "    \n",
    "    for k in range(n_epochs):\n",
    "        update_parameters()\n",
    "        log_ap = log_a_posteriori()\n",
    "        log_aps.append(log_ap)\n",
    "\n",
    "        if (k + 1) % 10 == 0:\n",
    "            update_max_min_ratings()\n",
    "\n",
    "            rmse_train.append(evaluate(train_set))\n",
    "            rmse_test.append(evaluate(test_set))\n",
    "            print('Log p a-posteriori at iteration', k + 1, ':', log_ap)\n",
    "\n",
    "    update_max_min_ratings()\n",
    "\n",
    "    return log_aps, rmse_train, rmse_test"
   ]
  },
  {
   "cell_type": "code",
   "execution_count": 8,
   "metadata": {},
   "outputs": [
    {
     "name": "stdout",
     "output_type": "stream",
     "text": [
      "Log p a-posteriori at iteration 10 : -3031.4182804011007\n",
      "Log p a-posteriori at iteration 20 : -2824.4687190265627\n",
      "Log p a-posteriori at iteration 30 : -2788.028268001318\n",
      "Log p a-posteriori at iteration 40 : -2764.851421096626\n",
      "Log p a-posteriori at iteration 50 : -2724.0025443642253\n",
      "Log p a-posteriori at iteration 60 : -2667.2446978945763\n",
      "Log p a-posteriori at iteration 70 : -2605.310533445868\n",
      "Log p a-posteriori at iteration 80 : -2544.8970247416883\n",
      "Log p a-posteriori at iteration 90 : -2488.8205937749353\n",
      "Log p a-posteriori at iteration 100 : -2438.161805055067\n",
      "Log p a-posteriori at iteration 110 : -2393.0752180111917\n",
      "Log p a-posteriori at iteration 120 : -2353.1797288077423\n",
      "Log p a-posteriori at iteration 130 : -2317.8620226283565\n",
      "Log p a-posteriori at iteration 140 : -2286.4895917589392\n",
      "Log p a-posteriori at iteration 150 : -2258.50823607453\n",
      "Log p a-posteriori at iteration 160 : -2233.4502871628324\n",
      "Log p a-posteriori at iteration 170 : -2210.910931603784\n",
      "Log p a-posteriori at iteration 180 : -2190.544783290766\n",
      "Log p a-posteriori at iteration 190 : -2172.067089821072\n",
      "Log p a-posteriori at iteration 200 : -2155.2434810722793\n"
     ]
    }
   ],
   "source": [
    "log_ps, rmse_train, rmse_test = train(200)"
   ]
  },
  {
   "cell_type": "code",
   "execution_count": 9,
   "metadata": {},
   "outputs": [
    {
     "data": {
      "image/png": "[encoded data removed]",
      "text/plain": [
       "<Figure size 1440x720 with 2 Axes>"
      ]
     },
     "metadata": {
      "needs_background": "light"
     },
     "output_type": "display_data"
    }
   ],
   "source": [
    "_, (ax1, ax2) = plt.subplots(1, 2, figsize=(20, 10))\n",
    "plt.title('Training results')\n",
    "ax1.plot(np.arange(len(log_ps)), log_ps, label='MAP')\n",
    "ax1.legend()\n",
    "\n",
    "ax2.plot(np.arange(len(rmse_train)), rmse_train, label='RMSE train')\n",
    "ax2.plot(np.arange(len(rmse_test)), rmse_test, label='RMSE test')\n",
    "ax2.legend()\n",
    "\n",
    "plt.show()"
   ]
  },
  {
   "cell_type": "code",
   "execution_count": 10,
   "metadata": {},
   "outputs": [
    {
     "name": "stdout",
     "output_type": "stream",
     "text": [
      "RMSE of training set: 1.0158585561973443\n",
      "RMSE of testing set: 1.764137966627134\n"
     ]
    }
   ],
   "source": [
    "print('RMSE of training set:', evaluate(train_set))\n",
    "print('RMSE of testing set:', evaluate(test_set))"
   ]
  },
  {
   "cell_type": "code",
   "execution_count": 12,
   "metadata": {},
   "outputs": [],
   "source": [
    "def exposure_data(df, train_size=0.75):\n",
    "    user_to_row = {}\n",
    "    movie_to_column = {}\n",
    "    \n",
    "    uniq_users = np.unique(df['userId'])\n",
    "    uniq_movies = np.unique(df['movieId'])\n",
    "\n",
    "    for i, user_id in enumerate(uniq_users):\n",
    "        user_to_row[user_id] = i\n",
    "\n",
    "    for j, movie_id in enumerate(uniq_movies):\n",
    "        movie_to_column[movie_id] = j\n",
    "    \n",
    "    data = []\n",
    "    n_users = len(uniq_users)\n",
    "    n_movies = len(uniq_movies)\n",
    "    for row in df.iterrows():\n",
    "      user, movie = row[1][0], row[1][1]\n",
    "      data.append((user_to_row[user], movie_to_column[movie], 1))\n",
    "\n",
    "    exposure_df = pd.DataFrame(data, columns =['userID', 'movieID', 'a'])\n",
    "    #Train-test split\n",
    "    df_copy = exposure_df.copy()\n",
    "    train_set = df_copy.sample(frac=train_size, random_state=0)\n",
    "    test_set = df_copy.drop(train_set.index)\n",
    "    \n",
    "    return exposure_df, train_set, test_set, n_users, n_movies, user_to_row, movie_to_column\n",
    "\n",
    "\n",
    "exposure_df, train, test, n_users, n_movies, user_to_row, movie_to_column = exposure_data(df)"
   ]
  },
  {
   "cell_type": "code",
   "execution_count": 13,
   "metadata": {},
   "outputs": [
    {
     "name": "stdout",
     "output_type": "stream",
     "text": [
      "Defaulting to user installation because normal site-packages is not writeable\n",
      "Requirement already satisfied: hpfrec in /home/uk2051/.local/lib/python3.8/site-packages (0.2.5.post4)\n",
      "Requirement already satisfied: scipy in /share/apps/python/3.8.6/intel/lib/python3.8/site-packages/scipy-1.5.2-py3.8-linux-x86_64.egg (from hpfrec) (1.5.2)\n",
      "Requirement already satisfied: numpy>=1.18 in /home/uk2051/.local/lib/python3.8/site-packages (from hpfrec) (1.22.3)\n",
      "Requirement already satisfied: pandas>=0.24 in /share/apps/python/3.8.6/intel/lib/python3.8/site-packages (from hpfrec) (1.1.3)\n",
      "Requirement already satisfied: cython in /share/apps/python/3.8.6/intel/lib/python3.8/site-packages/Cython-0.29.21-py3.8-linux-x86_64.egg (from hpfrec) (0.29.21)\n",
      "Requirement already satisfied: python-dateutil>=2.7.3 in /share/apps/python/3.8.6/intel/lib/python3.8/site-packages (from pandas>=0.24->hpfrec) (2.8.1)\n",
      "Requirement already satisfied: pytz>=2017.2 in /share/apps/python/3.8.6/intel/lib/python3.8/site-packages (from pandas>=0.24->hpfrec) (2020.1)\n",
      "Requirement already satisfied: six>=1.5 in /share/apps/python/3.8.6/intel/lib/python3.8/site-packages (from python-dateutil>=2.7.3->pandas>=0.24->hpfrec) (1.15.0)\n",
      "\u001b[33mWARNING: You are using pip version 20.2.3; however, version 22.0.4 is available.\n",
      "You should consider upgrading via the '/share/apps/python/3.8.6/intel/bin/python -m pip install --upgrade pip' command.\u001b[0m\n",
      "**********************************\n",
      "Hierarchical Poisson Factorization\n",
      "**********************************\n",
      "\n",
      "Number of users: 1000\n",
      "Number of items: 7389\n",
      "Latent factors to use: 30\n",
      "\n",
      "Initializing parameters...\n",
      "Allocating Phi matrix...\n",
      "Initializing optimization procedure...\n",
      "Iteration 10 | train llk: -73983 | train rmse: 0.9955\n",
      "Iteration 20 | train llk: -67919 | train rmse: 0.9924\n",
      "Iteration 30 | train llk: -67851 | train rmse: 0.9924\n",
      "Iteration 40 | train llk: -67840 | train rmse: 0.9924\n",
      "Iteration 50 | train llk: -67836 | train rmse: 0.9924\n",
      "Iteration 60 | train llk: -67834 | train rmse: 0.9924\n",
      "Iteration 70 | train llk: -67834 | train rmse: 0.9924\n",
      "Iteration 80 | train llk: -67833 | train rmse: 0.9924\n",
      "Iteration 90 | train llk: -67833 | train rmse: 0.9924\n",
      "Iteration 100 | train llk: -67833 | train rmse: 0.9924\n",
      "\n",
      "\n",
      "Optimization finished\n",
      "Final log-likelihood: -67833\n",
      "Final RMSE: 0.9924\n",
      "Minutes taken (optimization part): 0.1\n",
      "\n"
     ]
    }
   ],
   "source": [
    "! pip install hpfrec\n",
    "import pandas as pd, numpy as np\n",
    "from hpfrec import HPF\n",
    "exposure_df.columns = ['UserId', 'ItemId', 'Count']\n",
    "recommender = HPF()\n",
    "param = recommender.fit(exposure_df)"
   ]
  },
  {
   "cell_type": "code",
   "execution_count": 15,
   "metadata": {},
   "outputs": [],
   "source": [
    "def matrix_X(R):\n",
    "  X = []\n",
    "  for i in range(len(R)):\n",
    "    row = [1 if val == 1 else 0 for val in R[i]]\n",
    "    X.append(row)\n",
    "  return X\n",
    "\n",
    "X = matrix_X(R)\n",
    "ratings = df['rating']\n",
    "y = R\n",
    "pmfU = param.Theta\n",
    "\n",
    "y_scaler = preprocessing.StandardScaler().fit(y)\n",
    "y_scaled = y_scaler.fit_transform(y)\n",
    "\n",
    "X_scaler = preprocessing.StandardScaler().fit(X)\n",
    "X_scaled = X_scaler.fit_transform(X)\n",
    "\n",
    "pmfU_scaler = preprocessing.StandardScaler().fit(pmfU)\n",
    "pmfU_scaled = pmfU_scaler.fit_transform(pmfU)\n",
    "\n",
    "X_train, X_test = train_test_split(X_scaled, test_size=0.20, random_state=randseed)\n",
    "y_train, y_test = train_test_split(y_scaled, test_size=0.20, random_state=randseed)\n",
    "pmfU_train, pmfU_test = train_test_split(pmfU_scaled, test_size=0.20, random_state=randseed)\n",
    "n_users, n_items = X_train.shape"
   ]
  },
  {
   "cell_type": "code",
   "execution_count": 16,
   "metadata": {},
   "outputs": [],
   "source": [
    "import warnings\n",
    "warnings.filterwarnings('ignore')\n",
    "reg = linear_model.Ridge(normalize=True)\n",
    "for i in range(n_items):\n",
    "    # if i%100 == 0:\n",
    "    #   print('---- Fitting row', i, '----')\n",
    "    reg.fit(np.column_stack([X_train[:,i], pmfU_train]), y_train[:,i])"
   ]
  },
  {
   "cell_type": "code",
   "execution_count": 17,
   "metadata": {},
   "outputs": [],
   "source": [
    "test_items = X_test.shape[1]\n",
    "prediction = []\n",
    "\n",
    "for i in range(test_items):\n",
    "    # if i%100 == 0:\n",
    "    #   print('---- Predicting row', i, '----')\n",
    "    res = reg.predict(np.column_stack([X_test[:,i], pmfU_test]))\n",
    "    prediction.append(res)"
   ]
  },
  {
   "cell_type": "code",
   "execution_count": 18,
   "metadata": {},
   "outputs": [
    {
     "name": "stdout",
     "output_type": "stream",
     "text": [
      "0.8880783998490532\n"
     ]
    }
   ],
   "source": [
    "y_test = np.transpose(y_test)\n",
    "rmse = mean_squared_error(y_test, prediction, squared=False)\n",
    "print(rmse)"
   ]
  },
  {
   "cell_type": "code",
   "execution_count": 20,
   "metadata": {},
   "outputs": [
    {
     "data": {
      "text/plain": [
       "(1000, 7389)"
      ]
     },
     "execution_count": 20,
     "metadata": {},
     "output_type": "execute_result"
    }
   ],
   "source": [
    "R.shape"
   ]
  },
  {
   "cell_type": "code",
   "execution_count": null,
   "metadata": {},
   "outputs": [],
   "source": []
  },
  {
   "cell_type": "code",
   "execution_count": null,
   "metadata": {},
   "outputs": [],
   "source": []
  },
  {
   "cell_type": "code",
   "execution_count": null,
   "metadata": {},
   "outputs": [],
   "source": []
  },
  {
   "cell_type": "code",
   "execution_count": null,
   "metadata": {},
   "outputs": [],
   "source": []
  },
  {
   "cell_type": "code",
   "execution_count": null,
   "metadata": {},
   "outputs": [],
   "source": []
  },
  {
   "cell_type": "code",
   "execution_count": null,
   "metadata": {},
   "outputs": [],
   "source": []
  },
  {
   "cell_type": "code",
   "execution_count": null,
   "metadata": {},
   "outputs": [],
   "source": []
  },
  {
   "cell_type": "code",
   "execution_count": null,
   "metadata": {},
   "outputs": [],
   "source": []
  }
 ],
 "metadata": {
  "kernelspec": {
   "display_name": "Python 3",
   "language": "python",
   "name": "python3"
  },
  "language_info": {
   "codemirror_mode": {
    "name": "ipython",
    "version": 3
   },
   "file_extension": ".py",
   "mimetype": "text/x-python",
   "name": "python",
   "nbconvert_exporter": "python",
   "pygments_lexer": "ipython3",
   "version": "3.8.6"
  }
 },
 "nbformat": 4,
 "nbformat_minor": 4
}
