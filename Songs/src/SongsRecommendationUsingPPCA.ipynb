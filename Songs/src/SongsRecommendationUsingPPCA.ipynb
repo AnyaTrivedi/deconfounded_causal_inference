{
  "nbformat": 4,
  "nbformat_minor": 0,
  "metadata": {
    "colab": {
      "name": "SongsRecommendationUsingPPCA.ipynb",
      "provenance": []
    },
    "kernelspec": {
      "name": "python3",
      "display_name": "Python 3"
    },
    "language_info": {
      "name": "python"
    }
  },
  "cells": [
    {
      "cell_type": "code",
      "execution_count": 1,
      "metadata": {
        "id": "PEGLWpc4tUL3"
      },
      "outputs": [],
      "source": [
        "import os\n",
        "import sys\n",
        "import pickle\n",
        "import warnings\n",
        "import numpy as np \n",
        "import pandas as pd \n",
        "from ast import literal_eval\n",
        "import matplotlib.pyplot as plt\n",
        "from scipy import sparse, stats\n",
        "from sklearn import linear_model\n",
        "from sklearn import preprocessing\n",
        "from sklearn.metrics import mean_squared_error\n",
        "from sklearn.feature_extraction.text import TfidfVectorizer, CountVectorizer\n",
        "from sklearn.metrics.pairwise import linear_kernel, cosine_similarity\n",
        "from sklearn.model_selection import train_test_split\n",
        "\n",
        "randseed = 29266137"
      ]
    },
    {
      "cell_type": "code",
      "source": [
        "!pip install tensorflow_probability\n",
        "%tensorflow_version 1.x\n",
        "import tensorflow as tf\n",
        "import numpy as np \n",
        "import pandas as pd\n",
        "import numpy.random as npr\n",
        "from scipy import sparse\n",
        "import tensorflow_probability as tfp\n",
        "from tensorflow_probability import edward2 as ed"
      ],
      "metadata": {
        "colab": {
          "base_uri": "https://localhost:8080/"
        },
        "id": "Hp3AvbSr5i_n",
        "outputId": "afb3d804-eb74-4494-e299-061a6842ef0a"
      },
      "execution_count": 18,
      "outputs": [
        {
          "output_type": "stream",
          "name": "stdout",
          "text": [
            "Requirement already satisfied: tensorflow_probability in /usr/local/lib/python3.7/dist-packages (0.16.0)\n",
            "Requirement already satisfied: absl-py in /usr/local/lib/python3.7/dist-packages (from tensorflow_probability) (1.0.0)\n",
            "Requirement already satisfied: six>=1.10.0 in /usr/local/lib/python3.7/dist-packages (from tensorflow_probability) (1.15.0)\n",
            "Requirement already satisfied: cloudpickle>=1.3 in /usr/local/lib/python3.7/dist-packages (from tensorflow_probability) (1.3.0)\n",
            "Requirement already satisfied: decorator in /usr/local/lib/python3.7/dist-packages (from tensorflow_probability) (4.4.2)\n",
            "Requirement already satisfied: gast>=0.3.2 in /usr/local/lib/python3.7/dist-packages (from tensorflow_probability) (0.5.3)\n",
            "Requirement already satisfied: dm-tree in /usr/local/lib/python3.7/dist-packages (from tensorflow_probability) (0.1.7)\n",
            "Requirement already satisfied: numpy>=1.13.3 in /usr/local/lib/python3.7/dist-packages (from tensorflow_probability) (1.21.6)\n",
            "TensorFlow 1.x selected.\n"
          ]
        }
      ]
    },
    {
      "cell_type": "code",
      "source": [
        "def PreprocessData():\n",
        "    df = pd.read_csv('/content/songsDataset.csv')\n",
        "    df = df.rename({\"\\'userID\\'\": \"userId\", \"\\'songID\\'\": \"movieId\", \"\\'rating\\'\": \"rating\"}, axis='columns')\n",
        "    \n",
        "    df = df.drop(labels = range(10000,2000000), axis = 0)\n",
        "    songIntCode, songUniques = pd.factorize(df['movieId'], sort=True) #Reindexing songs ids\n",
        "    df['movieId'] = songIntCode\n",
        "    return df\n"
      ],
      "metadata": {
        "id": "mdivBP0PvThr"
      },
      "execution_count": 6,
      "outputs": []
    },
    {
      "cell_type": "code",
      "source": [
        "df = PreprocessData()"
      ],
      "metadata": {
        "id": "J9C5Lc-avq_7"
      },
      "execution_count": 7,
      "outputs": []
    },
    {
      "cell_type": "code",
      "source": [
        "df.head()"
      ],
      "metadata": {
        "colab": {
          "base_uri": "https://localhost:8080/",
          "height": 204
        },
        "id": "qrTQ6mwjvveK",
        "outputId": "018626e9-5cfb-4efa-afc0-e56156106618"
      },
      "execution_count": 8,
      "outputs": [
        {
          "output_type": "execute_result",
          "data": {
            "text/plain": [
              "   userId  movieId  rating\n",
              "0       0      382       5\n",
              "1       0      448       4\n",
              "2       0     1185       4\n",
              "3       0     1891       5\n",
              "4       0     4466       5"
            ],
            "text/html": [
              "\n",
              "  <div id=\"df-192c0100-e4c7-41f9-84e2-380b5c872269\">\n",
              "    <div class=\"colab-df-container\">\n",
              "      <div>\n",
              "<style scoped>\n",
              "    .dataframe tbody tr th:only-of-type {\n",
              "        vertical-align: middle;\n",
              "    }\n",
              "\n",
              "    .dataframe tbody tr th {\n",
              "        vertical-align: top;\n",
              "    }\n",
              "\n",
              "    .dataframe thead th {\n",
              "        text-align: right;\n",
              "    }\n",
              "</style>\n",
              "<table border=\"1\" class=\"dataframe\">\n",
              "  <thead>\n",
              "    <tr style=\"text-align: right;\">\n",
              "      <th></th>\n",
              "      <th>userId</th>\n",
              "      <th>movieId</th>\n",
              "      <th>rating</th>\n",
              "    </tr>\n",
              "  </thead>\n",
              "  <tbody>\n",
              "    <tr>\n",
              "      <th>0</th>\n",
              "      <td>0</td>\n",
              "      <td>382</td>\n",
              "      <td>5</td>\n",
              "    </tr>\n",
              "    <tr>\n",
              "      <th>1</th>\n",
              "      <td>0</td>\n",
              "      <td>448</td>\n",
              "      <td>4</td>\n",
              "    </tr>\n",
              "    <tr>\n",
              "      <th>2</th>\n",
              "      <td>0</td>\n",
              "      <td>1185</td>\n",
              "      <td>4</td>\n",
              "    </tr>\n",
              "    <tr>\n",
              "      <th>3</th>\n",
              "      <td>0</td>\n",
              "      <td>1891</td>\n",
              "      <td>5</td>\n",
              "    </tr>\n",
              "    <tr>\n",
              "      <th>4</th>\n",
              "      <td>0</td>\n",
              "      <td>4466</td>\n",
              "      <td>5</td>\n",
              "    </tr>\n",
              "  </tbody>\n",
              "</table>\n",
              "</div>\n",
              "      <button class=\"colab-df-convert\" onclick=\"convertToInteractive('df-192c0100-e4c7-41f9-84e2-380b5c872269')\"\n",
              "              title=\"Convert this dataframe to an interactive table.\"\n",
              "              style=\"display:none;\">\n",
              "        \n",
              "  <svg xmlns=\"http://www.w3.org/2000/svg\" height=\"24px\"viewBox=\"0 0 24 24\"\n",
              "       width=\"24px\">\n",
              "    <path d=\"M0 0h24v24H0V0z\" fill=\"none\"/>\n",
              "    <path d=\"M18.56 5.44l.94 2.06.94-2.06 2.06-.94-2.06-.94-.94-2.06-.94 2.06-2.06.94zm-11 1L8.5 8.5l.94-2.06 2.06-.94-2.06-.94L8.5 2.5l-.94 2.06-2.06.94zm10 10l.94 2.06.94-2.06 2.06-.94-2.06-.94-.94-2.06-.94 2.06-2.06.94z\"/><path d=\"M17.41 7.96l-1.37-1.37c-.4-.4-.92-.59-1.43-.59-.52 0-1.04.2-1.43.59L10.3 9.45l-7.72 7.72c-.78.78-.78 2.05 0 2.83L4 21.41c.39.39.9.59 1.41.59.51 0 1.02-.2 1.41-.59l7.78-7.78 2.81-2.81c.8-.78.8-2.07 0-2.86zM5.41 20L4 18.59l7.72-7.72 1.47 1.35L5.41 20z\"/>\n",
              "  </svg>\n",
              "      </button>\n",
              "      \n",
              "  <style>\n",
              "    .colab-df-container {\n",
              "      display:flex;\n",
              "      flex-wrap:wrap;\n",
              "      gap: 12px;\n",
              "    }\n",
              "\n",
              "    .colab-df-convert {\n",
              "      background-color: #E8F0FE;\n",
              "      border: none;\n",
              "      border-radius: 50%;\n",
              "      cursor: pointer;\n",
              "      display: none;\n",
              "      fill: #1967D2;\n",
              "      height: 32px;\n",
              "      padding: 0 0 0 0;\n",
              "      width: 32px;\n",
              "    }\n",
              "\n",
              "    .colab-df-convert:hover {\n",
              "      background-color: #E2EBFA;\n",
              "      box-shadow: 0px 1px 2px rgba(60, 64, 67, 0.3), 0px 1px 3px 1px rgba(60, 64, 67, 0.15);\n",
              "      fill: #174EA6;\n",
              "    }\n",
              "\n",
              "    [theme=dark] .colab-df-convert {\n",
              "      background-color: #3B4455;\n",
              "      fill: #D2E3FC;\n",
              "    }\n",
              "\n",
              "    [theme=dark] .colab-df-convert:hover {\n",
              "      background-color: #434B5C;\n",
              "      box-shadow: 0px 1px 3px 1px rgba(0, 0, 0, 0.15);\n",
              "      filter: drop-shadow(0px 1px 2px rgba(0, 0, 0, 0.3));\n",
              "      fill: #FFFFFF;\n",
              "    }\n",
              "  </style>\n",
              "\n",
              "      <script>\n",
              "        const buttonEl =\n",
              "          document.querySelector('#df-192c0100-e4c7-41f9-84e2-380b5c872269 button.colab-df-convert');\n",
              "        buttonEl.style.display =\n",
              "          google.colab.kernel.accessAllowed ? 'block' : 'none';\n",
              "\n",
              "        async function convertToInteractive(key) {\n",
              "          const element = document.querySelector('#df-192c0100-e4c7-41f9-84e2-380b5c872269');\n",
              "          const dataTable =\n",
              "            await google.colab.kernel.invokeFunction('convertToInteractive',\n",
              "                                                     [key], {});\n",
              "          if (!dataTable) return;\n",
              "\n",
              "          const docLinkHtml = 'Like what you see? Visit the ' +\n",
              "            '<a target=\"_blank\" href=https://colab.research.google.com/notebooks/data_table.ipynb>data table notebook</a>'\n",
              "            + ' to learn more about interactive tables.';\n",
              "          element.innerHTML = '';\n",
              "          dataTable['output_type'] = 'display_data';\n",
              "          await google.colab.output.renderOutput(dataTable, element);\n",
              "          const docLink = document.createElement('div');\n",
              "          docLink.innerHTML = docLinkHtml;\n",
              "          element.appendChild(docLink);\n",
              "        }\n",
              "      </script>\n",
              "    </div>\n",
              "  </div>\n",
              "  "
            ]
          },
          "metadata": {},
          "execution_count": 8
        }
      ]
    },
    {
      "cell_type": "code",
      "source": [
        "exposureDf = df.copy()\n",
        "exposureDf['rating'] = exposureDf['rating'].where(exposureDf['rating'] == 0, 1)\n",
        "nusers = exposureDf['userId'].nunique()\n",
        "nitems = exposureDf['movieId'].nunique()"
      ],
      "metadata": {
        "id": "skE-_KTw3n6C"
      },
      "execution_count": 14,
      "outputs": []
    },
    {
      "cell_type": "code",
      "source": [
        "exposureDf.head()"
      ],
      "metadata": {
        "colab": {
          "base_uri": "https://localhost:8080/",
          "height": 204
        },
        "id": "IMMzkpzD4SaU",
        "outputId": "cf7fccc8-b324-4d2b-b612-45f93b954e4a"
      },
      "execution_count": 15,
      "outputs": [
        {
          "output_type": "execute_result",
          "data": {
            "text/plain": [
              "   userId  movieId  rating\n",
              "0       0      382       1\n",
              "1       0      448       1\n",
              "2       0     1185       1\n",
              "3       0     1891       1\n",
              "4       0     4466       1"
            ],
            "text/html": [
              "\n",
              "  <div id=\"df-696414f5-dc52-423a-b40d-b352e9ca54b7\">\n",
              "    <div class=\"colab-df-container\">\n",
              "      <div>\n",
              "<style scoped>\n",
              "    .dataframe tbody tr th:only-of-type {\n",
              "        vertical-align: middle;\n",
              "    }\n",
              "\n",
              "    .dataframe tbody tr th {\n",
              "        vertical-align: top;\n",
              "    }\n",
              "\n",
              "    .dataframe thead th {\n",
              "        text-align: right;\n",
              "    }\n",
              "</style>\n",
              "<table border=\"1\" class=\"dataframe\">\n",
              "  <thead>\n",
              "    <tr style=\"text-align: right;\">\n",
              "      <th></th>\n",
              "      <th>userId</th>\n",
              "      <th>movieId</th>\n",
              "      <th>rating</th>\n",
              "    </tr>\n",
              "  </thead>\n",
              "  <tbody>\n",
              "    <tr>\n",
              "      <th>0</th>\n",
              "      <td>0</td>\n",
              "      <td>382</td>\n",
              "      <td>1</td>\n",
              "    </tr>\n",
              "    <tr>\n",
              "      <th>1</th>\n",
              "      <td>0</td>\n",
              "      <td>448</td>\n",
              "      <td>1</td>\n",
              "    </tr>\n",
              "    <tr>\n",
              "      <th>2</th>\n",
              "      <td>0</td>\n",
              "      <td>1185</td>\n",
              "      <td>1</td>\n",
              "    </tr>\n",
              "    <tr>\n",
              "      <th>3</th>\n",
              "      <td>0</td>\n",
              "      <td>1891</td>\n",
              "      <td>1</td>\n",
              "    </tr>\n",
              "    <tr>\n",
              "      <th>4</th>\n",
              "      <td>0</td>\n",
              "      <td>4466</td>\n",
              "      <td>1</td>\n",
              "    </tr>\n",
              "  </tbody>\n",
              "</table>\n",
              "</div>\n",
              "      <button class=\"colab-df-convert\" onclick=\"convertToInteractive('df-696414f5-dc52-423a-b40d-b352e9ca54b7')\"\n",
              "              title=\"Convert this dataframe to an interactive table.\"\n",
              "              style=\"display:none;\">\n",
              "        \n",
              "  <svg xmlns=\"http://www.w3.org/2000/svg\" height=\"24px\"viewBox=\"0 0 24 24\"\n",
              "       width=\"24px\">\n",
              "    <path d=\"M0 0h24v24H0V0z\" fill=\"none\"/>\n",
              "    <path d=\"M18.56 5.44l.94 2.06.94-2.06 2.06-.94-2.06-.94-.94-2.06-.94 2.06-2.06.94zm-11 1L8.5 8.5l.94-2.06 2.06-.94-2.06-.94L8.5 2.5l-.94 2.06-2.06.94zm10 10l.94 2.06.94-2.06 2.06-.94-2.06-.94-.94-2.06-.94 2.06-2.06.94z\"/><path d=\"M17.41 7.96l-1.37-1.37c-.4-.4-.92-.59-1.43-.59-.52 0-1.04.2-1.43.59L10.3 9.45l-7.72 7.72c-.78.78-.78 2.05 0 2.83L4 21.41c.39.39.9.59 1.41.59.51 0 1.02-.2 1.41-.59l7.78-7.78 2.81-2.81c.8-.78.8-2.07 0-2.86zM5.41 20L4 18.59l7.72-7.72 1.47 1.35L5.41 20z\"/>\n",
              "  </svg>\n",
              "      </button>\n",
              "      \n",
              "  <style>\n",
              "    .colab-df-container {\n",
              "      display:flex;\n",
              "      flex-wrap:wrap;\n",
              "      gap: 12px;\n",
              "    }\n",
              "\n",
              "    .colab-df-convert {\n",
              "      background-color: #E8F0FE;\n",
              "      border: none;\n",
              "      border-radius: 50%;\n",
              "      cursor: pointer;\n",
              "      display: none;\n",
              "      fill: #1967D2;\n",
              "      height: 32px;\n",
              "      padding: 0 0 0 0;\n",
              "      width: 32px;\n",
              "    }\n",
              "\n",
              "    .colab-df-convert:hover {\n",
              "      background-color: #E2EBFA;\n",
              "      box-shadow: 0px 1px 2px rgba(60, 64, 67, 0.3), 0px 1px 3px 1px rgba(60, 64, 67, 0.15);\n",
              "      fill: #174EA6;\n",
              "    }\n",
              "\n",
              "    [theme=dark] .colab-df-convert {\n",
              "      background-color: #3B4455;\n",
              "      fill: #D2E3FC;\n",
              "    }\n",
              "\n",
              "    [theme=dark] .colab-df-convert:hover {\n",
              "      background-color: #434B5C;\n",
              "      box-shadow: 0px 1px 3px 1px rgba(0, 0, 0, 0.15);\n",
              "      filter: drop-shadow(0px 1px 2px rgba(0, 0, 0, 0.3));\n",
              "      fill: #FFFFFF;\n",
              "    }\n",
              "  </style>\n",
              "\n",
              "      <script>\n",
              "        const buttonEl =\n",
              "          document.querySelector('#df-696414f5-dc52-423a-b40d-b352e9ca54b7 button.colab-df-convert');\n",
              "        buttonEl.style.display =\n",
              "          google.colab.kernel.accessAllowed ? 'block' : 'none';\n",
              "\n",
              "        async function convertToInteractive(key) {\n",
              "          const element = document.querySelector('#df-696414f5-dc52-423a-b40d-b352e9ca54b7');\n",
              "          const dataTable =\n",
              "            await google.colab.kernel.invokeFunction('convertToInteractive',\n",
              "                                                     [key], {});\n",
              "          if (!dataTable) return;\n",
              "\n",
              "          const docLinkHtml = 'Like what you see? Visit the ' +\n",
              "            '<a target=\"_blank\" href=https://colab.research.google.com/notebooks/data_table.ipynb>data table notebook</a>'\n",
              "            + ' to learn more about interactive tables.';\n",
              "          element.innerHTML = '';\n",
              "          dataTable['output_type'] = 'display_data';\n",
              "          await google.colab.output.renderOutput(dataTable, element);\n",
              "          const docLink = document.createElement('div');\n",
              "          docLink.innerHTML = docLinkHtml;\n",
              "          element.appendChild(docLink);\n",
              "        }\n",
              "      </script>\n",
              "    </div>\n",
              "  </div>\n",
              "  "
            ]
          },
          "metadata": {},
          "execution_count": 15
        }
      ]
    },
    {
      "cell_type": "code",
      "source": [
        "a_matrix = sparse.coo_matrix((exposureDf[\"rating\"],(exposureDf[\"userId\"],exposureDf[\"movieId\"])),shape=(nusers,nitems))\n",
        "a_matrix = a_matrix.todense()\n",
        "#matrix = matrix.tocsr()[:10000,:5000].tocoo()\n",
        "#a_matrix = a_matrix.tocsr()[:10000,:5000].tocoo()\n",
        "#matrix = matrix.tocsr().tocoo()\n",
        "#a_matrix = a_matrix.tocsr().tocoo()\n",
        "\n",
        "#df_values = df.values"
      ],
      "metadata": {
        "id": "kljq0lc1yDS0"
      },
      "execution_count": 17,
      "outputs": []
    },
    {
      "cell_type": "code",
      "source": [
        "type(a_matrix)\n",
        "a_matrix.shape"
      ],
      "metadata": {
        "colab": {
          "base_uri": "https://localhost:8080/"
        },
        "id": "dzJgPqLO5hsA",
        "outputId": "67a3d541-c4f0-4c83-fe62-2c195fd6315a"
      },
      "execution_count": 20,
      "outputs": [
        {
          "output_type": "execute_result",
          "data": {
            "text/plain": [
              "(1000, 7389)"
            ]
          },
          "metadata": {},
          "execution_count": 20
        }
      ]
    },
    {
      "cell_type": "code",
      "source": [
        "def GetRowFactors(latent_dim, a_matrix):\n",
        "  stddv_datapoints = 0.1\n",
        "  num_datapoints, data_dim = a_matrix.shape\n",
        "\n",
        "\n",
        "  # we allow both linear and quadratic model\n",
        "  # for linear model x_n has mean z_n * W\n",
        "  # for quadratic model x_n has mean b + z_n * W + (z_n**2) * W_2\n",
        "  # quadractice model needs to change the checking step accordingly\n",
        "\n",
        "  def ppca_model(data_dim, latent_dim, num_datapoints, stddv_datapoints, form=\"quadratic\"):\n",
        "      w = ed.Normal(loc=tf.zeros([latent_dim, data_dim]),\n",
        "                  scale=tf.ones([latent_dim, data_dim]),\n",
        "                  name=\"w\")  # parameter\n",
        "      z = ed.Normal(loc=tf.zeros([num_datapoints, latent_dim]),\n",
        "                  scale=tf.ones([num_datapoints, latent_dim]), \n",
        "                  name=\"z\")  # local latent variable / substitute confounder\n",
        "      if form == \"linear\":\n",
        "#          x = ed.Normal(loc=tf.multiply(tf.matmul(z, w), a_matrix),\n",
        "          x = ed.Normal(loc=tf.matmul(z, w),\n",
        "                      scale=stddv_datapoints * tf.ones([num_datapoints, data_dim]),\n",
        "                      name=\"x\")  # (modeled) data\n",
        "      elif form == \"quadratic\":\n",
        "          b = ed.Normal(loc=tf.zeros([1, data_dim]),\n",
        "                  scale=tf.ones([1, data_dim]),\n",
        "                  name=\"b\")  # intercept\n",
        "          w2 = ed.Normal(loc=tf.zeros([latent_dim, data_dim]),\n",
        "                  scale=tf.ones([latent_dim, data_dim]),\n",
        "                  name=\"w2\")  # quadratic parameter\n",
        "#          x = ed.Normal(loc=tf.multiply(b + tf.matmul(z, w) + tf.matmul(tf.square(z), w2), a_matrix),\n",
        "          x = ed.Normal(loc=b + tf.matmul(z, w) + tf.matmul(tf.square(z), w2),                        \n",
        "                      scale=stddv_datapoints * tf.ones([num_datapoints, data_dim]),\n",
        "                      name=\"x\")  # (modeled) data\n",
        "      return x, (w, z)\n",
        "\n",
        "  log_joint = ed.make_log_joint_fn(ppca_model)\n",
        "\n",
        "\n",
        "  def variational_model(qb_mean, qb_stddv, qw_mean, qw_stddv, \n",
        "                      qw2_mean, qw2_stddv, qz_mean, qz_stddv):\n",
        "    qb = ed.Normal(loc=qb_mean, scale=qb_stddv, name=\"qb\")\n",
        "    qw = ed.Normal(loc=qw_mean, scale=qw_stddv, name=\"qw\")\n",
        "    qw2 = ed.Normal(loc=qw2_mean, scale=qw2_stddv, name=\"qw2\")\n",
        "    qz = ed.Normal(loc=qz_mean, scale=qz_stddv, name=\"qz\")\n",
        "    return qb, qw, qw2, qz\n",
        "\n",
        "\n",
        "  log_q = ed.make_log_joint_fn(variational_model)\n",
        "\n",
        "  def target(b, w, w2, z):\n",
        "      \"\"\"Unnormalized target density as a function of the parameters.\"\"\"\n",
        "      return log_joint(data_dim=data_dim,\n",
        "                    latent_dim=latent_dim,\n",
        "                    num_datapoints=num_datapoints,\n",
        "                    stddv_datapoints=stddv_datapoints,\n",
        "                    w=w, z=z, w2=w2, b=b, x=a_matrix)\n",
        "\n",
        "  def target_q(qb, qw, qw2, qz):\n",
        "      return log_q(qb_mean=qb_mean, qb_stddv=qb_stddv,\n",
        "                  qw_mean=qw_mean, qw_stddv=qw_stddv,\n",
        "                  qw2_mean=qw2_mean, qw2_stddv=qw2_stddv,\n",
        "                  qz_mean=qz_mean, qz_stddv=qz_stddv,\n",
        "                  qw=qw, qz=qz, qw2=qw2, qb=qb)\n",
        "\n",
        "  qb_mean = tf.Variable(np.ones([1, data_dim]), dtype=tf.float32)\n",
        "  qw_mean = tf.Variable(np.ones([latent_dim, data_dim]), dtype=tf.float32)\n",
        "  qw2_mean = tf.Variable(np.ones([latent_dim, data_dim]), dtype=tf.float32)\n",
        "  qz_mean = tf.Variable(np.ones([num_datapoints, latent_dim]), dtype=tf.float32)\n",
        "  qb_stddv = tf.nn.softplus(tf.Variable(0 * np.ones([1, data_dim]), dtype=tf.float32))\n",
        "  qw_stddv = tf.nn.softplus(tf.Variable(-4 * np.ones([latent_dim, data_dim]), dtype=tf.float32))\n",
        "  qw2_stddv = tf.nn.softplus(tf.Variable(-4 * np.ones([latent_dim, data_dim]), dtype=tf.float32))\n",
        "  qz_stddv = tf.nn.softplus(tf.Variable(-4 * np.ones([num_datapoints, latent_dim]), dtype=tf.float32))\n",
        "\n",
        "  qb, qw, qw2, qz = variational_model(qb_mean=qb_mean, qb_stddv=qb_stddv,\n",
        "                                      qw_mean=qw_mean, qw_stddv=qw_stddv,\n",
        "                                      qw2_mean=qw2_mean, qw2_stddv=qw2_stddv,\n",
        "                                      qz_mean=qz_mean, qz_stddv=qz_stddv)\n",
        "\n",
        "\n",
        "  energy = target(qb, qw, qw2, qz)\n",
        "  entropy = -target_q(qb, qw, qw2, qz)\n",
        "\n",
        "  elbo = energy + entropy\n",
        "\n",
        "\n",
        "  optimizer = tf.train.AdamOptimizer(learning_rate = 0.05)\n",
        "  train = optimizer.minimize(-elbo)\n",
        "\n",
        "  init = tf.global_variables_initializer()\n",
        "\n",
        "  t = []\n",
        "\n",
        "  num_epochs = 500\n",
        "\n",
        "  with tf.Session() as sess:\n",
        "      sess.run(init)\n",
        "\n",
        "      for i in range(num_epochs):\n",
        "          sess.run(train)\n",
        "          if i % 5 == 0:\n",
        "              t.append(sess.run([elbo]))\n",
        "\n",
        "          b_mean_inferred = sess.run(qb_mean)\n",
        "          b_stddv_inferred = sess.run(qb_stddv)\n",
        "          w_mean_inferred = sess.run(qw_mean)\n",
        "          w_stddv_inferred = sess.run(qw_stddv)\n",
        "          w2_mean_inferred = sess.run(qw2_mean)\n",
        "          w2_stddv_inferred = sess.run(qw2_stddv)\n",
        "          z_mean_inferred = sess.run(qz_mean)\n",
        "          z_stddv_inferred = sess.run(qz_stddv)\n",
        "        \n",
        "  return z_mean_inferred, z_stddv_inferred"
      ],
      "metadata": {
        "id": "HP4GSq0Wy0FM"
      },
      "execution_count": 23,
      "outputs": []
    },
    {
      "cell_type": "code",
      "source": [
        "z_mean_inferred, z_stddv_inferred= GetRowFactors(10, a_matrix)"
      ],
      "metadata": {
        "id": "0M7QFXmq65B6"
      },
      "execution_count": 24,
      "outputs": []
    },
    {
      "cell_type": "code",
      "source": [
        "z_mean_inferred.shape"
      ],
      "metadata": {
        "colab": {
          "base_uri": "https://localhost:8080/"
        },
        "id": "YFkf4Xwf7D3F",
        "outputId": "518adc66-d002-4edb-feee-a0a7a550eb00"
      },
      "execution_count": 25,
      "outputs": [
        {
          "output_type": "execute_result",
          "data": {
            "text/plain": [
              "(1000, 10)"
            ]
          },
          "metadata": {},
          "execution_count": 25
        }
      ]
    },
    {
      "cell_type": "code",
      "source": [
        "def get_ratings_matrix(df, train_size=0.75):\n",
        "    user_to_row = {}\n",
        "    movie_to_column = {}\n",
        "    df_values = df.values\n",
        "    n_dims = 10\n",
        "    parameters = {}\n",
        "    \n",
        "    uniq_users = np.unique(df_values[:, 0])\n",
        "    uniq_movies = np.unique(df_values[:, 1])\n",
        "\n",
        "    for i, user_id in enumerate(uniq_users):\n",
        "        user_to_row[user_id] = i\n",
        "\n",
        "    for j, movie_id in enumerate(uniq_movies):\n",
        "        movie_to_column[movie_id] = j\n",
        "    \n",
        "    n_users = len(uniq_users)\n",
        "    n_movies = len(uniq_movies)\n",
        "    \n",
        "    R = np.zeros((n_users, n_movies))\n",
        "    \n",
        "    df_copy = df.copy()\n",
        "    train_set = df_copy.sample(frac=train_size, random_state=0)\n",
        "    test_set = df_copy.drop(train_set.index)\n",
        "    \n",
        "    for index, row in train_set.iterrows():\n",
        "        i = user_to_row[row.userId]\n",
        "        j = movie_to_column[row.movieId]\n",
        "        R[i, j] = row.rating\n",
        "\n",
        "    return R, train_set, test_set, n_dims, n_users, n_movies, user_to_row, movie_to_column"
      ],
      "metadata": {
        "id": "sMRH1XT67cBB"
      },
      "execution_count": 26,
      "outputs": []
    },
    {
      "cell_type": "code",
      "source": [
        "R, train_set, test_set, n_dims, n_users, n_movies, user_to_row, movie_to_column = get_ratings_matrix(df, 0.8)"
      ],
      "metadata": {
        "id": "TlI4d8MI7vV9"
      },
      "execution_count": 27,
      "outputs": []
    },
    {
      "cell_type": "code",
      "source": [
        "def matrix_X(R):\n",
        "  X = []\n",
        "  for i in range(len(R)):\n",
        "    row = [1 if val == 1 else 0 for val in R[i]]\n",
        "    X.append(row)\n",
        "  return X\n",
        "\n",
        "X = matrix_X(R)\n",
        "y = R #Rating matrix\n",
        "y_scaler = preprocessing.StandardScaler().fit(y)\n",
        "y_scaled = y_scaler.fit_transform(y)\n",
        "\n",
        "X_scaler = preprocessing.StandardScaler().fit(X)\n",
        "X_scaled = X_scaler.fit_transform(X)\n",
        "\n",
        "pmfU_scaler = preprocessing.StandardScaler().fit(z_mean_inferred)\n",
        "pmfU_scaled = pmfU_scaler.fit_transform(z_mean_inferred)"
      ],
      "metadata": {
        "id": "Bl2xydyk7ySa"
      },
      "execution_count": 28,
      "outputs": []
    },
    {
      "cell_type": "code",
      "source": [
        "X_train, X_test = train_test_split(X_scaled, test_size=0.20, random_state=randseed)\n",
        "y_train, y_test = train_test_split(y_scaled, test_size=0.20, random_state=randseed)\n",
        "pmfU_train, pmfU_test = train_test_split(pmfU_scaled, test_size=0.20, random_state=randseed)\n",
        "n_users, n_items = X_train.shape"
      ],
      "metadata": {
        "id": "BTyP0-Vv758H"
      },
      "execution_count": 29,
      "outputs": []
    },
    {
      "cell_type": "code",
      "source": [
        "import warnings\n",
        "warnings.filterwarnings('ignore')\n",
        "reg = linear_model.Ridge(normalize=True)\n",
        "for i in range(n_items):\n",
        "    reg.fit(np.column_stack([X_train[:,i], pmfU_train]), y_train[:,i])"
      ],
      "metadata": {
        "id": "xVrLkNbm793v"
      },
      "execution_count": 30,
      "outputs": []
    },
    {
      "cell_type": "code",
      "source": [
        "test_items = X_test.shape[1]\n",
        "prediction = []\n",
        "\n",
        "for i in range(test_items):\n",
        "    res = reg.predict(np.column_stack([X_test[:,i], pmfU_test]))\n",
        "    prediction.append(res)"
      ],
      "metadata": {
        "id": "3B42p1-17__M"
      },
      "execution_count": 31,
      "outputs": []
    },
    {
      "cell_type": "code",
      "source": [
        "y_test = np.transpose(y_test)\n",
        "rmse = mean_squared_error(y_test, prediction, squared=False)\n",
        "print(rmse)"
      ],
      "metadata": {
        "colab": {
          "base_uri": "https://localhost:8080/"
        },
        "id": "Yvk2oWV68Boy",
        "outputId": "5c542c67-4182-4394-86f4-f8d6d3130b18"
      },
      "execution_count": 32,
      "outputs": [
        {
          "output_type": "stream",
          "name": "stdout",
          "text": [
            "0.8880783998490532\n"
          ]
        }
      ]
    },
    {
      "cell_type": "code",
      "source": [
        ""
      ],
      "metadata": {
        "id": "E1YxIgP_8DcQ"
      },
      "execution_count": null,
      "outputs": []
    }
  ]
}