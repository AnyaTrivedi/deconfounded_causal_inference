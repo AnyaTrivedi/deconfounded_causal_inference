{
 "cells": [
  {
   "cell_type": "code",
   "execution_count": 16,
   "metadata": {},
   "outputs": [
    {
     "name": "stdout",
     "output_type": "stream",
     "text": [
      "Defaulting to user installation because normal site-packages is not writeable\n",
      "Requirement already up-to-date: scikit-learn in /home/uk2051/.local/lib/python3.8/site-packages (1.0.2)\n",
      "Requirement already satisfied, skipping upgrade: numpy>=1.14.6 in /home/uk2051/.local/lib/python3.8/site-packages (from scikit-learn) (1.22.3)\n",
      "Requirement already satisfied, skipping upgrade: scipy>=1.1.0 in /share/apps/python/3.8.6/intel/lib/python3.8/site-packages/scipy-1.5.2-py3.8-linux-x86_64.egg (from scikit-learn) (1.5.2)\n",
      "Requirement already satisfied, skipping upgrade: threadpoolctl>=2.0.0 in /home/uk2051/.local/lib/python3.8/site-packages (from scikit-learn) (3.1.0)\n",
      "Requirement already satisfied, skipping upgrade: joblib>=0.11 in /home/uk2051/.local/lib/python3.8/site-packages (from scikit-learn) (1.1.0)\n",
      "\u001b[33mWARNING: You are using pip version 20.2.3; however, version 22.0.4 is available.\n",
      "You should consider upgrading via the '/share/apps/python/3.8.6/intel/bin/python -m pip install --upgrade pip' command.\u001b[0m\n",
      "Defaulting to user installation because normal site-packages is not writeable\n",
      "Requirement already satisfied: hpfrec in /home/uk2051/.local/lib/python3.8/site-packages (0.2.5.post4)\n",
      "Requirement already satisfied: numpy>=1.18 in /home/uk2051/.local/lib/python3.8/site-packages (from hpfrec) (1.22.3)\n",
      "Requirement already satisfied: scipy in /share/apps/python/3.8.6/intel/lib/python3.8/site-packages/scipy-1.5.2-py3.8-linux-x86_64.egg (from hpfrec) (1.5.2)\n",
      "Requirement already satisfied: cython in /share/apps/python/3.8.6/intel/lib/python3.8/site-packages/Cython-0.29.21-py3.8-linux-x86_64.egg (from hpfrec) (0.29.21)\n",
      "Requirement already satisfied: pandas>=0.24 in /share/apps/python/3.8.6/intel/lib/python3.8/site-packages (from hpfrec) (1.1.3)\n",
      "Requirement already satisfied: pytz>=2017.2 in /share/apps/python/3.8.6/intel/lib/python3.8/site-packages (from pandas>=0.24->hpfrec) (2020.1)\n",
      "Requirement already satisfied: python-dateutil>=2.7.3 in /share/apps/python/3.8.6/intel/lib/python3.8/site-packages (from pandas>=0.24->hpfrec) (2.8.1)\n",
      "Requirement already satisfied: six>=1.5 in /share/apps/python/3.8.6/intel/lib/python3.8/site-packages (from python-dateutil>=2.7.3->pandas>=0.24->hpfrec) (1.15.0)\n",
      "\u001b[33mWARNING: You are using pip version 20.2.3; however, version 22.0.4 is available.\n",
      "You should consider upgrading via the '/share/apps/python/3.8.6/intel/bin/python -m pip install --upgrade pip' command.\u001b[0m\n",
      "Defaulting to user installation because normal site-packages is not writeable\n",
      "Requirement already satisfied: tensorflow in /home/uk2051/.local/lib/python3.8/site-packages (2.8.0)\n",
      "Requirement already satisfied: gast>=0.2.1 in /home/uk2051/.local/lib/python3.8/site-packages (from tensorflow) (0.5.3)\n",
      "Requirement already satisfied: google-pasta>=0.1.1 in /home/uk2051/.local/lib/python3.8/site-packages (from tensorflow) (0.2.0)\n",
      "Requirement already satisfied: tensorflow-io-gcs-filesystem>=0.23.1 in /home/uk2051/.local/lib/python3.8/site-packages (from tensorflow) (0.25.0)\n",
      "Requirement already satisfied: opt-einsum>=2.3.2 in /home/uk2051/.local/lib/python3.8/site-packages (from tensorflow) (3.3.0)\n",
      "Requirement already satisfied: typing-extensions>=3.6.6 in /home/uk2051/.local/lib/python3.8/site-packages (from tensorflow) (4.2.0)\n",
      "Requirement already satisfied: numpy>=1.20 in /home/uk2051/.local/lib/python3.8/site-packages (from tensorflow) (1.22.3)\n",
      "Requirement already satisfied: tensorboard<2.9,>=2.8 in /home/uk2051/.local/lib/python3.8/site-packages (from tensorflow) (2.8.0)\n",
      "Requirement already satisfied: astunparse>=1.6.0 in /home/uk2051/.local/lib/python3.8/site-packages (from tensorflow) (1.6.3)\n",
      "Requirement already satisfied: libclang>=9.0.1 in /home/uk2051/.local/lib/python3.8/site-packages (from tensorflow) (14.0.1)\n",
      "Requirement already satisfied: grpcio<2.0,>=1.24.3 in /home/uk2051/.local/lib/python3.8/site-packages (from tensorflow) (1.44.0)\n",
      "Requirement already satisfied: setuptools in /share/apps/python/3.8.6/intel/lib/python3.8/site-packages (from tensorflow) (49.2.1)\n",
      "Requirement already satisfied: absl-py>=0.4.0 in /share/apps/python/3.8.6/intel/lib/python3.8/site-packages (from tensorflow) (0.13.0)\n",
      "Requirement already satisfied: termcolor>=1.1.0 in /home/uk2051/.local/lib/python3.8/site-packages (from tensorflow) (1.1.0)\n",
      "Requirement already satisfied: tf-estimator-nightly==2.8.0.dev2021122109 in /home/uk2051/.local/lib/python3.8/site-packages (from tensorflow) (2.8.0.dev2021122109)\n",
      "Requirement already satisfied: protobuf>=3.9.2 in /home/uk2051/.local/lib/python3.8/site-packages (from tensorflow) (3.20.1)\n",
      "Requirement already satisfied: flatbuffers>=1.12 in /home/uk2051/.local/lib/python3.8/site-packages (from tensorflow) (2.0)\n",
      "Requirement already satisfied: wrapt>=1.11.0 in /home/uk2051/.local/lib/python3.8/site-packages (from tensorflow) (1.14.0)\n",
      "Requirement already satisfied: keras<2.9,>=2.8.0rc0 in /home/uk2051/.local/lib/python3.8/site-packages (from tensorflow) (2.8.0)\n",
      "Requirement already satisfied: keras-preprocessing>=1.1.1 in /home/uk2051/.local/lib/python3.8/site-packages (from tensorflow) (1.1.2)\n",
      "Requirement already satisfied: six>=1.12.0 in /share/apps/python/3.8.6/intel/lib/python3.8/site-packages (from tensorflow) (1.15.0)\n",
      "Requirement already satisfied: h5py>=2.9.0 in /home/uk2051/.local/lib/python3.8/site-packages (from tensorflow) (3.6.0)\n",
      "Requirement already satisfied: tensorboard-plugin-wit>=1.6.0 in /home/uk2051/.local/lib/python3.8/site-packages (from tensorboard<2.9,>=2.8->tensorflow) (1.8.1)\n",
      "Requirement already satisfied: werkzeug>=0.11.15 in /home/uk2051/.local/lib/python3.8/site-packages (from tensorboard<2.9,>=2.8->tensorflow) (2.1.1)\n",
      "Requirement already satisfied: requests<3,>=2.21.0 in /share/apps/python/3.8.6/intel/lib/python3.8/site-packages (from tensorboard<2.9,>=2.8->tensorflow) (2.24.0)\n",
      "Requirement already satisfied: tensorboard-data-server<0.7.0,>=0.6.0 in /home/uk2051/.local/lib/python3.8/site-packages (from tensorboard<2.9,>=2.8->tensorflow) (0.6.1)\n",
      "Requirement already satisfied: wheel>=0.26 in /share/apps/python/3.8.6/intel/lib/python3.8/site-packages (from tensorboard<2.9,>=2.8->tensorflow) (0.35.1)\n",
      "Requirement already satisfied: google-auth<3,>=1.6.3 in /home/uk2051/.local/lib/python3.8/site-packages (from tensorboard<2.9,>=2.8->tensorflow) (2.6.6)\n",
      "Requirement already satisfied: google-auth-oauthlib<0.5,>=0.4.1 in /home/uk2051/.local/lib/python3.8/site-packages (from tensorboard<2.9,>=2.8->tensorflow) (0.4.6)\n",
      "Requirement already satisfied: markdown>=2.6.8 in /home/uk2051/.local/lib/python3.8/site-packages (from tensorboard<2.9,>=2.8->tensorflow) (3.3.6)\n",
      "Requirement already satisfied: idna<3,>=2.5 in /share/apps/python/3.8.6/intel/lib/python3.8/site-packages (from requests<3,>=2.21.0->tensorboard<2.9,>=2.8->tensorflow) (2.10)\n",
      "Requirement already satisfied: urllib3!=1.25.0,!=1.25.1,<1.26,>=1.21.1 in /share/apps/python/3.8.6/intel/lib/python3.8/site-packages (from requests<3,>=2.21.0->tensorboard<2.9,>=2.8->tensorflow) (1.25.10)\n",
      "Requirement already satisfied: chardet<4,>=3.0.2 in /share/apps/python/3.8.6/intel/lib/python3.8/site-packages (from requests<3,>=2.21.0->tensorboard<2.9,>=2.8->tensorflow) (3.0.4)\n",
      "Requirement already satisfied: certifi>=2017.4.17 in /share/apps/python/3.8.6/intel/lib/python3.8/site-packages (from requests<3,>=2.21.0->tensorboard<2.9,>=2.8->tensorflow) (2020.6.20)\n",
      "Requirement already satisfied: pyasn1-modules>=0.2.1 in /home/uk2051/.local/lib/python3.8/site-packages (from google-auth<3,>=1.6.3->tensorboard<2.9,>=2.8->tensorflow) (0.2.8)\n",
      "Requirement already satisfied: cachetools<6.0,>=2.0.0 in /home/uk2051/.local/lib/python3.8/site-packages (from google-auth<3,>=1.6.3->tensorboard<2.9,>=2.8->tensorflow) (5.0.0)\n",
      "Requirement already satisfied: rsa<5,>=3.1.4; python_version >= \"3.6\" in /home/uk2051/.local/lib/python3.8/site-packages (from google-auth<3,>=1.6.3->tensorboard<2.9,>=2.8->tensorflow) (4.8)\n",
      "Requirement already satisfied: requests-oauthlib>=0.7.0 in /home/uk2051/.local/lib/python3.8/site-packages (from google-auth-oauthlib<0.5,>=0.4.1->tensorboard<2.9,>=2.8->tensorflow) (1.3.1)\n",
      "Requirement already satisfied: importlib-metadata>=4.4; python_version < \"3.10\" in /home/uk2051/.local/lib/python3.8/site-packages (from markdown>=2.6.8->tensorboard<2.9,>=2.8->tensorflow) (4.11.3)\n"
     ]
    },
    {
     "name": "stdout",
     "output_type": "stream",
     "text": [
      "Requirement already satisfied: pyasn1<0.5.0,>=0.4.6 in /home/uk2051/.local/lib/python3.8/site-packages (from pyasn1-modules>=0.2.1->google-auth<3,>=1.6.3->tensorboard<2.9,>=2.8->tensorflow) (0.4.8)\n",
      "Requirement already satisfied: oauthlib>=3.0.0 in /share/apps/python/3.8.6/intel/lib/python3.8/site-packages (from requests-oauthlib>=0.7.0->google-auth-oauthlib<0.5,>=0.4.1->tensorboard<2.9,>=2.8->tensorflow) (3.1.0)\n",
      "Requirement already satisfied: zipp>=0.5 in /home/uk2051/.local/lib/python3.8/site-packages (from importlib-metadata>=4.4; python_version < \"3.10\"->markdown>=2.6.8->tensorboard<2.9,>=2.8->tensorflow) (3.8.0)\n",
      "\u001b[33mWARNING: You are using pip version 20.2.3; however, version 22.0.4 is available.\n",
      "You should consider upgrading via the '/share/apps/python/3.8.6/intel/bin/python -m pip install --upgrade pip' command.\u001b[0m\n"
     ]
    }
   ],
   "source": [
    "!pip install -U scikit-learn\n",
    "!pip install hpfrec\n",
    "!pip install tensorflow\n",
    "\n",
    "import warnings\n",
    "warnings.filterwarnings('ignore')\n",
    "import tensorflow as tf\n",
    "import numpy as np\n",
    "import numpy.random as npr\n",
    "import pandas as pd\n",
    "import timeit\n",
    "\n",
    "from scipy import sparse\n",
    "from sklearn.metrics import mean_squared_error\n",
    "from sklearn.linear_model import Ridge, LinearRegression"
   ]
  },
  {
   "cell_type": "code",
   "execution_count": 17,
   "metadata": {},
   "outputs": [],
   "source": [
    "countOfTopSongsToRecommend = 1000"
   ]
  },
  {
   "cell_type": "code",
   "execution_count": 18,
   "metadata": {},
   "outputs": [],
   "source": [
    "def CreateExposureAndRatingsMatrixAndTopIds(maxRecoCount):\n",
    "    df_ratings = pd.read_csv(\"/home/uk2051/ML_Project/train_0.txt\", sep=\"\\t\", header=None,names=[\"UserId\", \"ItemId\", \"Count\"])    \n",
    "\n",
    "    \n",
    "    #Unique Rating Counts\n",
    "    uniqueValCounts = df_ratings[\"ItemId\"].value_counts()\n",
    "    maxSongsList =  pd.DataFrame(uniqueValCounts).head(maxRecoCount).index.tolist()\n",
    "    \n",
    "    \n",
    "    df_exposures = df_ratings.copy()\n",
    "    df_exposures['Count'] = df_exposures['Count'].where(df_exposures['Count'] == 0, 1)\n",
    "    totalUsers = df_ratings[\"UserId\"].max() + 1\n",
    "    totalItems = df_ratings[\"ItemId\"].max() + 1\n",
    "    print('Total users are: ',totalUsers)\n",
    "    print('Total songs are: ',totalItems)\n",
    "    matrix_ratings = sparse.coo_matrix((df_ratings[\"Count\"],(df_ratings[\"UserId\"],df_ratings[\"ItemId\"])),shape=(totalUsers,totalItems)).tocsr()\n",
    "    matrix_exposure = sparse.coo_matrix((df_exposures[\"Count\"],(df_exposures[\"UserId\"],df_exposures[\"ItemId\"])),shape=(totalUsers,totalItems)).tocsr()\n",
    "    return totalUsers, totalItems, matrix_exposure, matrix_ratings, maxSongsList"
   ]
  },
  {
   "cell_type": "code",
   "execution_count": 19,
   "metadata": {},
   "outputs": [
    {
     "name": "stdout",
     "output_type": "stream",
     "text": [
      "Total users are:  200000\n",
      "Total songs are:  136736\n"
     ]
    }
   ],
   "source": [
    "totalUsers, totalSongs, matrix_exposure, matrix_ratings, maxSongsList = CreateExposureAndRatingsMatrixAndTopIds(countOfTopSongsToRecommend)"
   ]
  },
  {
   "cell_type": "code",
   "execution_count": 20,
   "metadata": {},
   "outputs": [],
   "source": [
    "#Reading thetas and betas\n",
    "def GetThetaAndBeta():\n",
    "    user_thetas = pd.read_csv(\"/home/uk2051/ML_Project/Params/Theta\",header=None)\n",
    "    user_betas = pd.read_csv(\"/home/uk2051/ML_Project/Params/Beta\",header=None)\n",
    "    user_betas = user_betas.T\n",
    "    print(\"Users factors shape: \",user_thetas.shape)\n",
    "    print(\"Songs factors shape: \",user_betas.shape)    \n",
    "    return user_thetas, user_betas "
   ]
  },
  {
   "cell_type": "code",
   "execution_count": 21,
   "metadata": {},
   "outputs": [
    {
     "name": "stdout",
     "output_type": "stream",
     "text": [
      "Users factors shape:  (200000, 10)\n",
      "Songs factors shape:  (10, 136736)\n"
     ]
    }
   ],
   "source": [
    "#Fetching theta and betas from csvs\n",
    "user_thetas, item_betas = GetThetaAndBeta()"
   ]
  },
  {
   "cell_type": "code",
   "execution_count": 22,
   "metadata": {},
   "outputs": [],
   "source": [
    "def GetThetaBetaProdForSongId(user_thetas, item_betas, currSongId):\n",
    "    current_song_beta = item_betas.iloc[:,currSongId]\n",
    "    matVectorProd = np.matmul(user_thetas,current_song_beta)\n",
    "    matVectorProd = matVectorProd.to_numpy()\n",
    "    matVectorProd = np.reshape(matVectorProd,(user_thetas.shape[0],1))\n",
    "    return matVectorProd"
   ]
  },
  {
   "cell_type": "code",
   "execution_count": 23,
   "metadata": {},
   "outputs": [],
   "source": [
    "#print (maxSongsList)"
   ]
  },
  {
   "cell_type": "code",
   "execution_count": 24,
   "metadata": {},
   "outputs": [
    {
     "name": "stdout",
     "output_type": "stream",
     "text": [
      "Start Linear Regression\n",
      "Time Taken for training: \n",
      "-0.001543533056974411 sec\n"
     ]
    }
   ],
   "source": [
    "\n",
    "\n",
    "reg = Ridge(normalize=True)\n",
    "#reg = LinearRegression(n_jobs = 8)\n",
    "\n",
    "\n",
    "print('Start Linear Regression')\n",
    "tic = timeit.timeit()\n",
    "#for i in range(maxSongsList):  \n",
    "for i in maxSongsList:  \n",
    "    a_hat_curr_song = GetThetaBetaProdForSongId(user_thetas, item_betas, i)\n",
    "    curr_item_exposures = matrix_exposure[:,i].toarray()\n",
    "    curr_item_ratings = matrix_ratings[:,i].toarray()\n",
    "    curr_features = app_row = np.column_stack((curr_item_exposures, a_hat_curr_song))\n",
    "    reg.fit(curr_features, curr_item_ratings)\n",
    "\n",
    "toc = timeit.timeit()\n",
    "print(\"Time Taken for training: \")\n",
    "print (toc - tic, 'sec')\n",
    "#    print(\"Iteration Success:\", i)\n",
    "#    print(type(curr_item_exposures))\n",
    "#    print(type(curr_item_ratings))\n",
    "#    print(curr_item_exposures.shape)\n",
    "#    print(curr_item_ratings.shape)\n",
    "#    print(curr_features.shape)\n",
    "\n",
    "\n",
    "\n",
    "#    reg.fit(np.column_stack([a_matrix[:,i], a_hat_matrix[:,i]]), matrix[:,i])\n",
    "#    allWeights[i,:] = reg.coef_\n",
    "#    allIntercepts[i,:] = reg.intercept_\n",
    "#    weights = reg.coef_\n",
    "#    print(weights)"
   ]
  },
  {
   "cell_type": "code",
   "execution_count": 25,
   "metadata": {},
   "outputs": [],
   "source": [
    "#df_test = pd.read_csv(\"/content/drive/MyDrive/ML_Project_Datasets/test_0.txt\", sep=\"\\t\", header=None,\n",
    "#                 names=[\"UserId\", \"ItemId\", \"Count\"])\n",
    "df_test1 = pd.read_csv(\"/home/uk2051/ML_Project/test_0.txt\", sep=\"\\t\", header=None,\n",
    "                 names=[\"UserId\", \"ItemId\", \"Count\"])\n"
   ]
  },
  {
   "cell_type": "code",
   "execution_count": 26,
   "metadata": {},
   "outputs": [
    {
     "data": {
      "text/plain": [
       "(2000000, 3)"
      ]
     },
     "execution_count": 26,
     "metadata": {},
     "output_type": "execute_result"
    }
   ],
   "source": [
    "df_test1.shape"
   ]
  },
  {
   "cell_type": "code",
   "execution_count": 27,
   "metadata": {},
   "outputs": [],
   "source": [
    "#Only predict for starting 1,0000 users\n",
    "df_test = df_test1.head(10000)"
   ]
  },
  {
   "cell_type": "code",
   "execution_count": 28,
   "metadata": {},
   "outputs": [
    {
     "data": {
      "text/plain": [
       "(10000, 3)"
      ]
     },
     "execution_count": 28,
     "metadata": {},
     "output_type": "execute_result"
    }
   ],
   "source": [
    "df_test.shape"
   ]
  },
  {
   "cell_type": "code",
   "execution_count": 29,
   "metadata": {},
   "outputs": [],
   "source": [
    "y_true_test = []\n",
    "y_pred_test = []\n",
    "for index, row in df_test.iterrows():\n",
    "    curr_user = row[\"UserId\"]\n",
    "    curr_song = row[\"ItemId\"]\n",
    "    if (curr_song in maxSongsList):\n",
    "        y_true = row[\"Count\"]\n",
    "        \n",
    "        a_hat_curr_song = GetThetaBetaProdForSongId(user_thetas, item_betas, curr_song)\n",
    "        a_hat_curr_song_curr_user = a_hat_curr_song[curr_user]\n",
    "        \n",
    "        curr_item_exposures = matrix_exposure[curr_user,curr_song]\n",
    "        curr_item_ratings = matrix_ratings[curr_user,curr_song]\n",
    "\n",
    "        curr_features = app_row = np.column_stack((curr_item_exposures, a_hat_curr_song_curr_user))\n",
    "\n",
    "        \n",
    "        \n",
    "        y_pred = reg.predict(curr_features)        \n",
    "        y_true_test.append(y_true)\n",
    "        y_pred_test.append(y_pred)\n",
    "#      break"
   ]
  },
  {
   "cell_type": "code",
   "execution_count": 30,
   "metadata": {},
   "outputs": [
    {
     "name": "stdout",
     "output_type": "stream",
     "text": [
      "Root mean squared error using deconfounder:\n",
      "3.79339894959138\n"
     ]
    }
   ],
   "source": [
    "y_pred_test = np.reshape(y_pred_test, (len(y_true_test), 1)).tolist()\n",
    "\n",
    "\n",
    "#print(y_true_test)\n",
    "#print(y_pred_test)\n",
    "\n",
    "rmse_deconfounder = mean_squared_error(y_true_test, y_pred_test, squared=False)\n",
    "print(\"Root mean squared error using deconfounder:\")\n",
    "print(rmse_deconfounder)"
   ]
  },
  {
   "cell_type": "code",
   "execution_count": null,
   "metadata": {},
   "outputs": [],
   "source": []
  },
  {
   "cell_type": "code",
   "execution_count": null,
   "metadata": {},
   "outputs": [],
   "source": []
  }
 ],
 "metadata": {
  "kernelspec": {
   "display_name": "Python 3",
   "language": "python",
   "name": "python3"
  },
  "language_info": {
   "codemirror_mode": {
    "name": "ipython",
    "version": 3
   },
   "file_extension": ".py",
   "mimetype": "text/x-python",
   "name": "python",
   "nbconvert_exporter": "python",
   "pygments_lexer": "ipython3",
   "version": "3.8.6"
  }
 },
 "nbformat": 4,
 "nbformat_minor": 4
}
