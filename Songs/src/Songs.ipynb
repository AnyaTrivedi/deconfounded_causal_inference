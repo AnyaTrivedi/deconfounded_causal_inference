{
 "cells": [
  {
   "cell_type": "code",
   "execution_count": 1,
   "metadata": {
    "colab": {
     "base_uri": "https://localhost:8080/"
    },
    "id": "xMmBae484IMy",
    "outputId": "208898e8-7336-42df-937c-56b3a1369094",
    "scrolled": false
   },
   "outputs": [
    {
     "name": "stdout",
     "output_type": "stream",
     "text": [
      "Defaulting to user installation because normal site-packages is not writeable\n",
      "Requirement already satisfied: tensorflow_probability in /home/uk2051/.local/lib/python3.8/site-packages (0.16.0)\n",
      "Requirement already satisfied: gast>=0.3.2 in /home/uk2051/.local/lib/python3.8/site-packages (from tensorflow_probability) (0.5.3)\n",
      "Requirement already satisfied: cloudpickle>=1.3 in /home/uk2051/.local/lib/python3.8/site-packages (from tensorflow_probability) (2.0.0)\n",
      "Requirement already satisfied: numpy>=1.13.3 in /home/uk2051/.local/lib/python3.8/site-packages (from tensorflow_probability) (1.22.3)\n",
      "Requirement already satisfied: dm-tree in /home/uk2051/.local/lib/python3.8/site-packages (from tensorflow_probability) (0.1.7)\n",
      "Requirement already satisfied: six>=1.10.0 in /share/apps/python/3.8.6/intel/lib/python3.8/site-packages (from tensorflow_probability) (1.15.0)\n",
      "Requirement already satisfied: absl-py in /share/apps/python/3.8.6/intel/lib/python3.8/site-packages (from tensorflow_probability) (0.13.0)\n",
      "Requirement already satisfied: decorator in /share/apps/python/3.8.6/intel/lib/python3.8/site-packages (from tensorflow_probability) (4.4.2)\n",
      "\u001b[33mWARNING: You are using pip version 20.2.3; however, version 22.0.4 is available.\n",
      "You should consider upgrading via the '/share/apps/python/3.8.6/intel/bin/python -m pip install --upgrade pip' command.\u001b[0m\n",
      "Defaulting to user installation because normal site-packages is not writeable\n",
      "Requirement already up-to-date: scikit-learn in /home/uk2051/.local/lib/python3.8/site-packages (1.0.2)\n",
      "Requirement already satisfied, skipping upgrade: threadpoolctl>=2.0.0 in /home/uk2051/.local/lib/python3.8/site-packages (from scikit-learn) (3.1.0)\n",
      "Requirement already satisfied, skipping upgrade: numpy>=1.14.6 in /home/uk2051/.local/lib/python3.8/site-packages (from scikit-learn) (1.22.3)\n",
      "Requirement already satisfied, skipping upgrade: joblib>=0.11 in /home/uk2051/.local/lib/python3.8/site-packages (from scikit-learn) (1.1.0)\n",
      "Requirement already satisfied, skipping upgrade: scipy>=1.1.0 in /share/apps/python/3.8.6/intel/lib/python3.8/site-packages/scipy-1.5.2-py3.8-linux-x86_64.egg (from scikit-learn) (1.5.2)\n",
      "\u001b[33mWARNING: You are using pip version 20.2.3; however, version 22.0.4 is available.\n",
      "You should consider upgrading via the '/share/apps/python/3.8.6/intel/bin/python -m pip install --upgrade pip' command.\u001b[0m\n",
      "Defaulting to user installation because normal site-packages is not writeable\n",
      "Requirement already satisfied: hpfrec in /home/uk2051/.local/lib/python3.8/site-packages (0.2.5.post4)\n",
      "Requirement already satisfied: numpy>=1.18 in /home/uk2051/.local/lib/python3.8/site-packages (from hpfrec) (1.22.3)\n",
      "Requirement already satisfied: cython in /share/apps/python/3.8.6/intel/lib/python3.8/site-packages/Cython-0.29.21-py3.8-linux-x86_64.egg (from hpfrec) (0.29.21)\n",
      "Requirement already satisfied: scipy in /share/apps/python/3.8.6/intel/lib/python3.8/site-packages/scipy-1.5.2-py3.8-linux-x86_64.egg (from hpfrec) (1.5.2)\n",
      "Requirement already satisfied: pandas>=0.24 in /share/apps/python/3.8.6/intel/lib/python3.8/site-packages (from hpfrec) (1.1.3)\n",
      "Requirement already satisfied: pytz>=2017.2 in /share/apps/python/3.8.6/intel/lib/python3.8/site-packages (from pandas>=0.24->hpfrec) (2020.1)\n",
      "Requirement already satisfied: python-dateutil>=2.7.3 in /share/apps/python/3.8.6/intel/lib/python3.8/site-packages (from pandas>=0.24->hpfrec) (2.8.1)\n",
      "Requirement already satisfied: six>=1.5 in /share/apps/python/3.8.6/intel/lib/python3.8/site-packages (from python-dateutil>=2.7.3->pandas>=0.24->hpfrec) (1.15.0)\n",
      "\u001b[33mWARNING: You are using pip version 20.2.3; however, version 22.0.4 is available.\n",
      "You should consider upgrading via the '/share/apps/python/3.8.6/intel/bin/python -m pip install --upgrade pip' command.\u001b[0m\n",
      "Defaulting to user installation because normal site-packages is not writeable\n",
      "Requirement already satisfied: tensorflow in /home/uk2051/.local/lib/python3.8/site-packages (2.8.0)\n",
      "Requirement already satisfied: gast>=0.2.1 in /home/uk2051/.local/lib/python3.8/site-packages (from tensorflow) (0.5.3)\n",
      "Requirement already satisfied: google-pasta>=0.1.1 in /home/uk2051/.local/lib/python3.8/site-packages (from tensorflow) (0.2.0)\n",
      "Requirement already satisfied: grpcio<2.0,>=1.24.3 in /home/uk2051/.local/lib/python3.8/site-packages (from tensorflow) (1.44.0)\n",
      "Requirement already satisfied: numpy>=1.20 in /home/uk2051/.local/lib/python3.8/site-packages (from tensorflow) (1.22.3)\n",
      "Requirement already satisfied: libclang>=9.0.1 in /home/uk2051/.local/lib/python3.8/site-packages (from tensorflow) (14.0.1)\n",
      "Requirement already satisfied: opt-einsum>=2.3.2 in /home/uk2051/.local/lib/python3.8/site-packages (from tensorflow) (3.3.0)\n",
      "Requirement already satisfied: setuptools in /share/apps/python/3.8.6/intel/lib/python3.8/site-packages (from tensorflow) (49.2.1)\n",
      "Requirement already satisfied: absl-py>=0.4.0 in /share/apps/python/3.8.6/intel/lib/python3.8/site-packages (from tensorflow) (0.13.0)\n",
      "Requirement already satisfied: tf-estimator-nightly==2.8.0.dev2021122109 in /home/uk2051/.local/lib/python3.8/site-packages (from tensorflow) (2.8.0.dev2021122109)\n",
      "Requirement already satisfied: wrapt>=1.11.0 in /home/uk2051/.local/lib/python3.8/site-packages (from tensorflow) (1.14.0)\n",
      "Requirement already satisfied: tensorflow-io-gcs-filesystem>=0.23.1 in /home/uk2051/.local/lib/python3.8/site-packages (from tensorflow) (0.25.0)\n",
      "Requirement already satisfied: flatbuffers>=1.12 in /home/uk2051/.local/lib/python3.8/site-packages (from tensorflow) (2.0)\n",
      "Requirement already satisfied: h5py>=2.9.0 in /home/uk2051/.local/lib/python3.8/site-packages (from tensorflow) (3.6.0)\n",
      "Requirement already satisfied: astunparse>=1.6.0 in /home/uk2051/.local/lib/python3.8/site-packages (from tensorflow) (1.6.3)\n",
      "Requirement already satisfied: tensorboard<2.9,>=2.8 in /home/uk2051/.local/lib/python3.8/site-packages (from tensorflow) (2.8.0)\n",
      "Requirement already satisfied: six>=1.12.0 in /share/apps/python/3.8.6/intel/lib/python3.8/site-packages (from tensorflow) (1.15.0)\n",
      "Requirement already satisfied: termcolor>=1.1.0 in /home/uk2051/.local/lib/python3.8/site-packages (from tensorflow) (1.1.0)\n",
      "Requirement already satisfied: keras<2.9,>=2.8.0rc0 in /home/uk2051/.local/lib/python3.8/site-packages (from tensorflow) (2.8.0)\n",
      "Requirement already satisfied: keras-preprocessing>=1.1.1 in /home/uk2051/.local/lib/python3.8/site-packages (from tensorflow) (1.1.2)\n",
      "Requirement already satisfied: protobuf>=3.9.2 in /home/uk2051/.local/lib/python3.8/site-packages (from tensorflow) (3.20.1)\n",
      "Requirement already satisfied: typing-extensions>=3.6.6 in /home/uk2051/.local/lib/python3.8/site-packages (from tensorflow) (4.2.0)\n",
      "Requirement already satisfied: wheel<1.0,>=0.23.0 in /share/apps/python/3.8.6/intel/lib/python3.8/site-packages (from astunparse>=1.6.0->tensorflow) (0.35.1)\n",
      "Requirement already satisfied: google-auth<3,>=1.6.3 in /home/uk2051/.local/lib/python3.8/site-packages (from tensorboard<2.9,>=2.8->tensorflow) (2.6.6)\n",
      "Requirement already satisfied: tensorboard-data-server<0.7.0,>=0.6.0 in /home/uk2051/.local/lib/python3.8/site-packages (from tensorboard<2.9,>=2.8->tensorflow) (0.6.1)\n",
      "Requirement already satisfied: google-auth-oauthlib<0.5,>=0.4.1 in /home/uk2051/.local/lib/python3.8/site-packages (from tensorboard<2.9,>=2.8->tensorflow) (0.4.6)\n",
      "Requirement already satisfied: tensorboard-plugin-wit>=1.6.0 in /home/uk2051/.local/lib/python3.8/site-packages (from tensorboard<2.9,>=2.8->tensorflow) (1.8.1)\n",
      "Requirement already satisfied: werkzeug>=0.11.15 in /home/uk2051/.local/lib/python3.8/site-packages (from tensorboard<2.9,>=2.8->tensorflow) (2.1.1)\n",
      "Requirement already satisfied: requests<3,>=2.21.0 in /share/apps/python/3.8.6/intel/lib/python3.8/site-packages (from tensorboard<2.9,>=2.8->tensorflow) (2.24.0)\n",
      "Requirement already satisfied: markdown>=2.6.8 in /home/uk2051/.local/lib/python3.8/site-packages (from tensorboard<2.9,>=2.8->tensorflow) (3.3.6)\n",
      "Requirement already satisfied: rsa<5,>=3.1.4; python_version >= \"3.6\" in /home/uk2051/.local/lib/python3.8/site-packages (from google-auth<3,>=1.6.3->tensorboard<2.9,>=2.8->tensorflow) (4.8)\n",
      "Requirement already satisfied: pyasn1-modules>=0.2.1 in /home/uk2051/.local/lib/python3.8/site-packages (from google-auth<3,>=1.6.3->tensorboard<2.9,>=2.8->tensorflow) (0.2.8)\n",
      "Requirement already satisfied: cachetools<6.0,>=2.0.0 in /home/uk2051/.local/lib/python3.8/site-packages (from google-auth<3,>=1.6.3->tensorboard<2.9,>=2.8->tensorflow) (5.0.0)\n",
      "Requirement already satisfied: requests-oauthlib>=0.7.0 in /home/uk2051/.local/lib/python3.8/site-packages (from google-auth-oauthlib<0.5,>=0.4.1->tensorboard<2.9,>=2.8->tensorflow) (1.3.1)\n",
      "Requirement already satisfied: chardet<4,>=3.0.2 in /share/apps/python/3.8.6/intel/lib/python3.8/site-packages (from requests<3,>=2.21.0->tensorboard<2.9,>=2.8->tensorflow) (3.0.4)\n",
      "Requirement already satisfied: certifi>=2017.4.17 in /share/apps/python/3.8.6/intel/lib/python3.8/site-packages (from requests<3,>=2.21.0->tensorboard<2.9,>=2.8->tensorflow) (2020.6.20)\n",
      "Requirement already satisfied: urllib3!=1.25.0,!=1.25.1,<1.26,>=1.21.1 in /share/apps/python/3.8.6/intel/lib/python3.8/site-packages (from requests<3,>=2.21.0->tensorboard<2.9,>=2.8->tensorflow) (1.25.10)\n",
      "Requirement already satisfied: idna<3,>=2.5 in /share/apps/python/3.8.6/intel/lib/python3.8/site-packages (from requests<3,>=2.21.0->tensorboard<2.9,>=2.8->tensorflow) (2.10)\n"
     ]
    },
    {
     "name": "stdout",
     "output_type": "stream",
     "text": [
      "Requirement already satisfied: importlib-metadata>=4.4; python_version < \"3.10\" in /home/uk2051/.local/lib/python3.8/site-packages (from markdown>=2.6.8->tensorboard<2.9,>=2.8->tensorflow) (4.11.3)\n",
      "Requirement already satisfied: pyasn1>=0.1.3 in /home/uk2051/.local/lib/python3.8/site-packages (from rsa<5,>=3.1.4; python_version >= \"3.6\"->google-auth<3,>=1.6.3->tensorboard<2.9,>=2.8->tensorflow) (0.4.8)\n",
      "Requirement already satisfied: oauthlib>=3.0.0 in /share/apps/python/3.8.6/intel/lib/python3.8/site-packages (from requests-oauthlib>=0.7.0->google-auth-oauthlib<0.5,>=0.4.1->tensorboard<2.9,>=2.8->tensorflow) (3.1.0)\n",
      "Requirement already satisfied: zipp>=0.5 in /home/uk2051/.local/lib/python3.8/site-packages (from importlib-metadata>=4.4; python_version < \"3.10\"->markdown>=2.6.8->tensorboard<2.9,>=2.8->tensorflow) (3.8.0)\n",
      "\u001b[33mWARNING: You are using pip version 20.2.3; however, version 22.0.4 is available.\n",
      "You should consider upgrading via the '/share/apps/python/3.8.6/intel/bin/python -m pip install --upgrade pip' command.\u001b[0m\n"
     ]
    }
   ],
   "source": [
    "!pip install tensorflow_probability\n",
    "!pip install -U scikit-learn\n",
    "!pip install hpfrec\n",
    "!pip install tensorflow"
   ]
  },
  {
   "cell_type": "code",
   "execution_count": 2,
   "metadata": {
    "colab": {
     "base_uri": "https://localhost:8080/"
    },
    "id": "J4rujow36a4I",
    "outputId": "ba1828a0-2584-4222-b823-4c031d4aa548"
   },
   "outputs": [
    {
     "name": "stderr",
     "output_type": "stream",
     "text": [
      "/home/uk2051/.local/lib/python3.8/site-packages/numpy/core/getlimits.py:499: UserWarning: The value of the smallest subnormal for <class 'numpy.float32'> type is zero.\n",
      "  setattr(self, word, getattr(machar, word).flat[0])\n",
      "/home/uk2051/.local/lib/python3.8/site-packages/numpy/core/getlimits.py:89: UserWarning: The value of the smallest subnormal for <class 'numpy.float32'> type is zero.\n",
      "  return self._float_to_str(self.smallest_subnormal)\n",
      "/home/uk2051/.local/lib/python3.8/site-packages/numpy/core/getlimits.py:499: UserWarning: The value of the smallest subnormal for <class 'numpy.float64'> type is zero.\n",
      "  setattr(self, word, getattr(machar, word).flat[0])\n",
      "/home/uk2051/.local/lib/python3.8/site-packages/numpy/core/getlimits.py:89: UserWarning: The value of the smallest subnormal for <class 'numpy.float64'> type is zero.\n",
      "  return self._float_to_str(self.smallest_subnormal)\n"
     ]
    }
   ],
   "source": [
    "#%tensorflow_version 1.x\n",
    "import tensorflow as tf\n",
    "import numpy as np\n",
    "import numpy.random as npr\n",
    "import pandas as pd\n",
    "import tensorflow as tf\n",
    "import tensorflow_probability as tfp\n",
    "#import statsmodels.api as sm\n",
    "#import networkx as nx\n",
    "\n",
    "#from tensorflow_probability import edward2 as ed\n",
    "#from sklearn.datasets import load_breast_cancer\n",
    "from pandas.plotting import scatter_matrix\n",
    "from scipy import sparse, stats\n",
    "from sklearn.model_selection import train_test_split\n",
    "from sklearn.linear_model import LogisticRegression \n",
    "from sklearn.metrics import confusion_matrix, classification_report, roc_auc_score, roc_curve, mean_squared_error, r2_score\n",
    "from sklearn.utils import shuffle\n",
    "\n",
    "import matplotlib\n",
    "matplotlib.rcParams.update({'font.sans-serif' : 'Helvetica',\n",
    "                            'axes.labelsize': 10,\n",
    "                            'xtick.labelsize' : 6,\n",
    "                            'ytick.labelsize' : 6,\n",
    "                            'axes.titlesize' : 10})\n",
    "import matplotlib.pyplot as plt\n",
    "\n",
    "#import seaborn as sns\n",
    "#color_names = [\"windows blue\",\n",
    "#               \"amber\",\n",
    "#               \"crimson\",\n",
    "#               \"faded green\",\n",
    "#               \"dusty purple\",\n",
    "#               \"greyish\"]\n",
    "#colors = sns.xkcd_palette(color_names)\n",
    "#sns.set(style=\"white\", palette=sns.xkcd_palette(color_names), color_codes = False)\n"
   ]
  },
  {
   "cell_type": "code",
   "execution_count": 11,
   "metadata": {
    "id": "zdIPbRUF6f9j"
   },
   "outputs": [
    {
     "name": "stdout",
     "output_type": "stream",
     "text": [
      "(76344627, 3)\n"
     ]
    }
   ],
   "source": [
    "#df_o = pd.read_csv(\"/content/drive/MyDrive/ML_Project_Datasets/train_0.txt\", sep=\"\\t\", header=None,\n",
    "#                 names=[\"UserId\", \"SongId\", \"Ratings\"])\n",
    "#df_o = pd.read_csv(\"/content/drive/MyDrive/ML_Project_Datasets/train_0.txt\", sep=\"\\t\", header=None,\n",
    "#                 names=[\"UserId\", \"ItemId\", \"Count\"])\n",
    "df_o = pd.read_csv(\"/home/uk2051/ML_Project/train_0.txt\", sep=\"\\t\", header=None,\n",
    "                 names=[\"UserId\", \"ItemId\", \"Count\"])\n",
    "print(df_o.shape)"
   ]
  },
  {
   "cell_type": "code",
   "execution_count": 12,
   "metadata": {
    "id": "u2R564ZP1L1C"
   },
   "outputs": [],
   "source": [
    "maxUserId = df_o[\"UserId\"].max()\n",
    "minUserId = df_o[\"UserId\"].min()\n",
    "maxSongId = df_o[\"ItemId\"].max()\n",
    "minSongId = df_o[\"ItemId\"].min()\n",
    "\n",
    "totalUsers = maxUserId +1\n",
    "totalItems = maxSongId + 1\n",
    "matrix = sparse.coo_matrix((df_o[\"Count\"],(df_o[\"UserId\"],df_o[\"ItemId\"])),shape=(totalUsers,totalItems))\n",
    "\n",
    "#Creating a matrix\n",
    "#First changing the datafram last column to only contain 1\n",
    "df_o['Count'] = df_o['Count'].where(df_o['Count'] == 0, 1) #Modified the original dataframe, look into it\n",
    "\n",
    "a_matrix = sparse.coo_matrix((df_o[\"Count\"],(df_o[\"UserId\"],df_o[\"ItemId\"])),shape=(totalUsers,totalItems))\n",
    "\n",
    "#matrix = matrix.tocsr()[:10000,:5000].tocoo()\n",
    "#a_matrix = a_matrix.tocsr()[:10000,:5000].tocoo()\n",
    "matrix = matrix.tocsr().tocoo()\n",
    "a_matrix = a_matrix.tocsr().tocoo()"
   ]
  },
  {
   "cell_type": "code",
   "execution_count": 13,
   "metadata": {
    "colab": {
     "base_uri": "https://localhost:8080/"
    },
    "id": "JXrEHZv22KXV",
    "outputId": "7f9e2533-1136-47d4-c2d5-224f7cd2733f"
   },
   "outputs": [
    {
     "name": "stdout",
     "output_type": "stream",
     "text": [
      "(200000, 136736)\n"
     ]
    }
   ],
   "source": [
    "print(matrix.shape)"
   ]
  },
  {
   "cell_type": "code",
   "execution_count": 14,
   "metadata": {
    "colab": {
     "base_uri": "https://localhost:8080/"
    },
    "id": "h_xiJvtInJWp",
    "outputId": "d56d2e9a-118c-4986-c74f-77f72ca81851"
   },
   "outputs": [
    {
     "name": "stdout",
     "output_type": "stream",
     "text": [
      "(200000, 136736)\n"
     ]
    }
   ],
   "source": [
    "print(a_matrix.shape)"
   ]
  },
  {
   "cell_type": "code",
   "execution_count": 15,
   "metadata": {
    "id": "ohKmLWJmHgWr"
   },
   "outputs": [],
   "source": [
    "import pandas as pd, numpy as np\n",
    "from hpfrec import HPF\n",
    "np.random.seed(1)\n"
   ]
  },
  {
   "cell_type": "markdown",
   "metadata": {
    "id": "OWx142xaIC2M"
   },
   "source": [
    "Parameters\n",
    "\t----------\n",
    "\tk : int -> Number of latent factors to use.\n",
    "\ta : float -> Shape parameter for the user-factor matrix.\n",
    "\ta_prime : float -> Shape parameter and dividend of the rate parameter for the user activity vector.\n",
    "\tb_prime : float -> Divisor of the rate parameter for the user activity vector.\n",
    "\tc : float -> Shape parameter for the item-factor matrix.\n",
    "\tc_prime : float -> Shape parameter and dividend of the rate parameter for the item popularity vector.\n",
    "\td_prime : float -> Divisor o the rate parameter for the item popularity vector.\n"
   ]
  },
  {
   "cell_type": "code",
   "execution_count": 16,
   "metadata": {
    "id": "lRYSiJe6JBwF"
   },
   "outputs": [
    {
     "name": "stdout",
     "output_type": "stream",
     "text": [
      "**********************************\n",
      "Hierarchical Poisson Factorization\n",
      "**********************************\n",
      "\n",
      "Number of users: 200000\n",
      "Number of items: 136736\n",
      "Latent factors to use: 10\n",
      "\n",
      "Initializing parameters...\n",
      "Allocating Phi matrix...\n",
      "Initializing optimization procedure...\n",
      "Iteration 10 | train llk: -385939044 | train rmse: 0.9496\n",
      "Iteration 20 | train llk: -341807546 | train rmse: 0.9250\n",
      "Iteration 30 | train llk: -331704043 | train rmse: 0.9170\n",
      "Iteration 40 | train llk: -330216810 | train rmse: 0.9162\n",
      "Iteration 50 | train llk: -329622779 | train rmse: 0.9157\n",
      "Iteration 60 | train llk: -329312690 | train rmse: 0.9155\n",
      "\n",
      "\n",
      "Optimization finished\n",
      "Final log-likelihood: -329312690\n",
      "Final RMSE: 0.9155\n",
      "Minutes taken (optimization part): 13.5\n",
      "\n",
      "Saving final parameters to .csv files...\n"
     ]
    }
   ],
   "source": [
    "a_matrix_copy = a_matrix.copy()\n",
    "\n",
    "def ReturnParamsFromHPF():\n",
    "    ## Full function call\n",
    "    recommender = HPF(\n",
    "      k=10, \n",
    "      a=0.3, \n",
    "      a_prime=0.3, \n",
    "      b_prime=1.0,\n",
    "      c=0.3, \n",
    "      c_prime=0.3, \n",
    "      d_prime=1.0,\n",
    "      maxiter=60,\n",
    "      verbose=True,\n",
    "      produce_dicts=False, \n",
    "      keep_all_objs=False,\n",
    "      save_folder =\"/home/uk2051/ML_Project/Params\")\n",
    "    recommender.fit(a_matrix_copy)\n",
    "    theta_users = recommender.Theta\n",
    "    eta_items = np.transpose(recommender.Beta)\n",
    "\n",
    "    \n",
    "    return theta_users, eta_items\n",
    "    \n",
    "theta_users, beta_items = ReturnParamsFromHPF()"
   ]
  }
 ],
 "metadata": {
  "colab": {
   "collapsed_sections": [],
   "name": "Songs.ipynb",
   "provenance": []
  },
  "kernelspec": {
   "display_name": "Python 3",
   "language": "python",
   "name": "python3"
  },
  "language_info": {
   "codemirror_mode": {
    "name": "ipython",
    "version": 3
   },
   "file_extension": ".py",
   "mimetype": "text/x-python",
   "name": "python",
   "nbconvert_exporter": "python",
   "pygments_lexer": "ipython3",
   "version": "3.8.6"
  }
 },
 "nbformat": 4,
 "nbformat_minor": 1
}
