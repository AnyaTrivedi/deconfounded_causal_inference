{
  "nbformat": 4,
  "nbformat_minor": 0,
  "metadata": {
    "colab": {
      "name": "Jobs.ipynb",
      "provenance": [],
      "collapsed_sections": []
    },
    "kernelspec": {
      "name": "python3",
      "display_name": "Python 3"
    },
    "language_info": {
      "name": "python"
    }
  },
  "cells": [
    {
      "cell_type": "markdown",
      "source": [
        "# Deconfounder on Jobs Data\n",
        "Deconfounder tutorial: https://colab.research.google.com/github/blei-lab/deconfounder_tutorial/blob/master/deconfounder_tutorial.ipynb#scrollTo=tYjfPtOW_zmc\n",
        "\n",
        "Jobs Data: https://users.nber.org/~rdehejia/data/.nswdata2.html"
      ],
      "metadata": {
        "id": "o8LSJuQIQnFO"
      }
    },
    {
      "cell_type": "markdown",
      "source": [
        "## Setup"
      ],
      "metadata": {
        "id": "3ItfAseaR2Cl"
      }
    },
    {
      "cell_type": "code",
      "execution_count": 72,
      "metadata": {
        "colab": {
          "base_uri": "https://localhost:8080/"
        },
        "id": "ceeJV0gDOHKq",
        "outputId": "888287d9-408b-4a0b-ed05-04ef50391a37"
      },
      "outputs": [
        {
          "output_type": "stream",
          "name": "stdout",
          "text": [
            "Requirement already satisfied: tensorflow_probability in /tensorflow-1.15.2/python3.7 (0.7.0)\n",
            "Requirement already satisfied: numpy>=1.13.3 in /usr/local/lib/python3.7/dist-packages (from tensorflow_probability) (1.21.5)\n",
            "Requirement already satisfied: decorator in /usr/local/lib/python3.7/dist-packages (from tensorflow_probability) (4.4.2)\n",
            "Requirement already satisfied: six>=1.10.0 in /usr/local/lib/python3.7/dist-packages (from tensorflow_probability) (1.15.0)\n",
            "Requirement already satisfied: cloudpickle>=0.6.1 in /usr/local/lib/python3.7/dist-packages (from tensorflow_probability) (1.3.0)\n"
          ]
        }
      ],
      "source": [
        "!pip install tensorflow_probability"
      ]
    },
    {
      "cell_type": "code",
      "source": [
        "%tensorflow_version 1.x\n",
        "import tensorflow as tf\n",
        "import numpy as np\n",
        "import numpy.random as npr\n",
        "import pandas as pd\n",
        "import tensorflow as tf\n",
        "import tensorflow_probability as tfp\n",
        "import statsmodels.api as sm\n",
        "\n",
        "from tensorflow_probability import edward2 as ed\n",
        "from sklearn.datasets import load_breast_cancer\n",
        "from pandas.plotting import scatter_matrix\n",
        "from scipy import sparse, stats\n",
        "from sklearn.model_selection import train_test_split\n",
        "from sklearn.linear_model import LogisticRegression \n",
        "from sklearn.metrics import confusion_matrix, classification_report, roc_auc_score, roc_curve, mean_squared_error, r2_score\n",
        "\n",
        "import matplotlib\n",
        "matplotlib.rcParams.update({'font.sans-serif' : 'Helvetica',\n",
        "                            'axes.labelsize': 10,\n",
        "                            'xtick.labelsize' : 6,\n",
        "                            'ytick.labelsize' : 6,\n",
        "                            'axes.titlesize' : 10})\n",
        "import matplotlib.pyplot as plt\n",
        "\n",
        "import seaborn as sns\n",
        "color_names = [\"windows blue\",\n",
        "               \"amber\",\n",
        "               \"crimson\",\n",
        "               \"faded green\",\n",
        "               \"dusty purple\",\n",
        "               \"greyish\"]\n",
        "colors = sns.xkcd_palette(color_names)\n",
        "sns.set(style=\"white\", palette=sns.xkcd_palette(color_names), color_codes = False)"
      ],
      "metadata": {
        "id": "7r-JmNHZR6gU"
      },
      "execution_count": 73,
      "outputs": []
    },
    {
      "cell_type": "code",
      "source": [
        "# set random seed so everyone gets the same number\n",
        "import random\n",
        "randseed = 123\n",
        "print(\"random seed: \", randseed)\n",
        "random.seed(randseed)\n",
        "np.random.seed(randseed)\n",
        "tf.set_random_seed(randseed)"
      ],
      "metadata": {
        "colab": {
          "base_uri": "https://localhost:8080/"
        },
        "id": "ywrTQ9SoSBQt",
        "outputId": "a0b4dd9a-0ffe-46d6-b1da-0f02f7e3119f"
      },
      "execution_count": 74,
      "outputs": [
        {
          "output_type": "stream",
          "name": "stdout",
          "text": [
            "random seed:  123\n"
          ]
        }
      ]
    },
    {
      "cell_type": "markdown",
      "source": [
        "## Clean Jobs Data\n",
        "\n",
        "Convert txt files to useable csv\n",
        "\n",
        "The order of the variables from left to right is: treatment indicator (1 if treated, 0 if not treated), age, education, Black (1 if black, 0 otherwise), Hispanic (1 if Hispanic, 0 otherwise), married (1 if married, 0 otherwise), nodegree (1 if no degree, 0 otherwise), RE75 (earnings in 1975), and RE78 (earnings in 1978). The last variable is the outcome; other variables are pre-treatment.\n",
        "\n"
      ],
      "metadata": {
        "id": "6wQ1aOfyP_7u"
      }
    },
    {
      "cell_type": "code",
      "source": [
        "def data_to_csv(txt_path, csv_path):\n",
        "  #convert text files to cleaned csv\n",
        "  columns = ['treatment','age', 'education', 'black', 'hispanic', 'married', 'nodegree', 're75', 're78']\n",
        "  control = pd.read_csv(txt_path, delimiter = '  ', header= None)\n",
        "  control.columns = columns\n",
        "  control.to_csv (csv_path, index=None)\n",
        "  return control\n"
      ],
      "metadata": {
        "id": "b56lkbEbOehn"
      },
      "execution_count": 75,
      "outputs": []
    },
    {
      "cell_type": "code",
      "source": [
        "columns = ['treatment','age', 'education', 'black', 'hispanic', 'married', 'nodegree', 're75', 're78']\n",
        "control = data_to_csv('/content/nsw_control.txt', '/content/control.csv')\n",
        "treated = data_to_csv('/content/nsw_treated.txt', '/content/treated.csv')"
      ],
      "metadata": {
        "colab": {
          "base_uri": "https://localhost:8080/"
        },
        "id": "h_eaqR2tOmSS",
        "outputId": "bd51b6fd-9038-4a47-c57d-c7b15d446e84"
      },
      "execution_count": 76,
      "outputs": [
        {
          "output_type": "stream",
          "name": "stderr",
          "text": [
            "/usr/local/lib/python3.7/dist-packages/pandas/util/_decorators.py:311: ParserWarning: Falling back to the 'python' engine because the 'c' engine does not support regex separators (separators > 1 char and different from '\\s+' are interpreted as regex); you can avoid this warning by specifying engine='python'.\n",
            "  return func(*args, **kwargs)\n"
          ]
        }
      ]
    },
    {
      "cell_type": "code",
      "source": [
        "# merge treatment and control\n",
        "data = pd.concat([treated, control], ignore_index = True)\n",
        "data"
      ],
      "metadata": {
        "colab": {
          "base_uri": "https://localhost:8080/",
          "height": 423
        },
        "id": "W5vsL67oRr1T",
        "outputId": "296b5eba-103e-4865-bef1-28edf501362c"
      },
      "execution_count": 77,
      "outputs": [
        {
          "output_type": "execute_result",
          "data": {
            "text/plain": [
              "     treatment   age  education  black  hispanic  married  nodegree  \\\n",
              "0          1.0  37.0       11.0    1.0       0.0      1.0       1.0   \n",
              "1          1.0  22.0        9.0    0.0       1.0      0.0       1.0   \n",
              "2          1.0  30.0       12.0    1.0       0.0      0.0       0.0   \n",
              "3          1.0  27.0       11.0    1.0       0.0      0.0       1.0   \n",
              "4          1.0  33.0        8.0    1.0       0.0      0.0       1.0   \n",
              "..         ...   ...        ...    ...       ...      ...       ...   \n",
              "717        0.0  20.0       10.0    1.0       0.0      0.0       1.0   \n",
              "718        0.0  17.0        9.0    0.0       1.0      0.0       1.0   \n",
              "719        0.0  17.0        9.0    1.0       0.0      0.0       1.0   \n",
              "720        0.0  19.0       11.0    1.0       0.0      0.0       1.0   \n",
              "721        0.0  18.0       10.0    1.0       0.0      0.0       1.0   \n",
              "\n",
              "          re75        re78  \n",
              "0       0.0000   9930.0460  \n",
              "1       0.0000   3595.8940  \n",
              "2       0.0000  24909.4500  \n",
              "3       0.0000   7506.1460  \n",
              "4       0.0000    289.7899  \n",
              "..         ...         ...  \n",
              "717   825.2301      0.0000  \n",
              "718     0.0000   5114.8140  \n",
              "719  1206.4410      0.0000  \n",
              "720     0.0000      0.0000  \n",
              "721     0.0000    781.2243  \n",
              "\n",
              "[722 rows x 9 columns]"
            ],
            "text/html": [
              "\n",
              "  <div id=\"df-48804dd8-fbf1-4b1a-8a62-a68c033a05d0\">\n",
              "    <div class=\"colab-df-container\">\n",
              "      <div>\n",
              "<style scoped>\n",
              "    .dataframe tbody tr th:only-of-type {\n",
              "        vertical-align: middle;\n",
              "    }\n",
              "\n",
              "    .dataframe tbody tr th {\n",
              "        vertical-align: top;\n",
              "    }\n",
              "\n",
              "    .dataframe thead th {\n",
              "        text-align: right;\n",
              "    }\n",
              "</style>\n",
              "<table border=\"1\" class=\"dataframe\">\n",
              "  <thead>\n",
              "    <tr style=\"text-align: right;\">\n",
              "      <th></th>\n",
              "      <th>treatment</th>\n",
              "      <th>age</th>\n",
              "      <th>education</th>\n",
              "      <th>black</th>\n",
              "      <th>hispanic</th>\n",
              "      <th>married</th>\n",
              "      <th>nodegree</th>\n",
              "      <th>re75</th>\n",
              "      <th>re78</th>\n",
              "    </tr>\n",
              "  </thead>\n",
              "  <tbody>\n",
              "    <tr>\n",
              "      <th>0</th>\n",
              "      <td>1.0</td>\n",
              "      <td>37.0</td>\n",
              "      <td>11.0</td>\n",
              "      <td>1.0</td>\n",
              "      <td>0.0</td>\n",
              "      <td>1.0</td>\n",
              "      <td>1.0</td>\n",
              "      <td>0.0000</td>\n",
              "      <td>9930.0460</td>\n",
              "    </tr>\n",
              "    <tr>\n",
              "      <th>1</th>\n",
              "      <td>1.0</td>\n",
              "      <td>22.0</td>\n",
              "      <td>9.0</td>\n",
              "      <td>0.0</td>\n",
              "      <td>1.0</td>\n",
              "      <td>0.0</td>\n",
              "      <td>1.0</td>\n",
              "      <td>0.0000</td>\n",
              "      <td>3595.8940</td>\n",
              "    </tr>\n",
              "    <tr>\n",
              "      <th>2</th>\n",
              "      <td>1.0</td>\n",
              "      <td>30.0</td>\n",
              "      <td>12.0</td>\n",
              "      <td>1.0</td>\n",
              "      <td>0.0</td>\n",
              "      <td>0.0</td>\n",
              "      <td>0.0</td>\n",
              "      <td>0.0000</td>\n",
              "      <td>24909.4500</td>\n",
              "    </tr>\n",
              "    <tr>\n",
              "      <th>3</th>\n",
              "      <td>1.0</td>\n",
              "      <td>27.0</td>\n",
              "      <td>11.0</td>\n",
              "      <td>1.0</td>\n",
              "      <td>0.0</td>\n",
              "      <td>0.0</td>\n",
              "      <td>1.0</td>\n",
              "      <td>0.0000</td>\n",
              "      <td>7506.1460</td>\n",
              "    </tr>\n",
              "    <tr>\n",
              "      <th>4</th>\n",
              "      <td>1.0</td>\n",
              "      <td>33.0</td>\n",
              "      <td>8.0</td>\n",
              "      <td>1.0</td>\n",
              "      <td>0.0</td>\n",
              "      <td>0.0</td>\n",
              "      <td>1.0</td>\n",
              "      <td>0.0000</td>\n",
              "      <td>289.7899</td>\n",
              "    </tr>\n",
              "    <tr>\n",
              "      <th>...</th>\n",
              "      <td>...</td>\n",
              "      <td>...</td>\n",
              "      <td>...</td>\n",
              "      <td>...</td>\n",
              "      <td>...</td>\n",
              "      <td>...</td>\n",
              "      <td>...</td>\n",
              "      <td>...</td>\n",
              "      <td>...</td>\n",
              "    </tr>\n",
              "    <tr>\n",
              "      <th>717</th>\n",
              "      <td>0.0</td>\n",
              "      <td>20.0</td>\n",
              "      <td>10.0</td>\n",
              "      <td>1.0</td>\n",
              "      <td>0.0</td>\n",
              "      <td>0.0</td>\n",
              "      <td>1.0</td>\n",
              "      <td>825.2301</td>\n",
              "      <td>0.0000</td>\n",
              "    </tr>\n",
              "    <tr>\n",
              "      <th>718</th>\n",
              "      <td>0.0</td>\n",
              "      <td>17.0</td>\n",
              "      <td>9.0</td>\n",
              "      <td>0.0</td>\n",
              "      <td>1.0</td>\n",
              "      <td>0.0</td>\n",
              "      <td>1.0</td>\n",
              "      <td>0.0000</td>\n",
              "      <td>5114.8140</td>\n",
              "    </tr>\n",
              "    <tr>\n",
              "      <th>719</th>\n",
              "      <td>0.0</td>\n",
              "      <td>17.0</td>\n",
              "      <td>9.0</td>\n",
              "      <td>1.0</td>\n",
              "      <td>0.0</td>\n",
              "      <td>0.0</td>\n",
              "      <td>1.0</td>\n",
              "      <td>1206.4410</td>\n",
              "      <td>0.0000</td>\n",
              "    </tr>\n",
              "    <tr>\n",
              "      <th>720</th>\n",
              "      <td>0.0</td>\n",
              "      <td>19.0</td>\n",
              "      <td>11.0</td>\n",
              "      <td>1.0</td>\n",
              "      <td>0.0</td>\n",
              "      <td>0.0</td>\n",
              "      <td>1.0</td>\n",
              "      <td>0.0000</td>\n",
              "      <td>0.0000</td>\n",
              "    </tr>\n",
              "    <tr>\n",
              "      <th>721</th>\n",
              "      <td>0.0</td>\n",
              "      <td>18.0</td>\n",
              "      <td>10.0</td>\n",
              "      <td>1.0</td>\n",
              "      <td>0.0</td>\n",
              "      <td>0.0</td>\n",
              "      <td>1.0</td>\n",
              "      <td>0.0000</td>\n",
              "      <td>781.2243</td>\n",
              "    </tr>\n",
              "  </tbody>\n",
              "</table>\n",
              "<p>722 rows × 9 columns</p>\n",
              "</div>\n",
              "      <button class=\"colab-df-convert\" onclick=\"convertToInteractive('df-48804dd8-fbf1-4b1a-8a62-a68c033a05d0')\"\n",
              "              title=\"Convert this dataframe to an interactive table.\"\n",
              "              style=\"display:none;\">\n",
              "        \n",
              "  <svg xmlns=\"http://www.w3.org/2000/svg\" height=\"24px\"viewBox=\"0 0 24 24\"\n",
              "       width=\"24px\">\n",
              "    <path d=\"M0 0h24v24H0V0z\" fill=\"none\"/>\n",
              "    <path d=\"M18.56 5.44l.94 2.06.94-2.06 2.06-.94-2.06-.94-.94-2.06-.94 2.06-2.06.94zm-11 1L8.5 8.5l.94-2.06 2.06-.94-2.06-.94L8.5 2.5l-.94 2.06-2.06.94zm10 10l.94 2.06.94-2.06 2.06-.94-2.06-.94-.94-2.06-.94 2.06-2.06.94z\"/><path d=\"M17.41 7.96l-1.37-1.37c-.4-.4-.92-.59-1.43-.59-.52 0-1.04.2-1.43.59L10.3 9.45l-7.72 7.72c-.78.78-.78 2.05 0 2.83L4 21.41c.39.39.9.59 1.41.59.51 0 1.02-.2 1.41-.59l7.78-7.78 2.81-2.81c.8-.78.8-2.07 0-2.86zM5.41 20L4 18.59l7.72-7.72 1.47 1.35L5.41 20z\"/>\n",
              "  </svg>\n",
              "      </button>\n",
              "      \n",
              "  <style>\n",
              "    .colab-df-container {\n",
              "      display:flex;\n",
              "      flex-wrap:wrap;\n",
              "      gap: 12px;\n",
              "    }\n",
              "\n",
              "    .colab-df-convert {\n",
              "      background-color: #E8F0FE;\n",
              "      border: none;\n",
              "      border-radius: 50%;\n",
              "      cursor: pointer;\n",
              "      display: none;\n",
              "      fill: #1967D2;\n",
              "      height: 32px;\n",
              "      padding: 0 0 0 0;\n",
              "      width: 32px;\n",
              "    }\n",
              "\n",
              "    .colab-df-convert:hover {\n",
              "      background-color: #E2EBFA;\n",
              "      box-shadow: 0px 1px 2px rgba(60, 64, 67, 0.3), 0px 1px 3px 1px rgba(60, 64, 67, 0.15);\n",
              "      fill: #174EA6;\n",
              "    }\n",
              "\n",
              "    [theme=dark] .colab-df-convert {\n",
              "      background-color: #3B4455;\n",
              "      fill: #D2E3FC;\n",
              "    }\n",
              "\n",
              "    [theme=dark] .colab-df-convert:hover {\n",
              "      background-color: #434B5C;\n",
              "      box-shadow: 0px 1px 3px 1px rgba(0, 0, 0, 0.15);\n",
              "      filter: drop-shadow(0px 1px 2px rgba(0, 0, 0, 0.3));\n",
              "      fill: #FFFFFF;\n",
              "    }\n",
              "  </style>\n",
              "\n",
              "      <script>\n",
              "        const buttonEl =\n",
              "          document.querySelector('#df-48804dd8-fbf1-4b1a-8a62-a68c033a05d0 button.colab-df-convert');\n",
              "        buttonEl.style.display =\n",
              "          google.colab.kernel.accessAllowed ? 'block' : 'none';\n",
              "\n",
              "        async function convertToInteractive(key) {\n",
              "          const element = document.querySelector('#df-48804dd8-fbf1-4b1a-8a62-a68c033a05d0');\n",
              "          const dataTable =\n",
              "            await google.colab.kernel.invokeFunction('convertToInteractive',\n",
              "                                                     [key], {});\n",
              "          if (!dataTable) return;\n",
              "\n",
              "          const docLinkHtml = 'Like what you see? Visit the ' +\n",
              "            '<a target=\"_blank\" href=https://colab.research.google.com/notebooks/data_table.ipynb>data table notebook</a>'\n",
              "            + ' to learn more about interactive tables.';\n",
              "          element.innerHTML = '';\n",
              "          dataTable['output_type'] = 'display_data';\n",
              "          await google.colab.output.renderOutput(dataTable, element);\n",
              "          const docLink = document.createElement('div');\n",
              "          docLink.innerHTML = docLinkHtml;\n",
              "          element.appendChild(docLink);\n",
              "        }\n",
              "      </script>\n",
              "    </div>\n",
              "  </div>\n",
              "  "
            ]
          },
          "metadata": {},
          "execution_count": 77
        }
      ]
    },
    {
      "cell_type": "code",
      "source": [
        "#get x and y\n",
        "df = data[columns[:-1]]\n",
        "dfy = data[\"re78\"]\n",
        "df"
      ],
      "metadata": {
        "colab": {
          "base_uri": "https://localhost:8080/",
          "height": 423
        },
        "id": "s_3qQ1pESrdI",
        "outputId": "024f8f58-b2f6-482f-9c38-ce9feaf01bc8"
      },
      "execution_count": 78,
      "outputs": [
        {
          "output_type": "execute_result",
          "data": {
            "text/plain": [
              "     treatment   age  education  black  hispanic  married  nodegree       re75\n",
              "0          1.0  37.0       11.0    1.0       0.0      1.0       1.0     0.0000\n",
              "1          1.0  22.0        9.0    0.0       1.0      0.0       1.0     0.0000\n",
              "2          1.0  30.0       12.0    1.0       0.0      0.0       0.0     0.0000\n",
              "3          1.0  27.0       11.0    1.0       0.0      0.0       1.0     0.0000\n",
              "4          1.0  33.0        8.0    1.0       0.0      0.0       1.0     0.0000\n",
              "..         ...   ...        ...    ...       ...      ...       ...        ...\n",
              "717        0.0  20.0       10.0    1.0       0.0      0.0       1.0   825.2301\n",
              "718        0.0  17.0        9.0    0.0       1.0      0.0       1.0     0.0000\n",
              "719        0.0  17.0        9.0    1.0       0.0      0.0       1.0  1206.4410\n",
              "720        0.0  19.0       11.0    1.0       0.0      0.0       1.0     0.0000\n",
              "721        0.0  18.0       10.0    1.0       0.0      0.0       1.0     0.0000\n",
              "\n",
              "[722 rows x 8 columns]"
            ],
            "text/html": [
              "\n",
              "  <div id=\"df-bbe6d5f8-ef93-4aab-9d6b-4394aa4c90a3\">\n",
              "    <div class=\"colab-df-container\">\n",
              "      <div>\n",
              "<style scoped>\n",
              "    .dataframe tbody tr th:only-of-type {\n",
              "        vertical-align: middle;\n",
              "    }\n",
              "\n",
              "    .dataframe tbody tr th {\n",
              "        vertical-align: top;\n",
              "    }\n",
              "\n",
              "    .dataframe thead th {\n",
              "        text-align: right;\n",
              "    }\n",
              "</style>\n",
              "<table border=\"1\" class=\"dataframe\">\n",
              "  <thead>\n",
              "    <tr style=\"text-align: right;\">\n",
              "      <th></th>\n",
              "      <th>treatment</th>\n",
              "      <th>age</th>\n",
              "      <th>education</th>\n",
              "      <th>black</th>\n",
              "      <th>hispanic</th>\n",
              "      <th>married</th>\n",
              "      <th>nodegree</th>\n",
              "      <th>re75</th>\n",
              "    </tr>\n",
              "  </thead>\n",
              "  <tbody>\n",
              "    <tr>\n",
              "      <th>0</th>\n",
              "      <td>1.0</td>\n",
              "      <td>37.0</td>\n",
              "      <td>11.0</td>\n",
              "      <td>1.0</td>\n",
              "      <td>0.0</td>\n",
              "      <td>1.0</td>\n",
              "      <td>1.0</td>\n",
              "      <td>0.0000</td>\n",
              "    </tr>\n",
              "    <tr>\n",
              "      <th>1</th>\n",
              "      <td>1.0</td>\n",
              "      <td>22.0</td>\n",
              "      <td>9.0</td>\n",
              "      <td>0.0</td>\n",
              "      <td>1.0</td>\n",
              "      <td>0.0</td>\n",
              "      <td>1.0</td>\n",
              "      <td>0.0000</td>\n",
              "    </tr>\n",
              "    <tr>\n",
              "      <th>2</th>\n",
              "      <td>1.0</td>\n",
              "      <td>30.0</td>\n",
              "      <td>12.0</td>\n",
              "      <td>1.0</td>\n",
              "      <td>0.0</td>\n",
              "      <td>0.0</td>\n",
              "      <td>0.0</td>\n",
              "      <td>0.0000</td>\n",
              "    </tr>\n",
              "    <tr>\n",
              "      <th>3</th>\n",
              "      <td>1.0</td>\n",
              "      <td>27.0</td>\n",
              "      <td>11.0</td>\n",
              "      <td>1.0</td>\n",
              "      <td>0.0</td>\n",
              "      <td>0.0</td>\n",
              "      <td>1.0</td>\n",
              "      <td>0.0000</td>\n",
              "    </tr>\n",
              "    <tr>\n",
              "      <th>4</th>\n",
              "      <td>1.0</td>\n",
              "      <td>33.0</td>\n",
              "      <td>8.0</td>\n",
              "      <td>1.0</td>\n",
              "      <td>0.0</td>\n",
              "      <td>0.0</td>\n",
              "      <td>1.0</td>\n",
              "      <td>0.0000</td>\n",
              "    </tr>\n",
              "    <tr>\n",
              "      <th>...</th>\n",
              "      <td>...</td>\n",
              "      <td>...</td>\n",
              "      <td>...</td>\n",
              "      <td>...</td>\n",
              "      <td>...</td>\n",
              "      <td>...</td>\n",
              "      <td>...</td>\n",
              "      <td>...</td>\n",
              "    </tr>\n",
              "    <tr>\n",
              "      <th>717</th>\n",
              "      <td>0.0</td>\n",
              "      <td>20.0</td>\n",
              "      <td>10.0</td>\n",
              "      <td>1.0</td>\n",
              "      <td>0.0</td>\n",
              "      <td>0.0</td>\n",
              "      <td>1.0</td>\n",
              "      <td>825.2301</td>\n",
              "    </tr>\n",
              "    <tr>\n",
              "      <th>718</th>\n",
              "      <td>0.0</td>\n",
              "      <td>17.0</td>\n",
              "      <td>9.0</td>\n",
              "      <td>0.0</td>\n",
              "      <td>1.0</td>\n",
              "      <td>0.0</td>\n",
              "      <td>1.0</td>\n",
              "      <td>0.0000</td>\n",
              "    </tr>\n",
              "    <tr>\n",
              "      <th>719</th>\n",
              "      <td>0.0</td>\n",
              "      <td>17.0</td>\n",
              "      <td>9.0</td>\n",
              "      <td>1.0</td>\n",
              "      <td>0.0</td>\n",
              "      <td>0.0</td>\n",
              "      <td>1.0</td>\n",
              "      <td>1206.4410</td>\n",
              "    </tr>\n",
              "    <tr>\n",
              "      <th>720</th>\n",
              "      <td>0.0</td>\n",
              "      <td>19.0</td>\n",
              "      <td>11.0</td>\n",
              "      <td>1.0</td>\n",
              "      <td>0.0</td>\n",
              "      <td>0.0</td>\n",
              "      <td>1.0</td>\n",
              "      <td>0.0000</td>\n",
              "    </tr>\n",
              "    <tr>\n",
              "      <th>721</th>\n",
              "      <td>0.0</td>\n",
              "      <td>18.0</td>\n",
              "      <td>10.0</td>\n",
              "      <td>1.0</td>\n",
              "      <td>0.0</td>\n",
              "      <td>0.0</td>\n",
              "      <td>1.0</td>\n",
              "      <td>0.0000</td>\n",
              "    </tr>\n",
              "  </tbody>\n",
              "</table>\n",
              "<p>722 rows × 8 columns</p>\n",
              "</div>\n",
              "      <button class=\"colab-df-convert\" onclick=\"convertToInteractive('df-bbe6d5f8-ef93-4aab-9d6b-4394aa4c90a3')\"\n",
              "              title=\"Convert this dataframe to an interactive table.\"\n",
              "              style=\"display:none;\">\n",
              "        \n",
              "  <svg xmlns=\"http://www.w3.org/2000/svg\" height=\"24px\"viewBox=\"0 0 24 24\"\n",
              "       width=\"24px\">\n",
              "    <path d=\"M0 0h24v24H0V0z\" fill=\"none\"/>\n",
              "    <path d=\"M18.56 5.44l.94 2.06.94-2.06 2.06-.94-2.06-.94-.94-2.06-.94 2.06-2.06.94zm-11 1L8.5 8.5l.94-2.06 2.06-.94-2.06-.94L8.5 2.5l-.94 2.06-2.06.94zm10 10l.94 2.06.94-2.06 2.06-.94-2.06-.94-.94-2.06-.94 2.06-2.06.94z\"/><path d=\"M17.41 7.96l-1.37-1.37c-.4-.4-.92-.59-1.43-.59-.52 0-1.04.2-1.43.59L10.3 9.45l-7.72 7.72c-.78.78-.78 2.05 0 2.83L4 21.41c.39.39.9.59 1.41.59.51 0 1.02-.2 1.41-.59l7.78-7.78 2.81-2.81c.8-.78.8-2.07 0-2.86zM5.41 20L4 18.59l7.72-7.72 1.47 1.35L5.41 20z\"/>\n",
              "  </svg>\n",
              "      </button>\n",
              "      \n",
              "  <style>\n",
              "    .colab-df-container {\n",
              "      display:flex;\n",
              "      flex-wrap:wrap;\n",
              "      gap: 12px;\n",
              "    }\n",
              "\n",
              "    .colab-df-convert {\n",
              "      background-color: #E8F0FE;\n",
              "      border: none;\n",
              "      border-radius: 50%;\n",
              "      cursor: pointer;\n",
              "      display: none;\n",
              "      fill: #1967D2;\n",
              "      height: 32px;\n",
              "      padding: 0 0 0 0;\n",
              "      width: 32px;\n",
              "    }\n",
              "\n",
              "    .colab-df-convert:hover {\n",
              "      background-color: #E2EBFA;\n",
              "      box-shadow: 0px 1px 2px rgba(60, 64, 67, 0.3), 0px 1px 3px 1px rgba(60, 64, 67, 0.15);\n",
              "      fill: #174EA6;\n",
              "    }\n",
              "\n",
              "    [theme=dark] .colab-df-convert {\n",
              "      background-color: #3B4455;\n",
              "      fill: #D2E3FC;\n",
              "    }\n",
              "\n",
              "    [theme=dark] .colab-df-convert:hover {\n",
              "      background-color: #434B5C;\n",
              "      box-shadow: 0px 1px 3px 1px rgba(0, 0, 0, 0.15);\n",
              "      filter: drop-shadow(0px 1px 2px rgba(0, 0, 0, 0.3));\n",
              "      fill: #FFFFFF;\n",
              "    }\n",
              "  </style>\n",
              "\n",
              "      <script>\n",
              "        const buttonEl =\n",
              "          document.querySelector('#df-bbe6d5f8-ef93-4aab-9d6b-4394aa4c90a3 button.colab-df-convert');\n",
              "        buttonEl.style.display =\n",
              "          google.colab.kernel.accessAllowed ? 'block' : 'none';\n",
              "\n",
              "        async function convertToInteractive(key) {\n",
              "          const element = document.querySelector('#df-bbe6d5f8-ef93-4aab-9d6b-4394aa4c90a3');\n",
              "          const dataTable =\n",
              "            await google.colab.kernel.invokeFunction('convertToInteractive',\n",
              "                                                     [key], {});\n",
              "          if (!dataTable) return;\n",
              "\n",
              "          const docLinkHtml = 'Like what you see? Visit the ' +\n",
              "            '<a target=\"_blank\" href=https://colab.research.google.com/notebooks/data_table.ipynb>data table notebook</a>'\n",
              "            + ' to learn more about interactive tables.';\n",
              "          element.innerHTML = '';\n",
              "          dataTable['output_type'] = 'display_data';\n",
              "          await google.colab.output.renderOutput(dataTable, element);\n",
              "          const docLink = document.createElement('div');\n",
              "          docLink.innerHTML = docLinkHtml;\n",
              "          element.appendChild(docLink);\n",
              "        }\n",
              "      </script>\n",
              "    </div>\n",
              "  </div>\n",
              "  "
            ]
          },
          "metadata": {},
          "execution_count": 78
        }
      ]
    },
    {
      "cell_type": "markdown",
      "source": [
        "## Prepare Dataset for deconfounder\n",
        "\n",
        "Get rid oh highly correlated causes"
      ],
      "metadata": {
        "id": "c7YnwSQ_T9sp"
      }
    },
    {
      "cell_type": "code",
      "source": [
        "\n",
        "sns.pairplot(df, size=1.5)"
      ],
      "metadata": {
        "colab": {
          "base_uri": "https://localhost:8080/",
          "height": 938
        },
        "id": "l0spV__uTqr8",
        "outputId": "7b27802b-c893-42b8-928f-4871c8dd8f81"
      },
      "execution_count": null,
      "outputs": [
        {
          "output_type": "stream",
          "name": "stderr",
          "text": [
            "/usr/local/lib/python3.7/dist-packages/seaborn/axisgrid.py:2076: UserWarning: The `size` parameter has been renamed to `height`; please update your code.\n",
            "  warnings.warn(msg, UserWarning)\n"
          ]
        },
        {
          "output_type": "execute_result",
          "data": {
            "text/plain": [
              "<seaborn.axisgrid.PairGrid at 0x7ff0a4be6250>"
            ]
          },
          "metadata": {},
          "execution_count": 46
        },
        {
          "output_type": "display_data",
          "data": {
            "text/plain": [
              "<Figure size 864x864 with 72 Axes>"
            ],
            "image/png": "[encoded data removed]"
          },
          "metadata": {}
        }
      ]
    },
    {
      "cell_type": "markdown",
      "source": [
        "No correlation between non-binary variables. Checking correlation between binary variables."
      ],
      "metadata": {
        "id": "rdpny8P4ly35"
      }
    },
    {
      "cell_type": "code",
      "source": [
        "plt.figure(figsize=(12,8))\n",
        "sns.heatmap(df.corr(),annot=True)"
      ],
      "metadata": {
        "colab": {
          "base_uri": "https://localhost:8080/",
          "height": 507
        },
        "id": "nDeIpIR1mAla",
        "outputId": "a2cf9dab-7fc0-4b7a-ea20-6ef114f9cb66"
      },
      "execution_count": null,
      "outputs": [
        {
          "output_type": "execute_result",
          "data": {
            "text/plain": [
              "<matplotlib.axes._subplots.AxesSubplot at 0x7ff0a3474310>"
            ]
          },
          "metadata": {},
          "execution_count": 47
        },
        {
          "output_type": "display_data",
          "data": {
            "text/plain": [
              "<Figure size 864x576 with 2 Axes>"
            ],
            "image/png": "[encoded data removed]"
          },
          "metadata": {}
        }
      ]
    },
    {
      "cell_type": "markdown",
      "source": [
        "High negative correlation between nodegree and education (intuitive), as well as ethnicities of Black and hispanics (interesting). Removing nodegree and hispanic"
      ],
      "metadata": {
        "id": "lmhFkvoaCTjk"
      }
    },
    {
      "cell_type": "code",
      "source": [
        "# nodegree/hispanic are highly correlated with education/black\n",
        "fea_cols = df.columns[[(not df.columns[i].endswith(\"nodegree\")) \\\n",
        "                     and (not df.columns[i].endswith(\"hispanic\")) \\\n",
        "                     and (not df.columns[i].endswith(\"re75\")) \\\n",
        "                     for i in range(df.shape[1])]]"
      ],
      "metadata": {
        "id": "38yovaHemk8T"
      },
      "execution_count": 79,
      "outputs": []
    },
    {
      "cell_type": "code",
      "source": [
        "dfX = pd.DataFrame(df[fea_cols])\n",
        "print(dfX.shape, dfy.shape)"
      ],
      "metadata": {
        "colab": {
          "base_uri": "https://localhost:8080/"
        },
        "id": "bZ9pgrgBC0m1",
        "outputId": "adac9685-2c09-4529-e5d5-239c2367e9b0"
      },
      "execution_count": 80,
      "outputs": [
        {
          "output_type": "stream",
          "name": "stdout",
          "text": [
            "(722, 5) (722,)\n"
          ]
        }
      ]
    },
    {
      "cell_type": "code",
      "source": [
        "dfX.head()"
      ],
      "metadata": {
        "colab": {
          "base_uri": "https://localhost:8080/",
          "height": 206
        },
        "id": "vi3jFB3rC20A",
        "outputId": "88edd654-09e8-4a05-d214-30b1fd8dbf41"
      },
      "execution_count": 81,
      "outputs": [
        {
          "output_type": "execute_result",
          "data": {
            "text/plain": [
              "   treatment   age  education  black  married\n",
              "0        1.0  37.0       11.0    1.0      1.0\n",
              "1        1.0  22.0        9.0    0.0      0.0\n",
              "2        1.0  30.0       12.0    1.0      0.0\n",
              "3        1.0  27.0       11.0    1.0      0.0\n",
              "4        1.0  33.0        8.0    1.0      0.0"
            ],
            "text/html": [
              "\n",
              "  <div id=\"df-45940bb2-bcc9-4cca-ad12-fb958847dc44\">\n",
              "    <div class=\"colab-df-container\">\n",
              "      <div>\n",
              "<style scoped>\n",
              "    .dataframe tbody tr th:only-of-type {\n",
              "        vertical-align: middle;\n",
              "    }\n",
              "\n",
              "    .dataframe tbody tr th {\n",
              "        vertical-align: top;\n",
              "    }\n",
              "\n",
              "    .dataframe thead th {\n",
              "        text-align: right;\n",
              "    }\n",
              "</style>\n",
              "<table border=\"1\" class=\"dataframe\">\n",
              "  <thead>\n",
              "    <tr style=\"text-align: right;\">\n",
              "      <th></th>\n",
              "      <th>treatment</th>\n",
              "      <th>age</th>\n",
              "      <th>education</th>\n",
              "      <th>black</th>\n",
              "      <th>married</th>\n",
              "    </tr>\n",
              "  </thead>\n",
              "  <tbody>\n",
              "    <tr>\n",
              "      <th>0</th>\n",
              "      <td>1.0</td>\n",
              "      <td>37.0</td>\n",
              "      <td>11.0</td>\n",
              "      <td>1.0</td>\n",
              "      <td>1.0</td>\n",
              "    </tr>\n",
              "    <tr>\n",
              "      <th>1</th>\n",
              "      <td>1.0</td>\n",
              "      <td>22.0</td>\n",
              "      <td>9.0</td>\n",
              "      <td>0.0</td>\n",
              "      <td>0.0</td>\n",
              "    </tr>\n",
              "    <tr>\n",
              "      <th>2</th>\n",
              "      <td>1.0</td>\n",
              "      <td>30.0</td>\n",
              "      <td>12.0</td>\n",
              "      <td>1.0</td>\n",
              "      <td>0.0</td>\n",
              "    </tr>\n",
              "    <tr>\n",
              "      <th>3</th>\n",
              "      <td>1.0</td>\n",
              "      <td>27.0</td>\n",
              "      <td>11.0</td>\n",
              "      <td>1.0</td>\n",
              "      <td>0.0</td>\n",
              "    </tr>\n",
              "    <tr>\n",
              "      <th>4</th>\n",
              "      <td>1.0</td>\n",
              "      <td>33.0</td>\n",
              "      <td>8.0</td>\n",
              "      <td>1.0</td>\n",
              "      <td>0.0</td>\n",
              "    </tr>\n",
              "  </tbody>\n",
              "</table>\n",
              "</div>\n",
              "      <button class=\"colab-df-convert\" onclick=\"convertToInteractive('df-45940bb2-bcc9-4cca-ad12-fb958847dc44')\"\n",
              "              title=\"Convert this dataframe to an interactive table.\"\n",
              "              style=\"display:none;\">\n",
              "        \n",
              "  <svg xmlns=\"http://www.w3.org/2000/svg\" height=\"24px\"viewBox=\"0 0 24 24\"\n",
              "       width=\"24px\">\n",
              "    <path d=\"M0 0h24v24H0V0z\" fill=\"none\"/>\n",
              "    <path d=\"M18.56 5.44l.94 2.06.94-2.06 2.06-.94-2.06-.94-.94-2.06-.94 2.06-2.06.94zm-11 1L8.5 8.5l.94-2.06 2.06-.94-2.06-.94L8.5 2.5l-.94 2.06-2.06.94zm10 10l.94 2.06.94-2.06 2.06-.94-2.06-.94-.94-2.06-.94 2.06-2.06.94z\"/><path d=\"M17.41 7.96l-1.37-1.37c-.4-.4-.92-.59-1.43-.59-.52 0-1.04.2-1.43.59L10.3 9.45l-7.72 7.72c-.78.78-.78 2.05 0 2.83L4 21.41c.39.39.9.59 1.41.59.51 0 1.02-.2 1.41-.59l7.78-7.78 2.81-2.81c.8-.78.8-2.07 0-2.86zM5.41 20L4 18.59l7.72-7.72 1.47 1.35L5.41 20z\"/>\n",
              "  </svg>\n",
              "      </button>\n",
              "      \n",
              "  <style>\n",
              "    .colab-df-container {\n",
              "      display:flex;\n",
              "      flex-wrap:wrap;\n",
              "      gap: 12px;\n",
              "    }\n",
              "\n",
              "    .colab-df-convert {\n",
              "      background-color: #E8F0FE;\n",
              "      border: none;\n",
              "      border-radius: 50%;\n",
              "      cursor: pointer;\n",
              "      display: none;\n",
              "      fill: #1967D2;\n",
              "      height: 32px;\n",
              "      padding: 0 0 0 0;\n",
              "      width: 32px;\n",
              "    }\n",
              "\n",
              "    .colab-df-convert:hover {\n",
              "      background-color: #E2EBFA;\n",
              "      box-shadow: 0px 1px 2px rgba(60, 64, 67, 0.3), 0px 1px 3px 1px rgba(60, 64, 67, 0.15);\n",
              "      fill: #174EA6;\n",
              "    }\n",
              "\n",
              "    [theme=dark] .colab-df-convert {\n",
              "      background-color: #3B4455;\n",
              "      fill: #D2E3FC;\n",
              "    }\n",
              "\n",
              "    [theme=dark] .colab-df-convert:hover {\n",
              "      background-color: #434B5C;\n",
              "      box-shadow: 0px 1px 3px 1px rgba(0, 0, 0, 0.15);\n",
              "      filter: drop-shadow(0px 1px 2px rgba(0, 0, 0, 0.3));\n",
              "      fill: #FFFFFF;\n",
              "    }\n",
              "  </style>\n",
              "\n",
              "      <script>\n",
              "        const buttonEl =\n",
              "          document.querySelector('#df-45940bb2-bcc9-4cca-ad12-fb958847dc44 button.colab-df-convert');\n",
              "        buttonEl.style.display =\n",
              "          google.colab.kernel.accessAllowed ? 'block' : 'none';\n",
              "\n",
              "        async function convertToInteractive(key) {\n",
              "          const element = document.querySelector('#df-45940bb2-bcc9-4cca-ad12-fb958847dc44');\n",
              "          const dataTable =\n",
              "            await google.colab.kernel.invokeFunction('convertToInteractive',\n",
              "                                                     [key], {});\n",
              "          if (!dataTable) return;\n",
              "\n",
              "          const docLinkHtml = 'Like what you see? Visit the ' +\n",
              "            '<a target=\"_blank\" href=https://colab.research.google.com/notebooks/data_table.ipynb>data table notebook</a>'\n",
              "            + ' to learn more about interactive tables.';\n",
              "          element.innerHTML = '';\n",
              "          dataTable['output_type'] = 'display_data';\n",
              "          await google.colab.output.renderOutput(dataTable, element);\n",
              "          const docLink = document.createElement('div');\n",
              "          docLink.innerHTML = docLinkHtml;\n",
              "          element.appendChild(docLink);\n",
              "        }\n",
              "      </script>\n",
              "    </div>\n",
              "  </div>\n",
              "  "
            ]
          },
          "metadata": {},
          "execution_count": 81
        }
      ]
    },
    {
      "cell_type": "code",
      "source": [
        "dfy[:5]"
      ],
      "metadata": {
        "colab": {
          "base_uri": "https://localhost:8080/"
        },
        "id": "hZwtkBWBDAZm",
        "outputId": "d843c35a-acd5-4881-f2bf-63af41e844d9"
      },
      "execution_count": 82,
      "outputs": [
        {
          "output_type": "execute_result",
          "data": {
            "text/plain": [
              "0     9930.0460\n",
              "1     3595.8940\n",
              "2    24909.4500\n",
              "3     7506.1460\n",
              "4      289.7899\n",
              "Name: re78, dtype: float64"
            ]
          },
          "metadata": {},
          "execution_count": 82
        }
      ]
    },
    {
      "cell_type": "markdown",
      "source": [
        "## Causal Inference with Deconfounder\n",
        "\n",
        "Optional: Normalize data"
      ],
      "metadata": {
        "id": "ifYoQlphDLW3"
      }
    },
    {
      "cell_type": "code",
      "source": [
        "# standardize the data for PPCA\n",
        "#X = np.array((dfX - dfX.mean())/dfX.std())\n",
        "\n",
        "X = np.array(dfX)"
      ],
      "metadata": {
        "id": "-TPsP3L3DCxu"
      },
      "execution_count": 83,
      "outputs": []
    },
    {
      "cell_type": "code",
      "source": [
        "# uncomment if removing features- check without removing hispanic etc\n",
        "#dfX = df"
      ],
      "metadata": {
        "id": "y0qrE_5aJSpc"
      },
      "execution_count": 84,
      "outputs": []
    },
    {
      "cell_type": "code",
      "source": [
        ""
      ],
      "metadata": {
        "id": "k1jyjXV0DUad"
      },
      "execution_count": 84,
      "outputs": []
    },
    {
      "cell_type": "code",
      "source": [
        "# randomly holdout some entries of X\n",
        "num_datapoints, data_dim = X.shape\n",
        "\n",
        "holdout_portion = 0.2\n",
        "n_holdout = int(holdout_portion * num_datapoints * data_dim)\n",
        "\n",
        "holdout_row = np.random.randint(num_datapoints, size=n_holdout)\n",
        "holdout_col = np.random.randint(data_dim, size=n_holdout)\n",
        "holdout_mask = (sparse.coo_matrix((np.ones(n_holdout), \\\n",
        "                            (holdout_row, holdout_col)), \\\n",
        "                            shape = X.shape)).toarray()\n",
        "\n",
        "holdout_subjects = np.unique(holdout_row)\n",
        "holdout_mask = np.minimum(1, holdout_mask)\n",
        "\n",
        "x_train = np.multiply(1-holdout_mask, X)\n",
        "x_vad = np.multiply(holdout_mask, X)"
      ],
      "metadata": {
        "id": "DHF4XsY3DVMi"
      },
      "execution_count": 85,
      "outputs": []
    },
    {
      "cell_type": "code",
      "source": [
        "print(holdout_mask)"
      ],
      "metadata": {
        "colab": {
          "base_uri": "https://localhost:8080/"
        },
        "id": "Nam2EzyGO9E2",
        "outputId": "53370dec-ec34-452d-e7fa-255d77629a91"
      },
      "execution_count": 62,
      "outputs": [
        {
          "output_type": "stream",
          "name": "stdout",
          "text": [
            "[[0. 1. 0. 0. 0.]\n",
            " [0. 1. 0. 1. 0.]\n",
            " [1. 0. 0. 0. 0.]\n",
            " ...\n",
            " [0. 1. 0. 0. 0.]\n",
            " [0. 0. 1. 1. 0.]\n",
            " [1. 0. 0. 0. 1.]]\n"
          ]
        }
      ]
    },
    {
      "cell_type": "code",
      "source": [
        "x_train"
      ],
      "metadata": {
        "colab": {
          "base_uri": "https://localhost:8080/"
        },
        "id": "UmEg-R5-Q3AR",
        "outputId": "cc928b6f-17bd-4ec8-e37e-5244e66524a0"
      },
      "execution_count": 63,
      "outputs": [
        {
          "output_type": "execute_result",
          "data": {
            "text/plain": [
              "array([[ 1.,  0., 11.,  1.,  1.],\n",
              "       [ 1.,  0.,  9.,  0.,  0.],\n",
              "       [ 0., 30., 12.,  1.,  0.],\n",
              "       ...,\n",
              "       [ 0.,  0.,  9.,  1.,  0.],\n",
              "       [ 0., 19.,  0.,  0.,  0.],\n",
              "       [ 0., 18., 10.,  1.,  0.]])"
            ]
          },
          "metadata": {},
          "execution_count": 63
        }
      ]
    },
    {
      "cell_type": "code",
      "source": [
        "x_vad"
      ],
      "metadata": {
        "colab": {
          "base_uri": "https://localhost:8080/"
        },
        "id": "MZK_N4sqRAFG",
        "outputId": "fbb34291-11fd-4873-e930-fdc7de1417ee"
      },
      "execution_count": 64,
      "outputs": [
        {
          "output_type": "execute_result",
          "data": {
            "text/plain": [
              "array([[ 0., 37.,  0.,  0.,  0.],\n",
              "       [ 0., 22.,  0.,  0.,  0.],\n",
              "       [ 1.,  0.,  0.,  0.,  0.],\n",
              "       ...,\n",
              "       [ 0., 17.,  0.,  0.,  0.],\n",
              "       [ 0.,  0., 11.,  1.,  0.],\n",
              "       [ 0.,  0.,  0.,  0.,  0.]])"
            ]
          },
          "metadata": {},
          "execution_count": 64
        }
      ]
    },
    {
      "cell_type": "code",
      "source": [
        "X"
      ],
      "metadata": {
        "colab": {
          "base_uri": "https://localhost:8080/"
        },
        "id": "9TQYHjBGRW9x",
        "outputId": "fd3070cc-a716-4bc5-b1d4-a882b1c9dc80"
      },
      "execution_count": 65,
      "outputs": [
        {
          "output_type": "execute_result",
          "data": {
            "text/plain": [
              "array([[ 1., 37., 11.,  1.,  1.],\n",
              "       [ 1., 22.,  9.,  0.,  0.],\n",
              "       [ 1., 30., 12.,  1.,  0.],\n",
              "       ...,\n",
              "       [ 0., 17.,  9.,  1.,  0.],\n",
              "       [ 0., 19., 11.,  1.,  0.],\n",
              "       [ 0., 18., 10.,  1.,  0.]])"
            ]
          },
          "metadata": {},
          "execution_count": 65
        }
      ]
    },
    {
      "cell_type": "markdown",
      "source": [
        "### Probabilistic PCA"
      ],
      "metadata": {
        "id": "Q2GxaWvJDsxT"
      }
    },
    {
      "cell_type": "code",
      "source": [
        "# we allow both linear and quadratic model\n",
        "# for linear model x_n has mean z_n * W\n",
        "# for quadratic model x_n has mean b + z_n * W + (z_n**2) * W_2\n",
        "# quadractice model needs to change the checking step accordingly\n",
        "\n",
        "def ppca_model(data_dim, latent_dim, num_datapoints, stddv_datapoints, mask, form=\"linear\"):\n",
        "    w = ed.Normal(loc=tf.zeros([latent_dim, data_dim]),\n",
        "                scale=tf.ones([latent_dim, data_dim]),\n",
        "                name=\"w\")  # parameter\n",
        "    z = ed.Normal(loc=tf.zeros([num_datapoints, latent_dim]),\n",
        "                scale=tf.ones([num_datapoints, latent_dim]), \n",
        "                name=\"z\")  # local latent variable / substitute confounder\n",
        "    if form == \"linear\":\n",
        "        x = ed.Normal(loc=tf.multiply(tf.matmul(z, w), mask),\n",
        "                    scale=stddv_datapoints * tf.ones([num_datapoints, data_dim]),\n",
        "                    name=\"x\")  # (modeled) data\n",
        "    elif form == \"quadratic\":\n",
        "        b = ed.Normal(loc=tf.zeros([1, data_dim]),\n",
        "                scale=tf.ones([1, data_dim]),\n",
        "                name=\"b\")  # intercept\n",
        "        w2 = ed.Normal(loc=tf.zeros([latent_dim, data_dim]),\n",
        "                scale=tf.ones([latent_dim, data_dim]),\n",
        "                name=\"w2\")  # quadratic parameter\n",
        "        x = ed.Normal(loc=tf.multiply(b + tf.matmul(z, w) + tf.matmul(tf.square(z), w2), mask),\n",
        "                    scale=stddv_datapoints * tf.ones([num_datapoints, data_dim]),\n",
        "                    name=\"x\")  # (modeled) data\n",
        "    return x, (w, z)\n",
        "\n",
        "log_joint = ed.make_log_joint_fn(ppca_model)"
      ],
      "metadata": {
        "id": "-XS_cv5wDofx"
      },
      "execution_count": 93,
      "outputs": []
    },
    {
      "cell_type": "code",
      "source": [
        "# fitting PPCA\n",
        "\n",
        "latent_dim = 2\n",
        "stddv_datapoints = 0.1\n",
        "\n",
        "model = ppca_model(data_dim=data_dim,\n",
        "                   latent_dim=latent_dim,\n",
        "                   num_datapoints=num_datapoints,\n",
        "                   stddv_datapoints=stddv_datapoints, \n",
        "                   mask=1-holdout_mask,\n",
        "                   #change form according to experiment\n",
        "                   form = \"quadratic\")"
      ],
      "metadata": {
        "id": "VOtkRXGYDwLx"
      },
      "execution_count": 95,
      "outputs": []
    },
    {
      "cell_type": "code",
      "source": [
        "def variational_model(qb_mean, qb_stddv, qw_mean, qw_stddv, \n",
        "                      qw2_mean, qw2_stddv, qz_mean, qz_stddv):\n",
        "    qb = ed.Normal(loc=qb_mean, scale=qb_stddv, name=\"qb\")\n",
        "    qw = ed.Normal(loc=qw_mean, scale=qw_stddv, name=\"qw\")\n",
        "    qw2 = ed.Normal(loc=qw2_mean, scale=qw2_stddv, name=\"qw2\")\n",
        "    qz = ed.Normal(loc=qz_mean, scale=qz_stddv, name=\"qz\")\n",
        "    return qb, qw, qw2, qz\n",
        "\n",
        "\n",
        "log_q = ed.make_log_joint_fn(variational_model)\n",
        "\n",
        "def target(b, w, w2, z):\n",
        "    \"\"\"Unnormalized target density as a function of the parameters.\"\"\"\n",
        "    return log_joint(data_dim=data_dim,\n",
        "                   latent_dim=latent_dim,\n",
        "                   num_datapoints=num_datapoints,\n",
        "                   stddv_datapoints=stddv_datapoints,\n",
        "                   mask=1-holdout_mask,\n",
        "                   w=w, z=z, w2=w2, b=b, x=x_train)\n",
        "\n",
        "def target_q(qb, qw, qw2, qz):\n",
        "    return log_q(qb_mean=qb_mean, qb_stddv=qb_stddv,\n",
        "                 qw_mean=qw_mean, qw_stddv=qw_stddv,\n",
        "                 qw2_mean=qw2_mean, qw2_stddv=qw2_stddv,\n",
        "                 qz_mean=qz_mean, qz_stddv=qz_stddv,\n",
        "                 qw=qw, qz=qz, qw2=qw2, qb=qb)\n",
        "\n",
        "qb_mean = tf.Variable(np.ones([1, data_dim]), dtype=tf.float32)\n",
        "qw_mean = tf.Variable(np.ones([latent_dim, data_dim]), dtype=tf.float32)\n",
        "qw2_mean = tf.Variable(np.ones([latent_dim, data_dim]), dtype=tf.float32)\n",
        "qz_mean = tf.Variable(np.ones([num_datapoints, latent_dim]), dtype=tf.float32)\n",
        "qb_stddv = tf.nn.softplus(tf.Variable(0 * np.ones([1, data_dim]), dtype=tf.float32))\n",
        "qw_stddv = tf.nn.softplus(tf.Variable(-4 * np.ones([latent_dim, data_dim]), dtype=tf.float32))\n",
        "qw2_stddv = tf.nn.softplus(tf.Variable(-4 * np.ones([latent_dim, data_dim]), dtype=tf.float32))\n",
        "qz_stddv = tf.nn.softplus(tf.Variable(-4 * np.ones([num_datapoints, latent_dim]), dtype=tf.float32))\n",
        "\n",
        "qb, qw, qw2, qz = variational_model(qb_mean=qb_mean, qb_stddv=qb_stddv,\n",
        "                                    qw_mean=qw_mean, qw_stddv=qw_stddv,\n",
        "                                    qw2_mean=qw2_mean, qw2_stddv=qw2_stddv,\n",
        "                                    qz_mean=qz_mean, qz_stddv=qz_stddv)\n",
        "\n",
        "\n",
        "energy = target(qb, qw, qw2, qz)\n",
        "entropy = -target_q(qb, qw, qw2, qz)\n",
        "\n",
        "elbo = energy + entropy\n",
        "\n",
        "\n",
        "optimizer = tf.train.AdamOptimizer(learning_rate = 0.05)\n",
        "train = optimizer.minimize(-elbo)\n",
        "\n",
        "init = tf.global_variables_initializer()\n",
        "\n",
        "t = []\n",
        "\n",
        "num_epochs = 500\n",
        "\n",
        "with tf.Session() as sess:\n",
        "    sess.run(init)\n",
        "\n",
        "    for i in range(num_epochs):\n",
        "        sess.run(train)\n",
        "        if i % 5 == 0:\n",
        "            t.append(sess.run([elbo]))\n",
        "\n",
        "        b_mean_inferred = sess.run(qb_mean)\n",
        "        b_stddv_inferred = sess.run(qb_stddv)\n",
        "        w_mean_inferred = sess.run(qw_mean)\n",
        "        w_stddv_inferred = sess.run(qw_stddv)\n",
        "        w2_mean_inferred = sess.run(qw2_mean)\n",
        "        w2_stddv_inferred = sess.run(qw2_stddv)\n",
        "        z_mean_inferred = sess.run(qz_mean)\n",
        "        z_stddv_inferred = sess.run(qz_stddv)\n",
        "        \n",
        "print(\"Inferred axes:\")\n",
        "print(w_mean_inferred)\n",
        "print(\"Standard Deviation:\")\n",
        "print(w_stddv_inferred)\n",
        "\n",
        "plt.plot(range(1, num_epochs, 5), t)\n",
        "plt.show()\n",
        "\n",
        "def replace_latents(b, w, w2, z):\n",
        "\n",
        "    def interceptor(rv_constructor, *rv_args, **rv_kwargs):\n",
        "        \"\"\"Replaces the priors with actual values to generate samples from.\"\"\"\n",
        "        name = rv_kwargs.pop(\"name\")\n",
        "        if name == \"b\":\n",
        "            rv_kwargs[\"value\"] = b\n",
        "        elif name == \"w\":\n",
        "            rv_kwargs[\"value\"] = w\n",
        "        elif name == \"w\":\n",
        "            rv_kwargs[\"value\"] = w2\n",
        "        elif name == \"z\":\n",
        "            rv_kwargs[\"value\"] = z\n",
        "        return rv_constructor(*rv_args, **rv_kwargs)\n",
        "\n",
        "    return interceptor"
      ],
      "metadata": {
        "colab": {
          "base_uri": "https://localhost:8080/",
          "height": 386
        },
        "id": "sgjn6LIxDzfx",
        "outputId": "84338cf4-ae38-4674-d098-2cdff81dfc34"
      },
      "execution_count": 96,
      "outputs": [
        {
          "output_type": "stream",
          "name": "stdout",
          "text": [
            "Inferred axes:\n",
            "[[-0.17569487  3.9849792   0.9003073  -0.0785149   0.04498047]\n",
            " [ 0.27018443  3.8629184   2.142631    0.32877022 -0.00802277]]\n",
            "Standard Deviation:\n",
            "[[0.00385957 0.01053298 0.00927001 0.00327527 0.00500426]\n",
            " [0.00382181 0.00882404 0.00913417 0.00395825 0.00463946]]\n"
          ]
        },
        {
          "output_type": "display_data",
          "data": {
            "text/plain": [
              "<Figure size 432x288 with 1 Axes>"
            ],
            "image/png": "[encoded data removed]"
          },
          "metadata": {}
        }
      ]
    },
    {
      "cell_type": "markdown",
      "source": [
        "### Check Factor Model"
      ],
      "metadata": {
        "id": "mcOiH5MJD6Rv"
      }
    },
    {
      "cell_type": "code",
      "source": [
        "n_rep = 100 # number of replicated datasets we generate\n",
        "holdout_gen = np.zeros((n_rep,*(x_train.shape)))\n",
        "\n",
        "for i in range(n_rep):\n",
        "    b_sample = npr.normal(b_mean_inferred, b_stddv_inferred)\n",
        "    w_sample = npr.normal(w_mean_inferred, w_stddv_inferred)\n",
        "    w2_sample = npr.normal(w2_mean_inferred, w2_stddv_inferred)\n",
        "    z_sample = npr.normal(z_mean_inferred, z_stddv_inferred)\n",
        "\n",
        "    with ed.interception(replace_latents(b_sample, w_sample, w2_sample, z_sample)):\n",
        "        generate = ppca_model(\n",
        "            data_dim=data_dim, latent_dim=latent_dim,\n",
        "            num_datapoints=num_datapoints, stddv_datapoints=stddv_datapoints,\n",
        "            mask=np.ones(x_train.shape),\n",
        "            #change according to experiment\n",
        "            form = \"quadratic\")\n",
        "\n",
        "    with tf.Session() as sess:\n",
        "        x_generated, _ = sess.run(generate)\n",
        "\n",
        "    # look only at the heldout entries\n",
        "    holdout_gen[i] = np.multiply(x_generated, holdout_mask)"
      ],
      "metadata": {
        "id": "pkyojwWaD1L5"
      },
      "execution_count": 97,
      "outputs": []
    },
    {
      "cell_type": "code",
      "source": [
        "n_eval = 100 # we draw samples from the inferred Z and W\n",
        "obs_ll = []\n",
        "rep_ll = []\n",
        "\n",
        "#change if quadratic\n",
        "linear = False\n",
        "\n",
        "for j in range(n_eval):\n",
        "  if linear:\n",
        "    w_sample = npr.normal(w_mean_inferred, w_stddv_inferred)\n",
        "    z_sample = npr.normal(z_mean_inferred, z_stddv_inferred)\n",
        "\n",
        "    holdoutmean_sample = np.multiply(z_sample.dot(w_sample), holdout_mask)\n",
        "\n",
        "  else:\n",
        "    b_sample = npr.normal(b_mean_inferred, b_stddv_inferred)\n",
        "    w_sample = npr.normal(w_mean_inferred, w_stddv_inferred)\n",
        "    w2_sample = npr.normal(w2_mean_inferred, w2_stddv_inferred)\n",
        "    z_sample = npr.normal(z_mean_inferred, z_stddv_inferred)\n",
        "\n",
        "    holdoutmean_sample = np.multiply(b_sample + z_sample.dot(w_sample) + np.square(z_sample).dot(w2_sample), holdout_mask)\n",
        "\n",
        "\n",
        "\n",
        "  obs_ll.append(np.mean(stats.norm(holdoutmean_sample, \\\n",
        "                        stddv_datapoints).logpdf(x_vad), axis=1))\n",
        "\n",
        "  rep_ll.append(np.mean(stats.norm(holdoutmean_sample, \\\n",
        "                        stddv_datapoints).logpdf(holdout_gen),axis=2))\n",
        "    \n",
        "obs_ll_per_zi, rep_ll_per_zi = np.mean(np.array(obs_ll), axis=0), np.mean(np.array(rep_ll), axis=0)\n",
        "\n",
        "\n",
        "\n"
      ],
      "metadata": {
        "id": "JUI-iBDAD9aY"
      },
      "execution_count": 100,
      "outputs": []
    },
    {
      "cell_type": "code",
      "source": [
        "pvals = np.array([np.mean(rep_ll_per_zi[:,i] < obs_ll_per_zi[i]) for i in range(num_datapoints)])\n",
        "holdout_subjects = np.unique(holdout_row)\n",
        "overall_pval = np.mean(pvals[holdout_subjects])\n",
        "print(\"Predictive check p-values\", overall_pval)"
      ],
      "metadata": {
        "colab": {
          "base_uri": "https://localhost:8080/"
        },
        "id": "i3lR7zUcEBy4",
        "outputId": "30ee1cd9-f39d-4018-f7c2-801b81f07253"
      },
      "execution_count": 101,
      "outputs": [
        {
          "output_type": "stream",
          "name": "stdout",
          "text": [
            "Predictive check p-values 0.6048008849557522\n"
          ]
        }
      ]
    },
    {
      "cell_type": "markdown",
      "source": [
        "### Correct for substitute confounder"
      ],
      "metadata": {
        "id": "5l5Zo3ZvIMgg"
      }
    },
    {
      "cell_type": "code",
      "source": [
        "# approximate the (random variable) substitute confounders with their inferred mean.\n",
        "Z_hat = z_mean_inferred \n",
        "# augment the regressors to be both the assigned causes X and the substitute confounder Z\n",
        "X_aug = np.column_stack([X, Z_hat])"
      ],
      "metadata": {
        "id": "vKNJ6jX9EDQX"
      },
      "execution_count": 102,
      "outputs": []
    },
    {
      "cell_type": "code",
      "source": [
        "# holdout some data from prediction later\n",
        "X_train, X_test, y_train, y_test = train_test_split(X_aug, dfy, test_size=0.2, random_state=0)"
      ],
      "metadata": {
        "id": "X0uOPUqwIQvu"
      },
      "execution_count": 103,
      "outputs": []
    },
    {
      "cell_type": "code",
      "source": [
        "dcfX_train = sm.add_constant(X_train)\n",
        "\n",
        "## change logit from referrence to OLS for regressin (instead of classification)\n",
        "# dcflogit_model = sm.Logit(y_train, dcfX_train)\n",
        "# dcfresult = dcflogit_model.fit_regularized(maxiter=5000)\n",
        "\n",
        "dcfOLS_model = sm.OLS(y_train, dcfX_train)\n",
        "dcfresult = dcfOLS_model.fit()\n",
        "print(dcfresult.summary())\n",
        "# dcfresult = dcfOLS_model.fit_regularized(maxiter=5000)\n",
        "\n",
        "#summary when regularized is null for some reason, print params : https://github.com/statsmodels/statsmodels/issues/3670\n",
        "#print(dcfresult.params)\n",
        "\n"
      ],
      "metadata": {
        "colab": {
          "base_uri": "https://localhost:8080/"
        },
        "id": "_eiFmLxqISWW",
        "outputId": "f6a9b05e-ea05-4f85-94d2-6ba9a584ae7b"
      },
      "execution_count": 104,
      "outputs": [
        {
          "output_type": "stream",
          "name": "stdout",
          "text": [
            "                            OLS Regression Results                            \n",
            "==============================================================================\n",
            "Dep. Variable:                   re78   R-squared:                       0.031\n",
            "Model:                            OLS   Adj. R-squared:                  0.019\n",
            "Method:                 Least Squares   F-statistic:                     2.617\n",
            "Date:                Mon, 11 Apr 2022   Prob (F-statistic):             0.0115\n",
            "Time:                        22:21:56   Log-Likelihood:                -5862.2\n",
            "No. Observations:                 577   AIC:                         1.174e+04\n",
            "Df Residuals:                     569   BIC:                         1.178e+04\n",
            "Df Model:                           7                                         \n",
            "Covariance Type:            nonrobust                                         \n",
            "==============================================================================\n",
            "                 coef    std err          t      P>|t|      [0.025      0.975]\n",
            "------------------------------------------------------------------------------\n",
            "const       3337.3501   1935.410      1.724      0.085    -464.069    7138.769\n",
            "x1          1088.9295    559.168      1.947      0.052      -9.355    2187.215\n",
            "x2           112.5255     78.693      1.430      0.153     -42.039     267.090\n",
            "x3           360.0950    194.420      1.852      0.065     -21.773     741.963\n",
            "x4         -1878.9822    670.388     -2.803      0.005   -3195.718    -562.246\n",
            "x5           789.2362    715.970      1.102      0.271    -617.031    2195.503\n",
            "x6          -209.6229    681.959     -0.307      0.759   -1549.088    1129.842\n",
            "x7          -841.2398    927.483     -0.907      0.365   -2662.947     980.468\n",
            "==============================================================================\n",
            "Omnibus:                      339.227   Durbin-Watson:                   1.829\n",
            "Prob(Omnibus):                  0.000   Jarque-Bera (JB):             4119.318\n",
            "Skew:                           2.366   Prob(JB):                         0.00\n",
            "Kurtosis:                      15.204   Cond. No.                         206.\n",
            "==============================================================================\n",
            "\n",
            "Warnings:\n",
            "[1] Standard Errors assume that the covariance matrix of the errors is correctly specified.\n"
          ]
        }
      ]
    },
    {
      "cell_type": "code",
      "source": [
        "#correct tutorials dfresult.conv_int\n",
        "\n",
        "res = pd.DataFrame({\"causal_mean\": dcfresult.params[:data_dim+1], \\\n",
        "                    \"causal_std\": dcfresult.bse[:data_dim+1], \\\n",
        "                    \"causal_025\": dcfresult.conf_int()[:data_dim+1][0], \\\n",
        "                    \"causal_975\": dcfresult.conf_int()[:data_dim+1][1], \\\n",
        "                   \"causal_pval\": dcfresult.pvalues[:data_dim+1]\n",
        "                  })\n",
        "\n",
        "res[\"causal_sig\"] = (res[\"causal_pval\"] < 0.05)\n",
        "res = res.T\n",
        "res.columns = np.concatenate([[\"intercept\"], np.array(dfX.columns)])\n",
        "res = res.T"
      ],
      "metadata": {
        "id": "uPGtgziLPsDs"
      },
      "execution_count": 105,
      "outputs": []
    },
    {
      "cell_type": "code",
      "source": [
        "res"
      ],
      "metadata": {
        "colab": {
          "base_uri": "https://localhost:8080/",
          "height": 237
        },
        "id": "AoYApANRQQmo",
        "outputId": "d58f244c-0954-4864-c45a-6968390f4aac"
      },
      "execution_count": 106,
      "outputs": [
        {
          "output_type": "execute_result",
          "data": {
            "text/plain": [
              "           causal_mean  causal_std   causal_025   causal_975 causal_pval  \\\n",
              "intercept  3337.350101  1935.40961  -464.069027  7138.769229    0.085185   \n",
              "treatment  1088.929513  559.167847    -9.355489  2187.214515    0.051977   \n",
              "age         112.525508   78.693229   -42.039161   267.090177    0.153287   \n",
              "education   360.095032  194.419764   -21.772975   741.963039    0.064522   \n",
              "black     -1878.982161  670.387565 -3195.718474  -562.245848    0.005238   \n",
              "married     789.236151  715.970213   -617.03095  2195.503253    0.270784   \n",
              "\n",
              "          causal_sig  \n",
              "intercept      False  \n",
              "treatment      False  \n",
              "age            False  \n",
              "education      False  \n",
              "black           True  \n",
              "married        False  "
            ],
            "text/html": [
              "\n",
              "  <div id=\"df-59083cf6-c194-4369-a6c3-6af5d3ee0c8b\">\n",
              "    <div class=\"colab-df-container\">\n",
              "      <div>\n",
              "<style scoped>\n",
              "    .dataframe tbody tr th:only-of-type {\n",
              "        vertical-align: middle;\n",
              "    }\n",
              "\n",
              "    .dataframe tbody tr th {\n",
              "        vertical-align: top;\n",
              "    }\n",
              "\n",
              "    .dataframe thead th {\n",
              "        text-align: right;\n",
              "    }\n",
              "</style>\n",
              "<table border=\"1\" class=\"dataframe\">\n",
              "  <thead>\n",
              "    <tr style=\"text-align: right;\">\n",
              "      <th></th>\n",
              "      <th>causal_mean</th>\n",
              "      <th>causal_std</th>\n",
              "      <th>causal_025</th>\n",
              "      <th>causal_975</th>\n",
              "      <th>causal_pval</th>\n",
              "      <th>causal_sig</th>\n",
              "    </tr>\n",
              "  </thead>\n",
              "  <tbody>\n",
              "    <tr>\n",
              "      <th>intercept</th>\n",
              "      <td>3337.350101</td>\n",
              "      <td>1935.40961</td>\n",
              "      <td>-464.069027</td>\n",
              "      <td>7138.769229</td>\n",
              "      <td>0.085185</td>\n",
              "      <td>False</td>\n",
              "    </tr>\n",
              "    <tr>\n",
              "      <th>treatment</th>\n",
              "      <td>1088.929513</td>\n",
              "      <td>559.167847</td>\n",
              "      <td>-9.355489</td>\n",
              "      <td>2187.214515</td>\n",
              "      <td>0.051977</td>\n",
              "      <td>False</td>\n",
              "    </tr>\n",
              "    <tr>\n",
              "      <th>age</th>\n",
              "      <td>112.525508</td>\n",
              "      <td>78.693229</td>\n",
              "      <td>-42.039161</td>\n",
              "      <td>267.090177</td>\n",
              "      <td>0.153287</td>\n",
              "      <td>False</td>\n",
              "    </tr>\n",
              "    <tr>\n",
              "      <th>education</th>\n",
              "      <td>360.095032</td>\n",
              "      <td>194.419764</td>\n",
              "      <td>-21.772975</td>\n",
              "      <td>741.963039</td>\n",
              "      <td>0.064522</td>\n",
              "      <td>False</td>\n",
              "    </tr>\n",
              "    <tr>\n",
              "      <th>black</th>\n",
              "      <td>-1878.982161</td>\n",
              "      <td>670.387565</td>\n",
              "      <td>-3195.718474</td>\n",
              "      <td>-562.245848</td>\n",
              "      <td>0.005238</td>\n",
              "      <td>True</td>\n",
              "    </tr>\n",
              "    <tr>\n",
              "      <th>married</th>\n",
              "      <td>789.236151</td>\n",
              "      <td>715.970213</td>\n",
              "      <td>-617.03095</td>\n",
              "      <td>2195.503253</td>\n",
              "      <td>0.270784</td>\n",
              "      <td>False</td>\n",
              "    </tr>\n",
              "  </tbody>\n",
              "</table>\n",
              "</div>\n",
              "      <button class=\"colab-df-convert\" onclick=\"convertToInteractive('df-59083cf6-c194-4369-a6c3-6af5d3ee0c8b')\"\n",
              "              title=\"Convert this dataframe to an interactive table.\"\n",
              "              style=\"display:none;\">\n",
              "        \n",
              "  <svg xmlns=\"http://www.w3.org/2000/svg\" height=\"24px\"viewBox=\"0 0 24 24\"\n",
              "       width=\"24px\">\n",
              "    <path d=\"M0 0h24v24H0V0z\" fill=\"none\"/>\n",
              "    <path d=\"M18.56 5.44l.94 2.06.94-2.06 2.06-.94-2.06-.94-.94-2.06-.94 2.06-2.06.94zm-11 1L8.5 8.5l.94-2.06 2.06-.94-2.06-.94L8.5 2.5l-.94 2.06-2.06.94zm10 10l.94 2.06.94-2.06 2.06-.94-2.06-.94-.94-2.06-.94 2.06-2.06.94z\"/><path d=\"M17.41 7.96l-1.37-1.37c-.4-.4-.92-.59-1.43-.59-.52 0-1.04.2-1.43.59L10.3 9.45l-7.72 7.72c-.78.78-.78 2.05 0 2.83L4 21.41c.39.39.9.59 1.41.59.51 0 1.02-.2 1.41-.59l7.78-7.78 2.81-2.81c.8-.78.8-2.07 0-2.86zM5.41 20L4 18.59l7.72-7.72 1.47 1.35L5.41 20z\"/>\n",
              "  </svg>\n",
              "      </button>\n",
              "      \n",
              "  <style>\n",
              "    .colab-df-container {\n",
              "      display:flex;\n",
              "      flex-wrap:wrap;\n",
              "      gap: 12px;\n",
              "    }\n",
              "\n",
              "    .colab-df-convert {\n",
              "      background-color: #E8F0FE;\n",
              "      border: none;\n",
              "      border-radius: 50%;\n",
              "      cursor: pointer;\n",
              "      display: none;\n",
              "      fill: #1967D2;\n",
              "      height: 32px;\n",
              "      padding: 0 0 0 0;\n",
              "      width: 32px;\n",
              "    }\n",
              "\n",
              "    .colab-df-convert:hover {\n",
              "      background-color: #E2EBFA;\n",
              "      box-shadow: 0px 1px 2px rgba(60, 64, 67, 0.3), 0px 1px 3px 1px rgba(60, 64, 67, 0.15);\n",
              "      fill: #174EA6;\n",
              "    }\n",
              "\n",
              "    [theme=dark] .colab-df-convert {\n",
              "      background-color: #3B4455;\n",
              "      fill: #D2E3FC;\n",
              "    }\n",
              "\n",
              "    [theme=dark] .colab-df-convert:hover {\n",
              "      background-color: #434B5C;\n",
              "      box-shadow: 0px 1px 3px 1px rgba(0, 0, 0, 0.15);\n",
              "      filter: drop-shadow(0px 1px 2px rgba(0, 0, 0, 0.3));\n",
              "      fill: #FFFFFF;\n",
              "    }\n",
              "  </style>\n",
              "\n",
              "      <script>\n",
              "        const buttonEl =\n",
              "          document.querySelector('#df-59083cf6-c194-4369-a6c3-6af5d3ee0c8b button.colab-df-convert');\n",
              "        buttonEl.style.display =\n",
              "          google.colab.kernel.accessAllowed ? 'block' : 'none';\n",
              "\n",
              "        async function convertToInteractive(key) {\n",
              "          const element = document.querySelector('#df-59083cf6-c194-4369-a6c3-6af5d3ee0c8b');\n",
              "          const dataTable =\n",
              "            await google.colab.kernel.invokeFunction('convertToInteractive',\n",
              "                                                     [key], {});\n",
              "          if (!dataTable) return;\n",
              "\n",
              "          const docLinkHtml = 'Like what you see? Visit the ' +\n",
              "            '<a target=\"_blank\" href=https://colab.research.google.com/notebooks/data_table.ipynb>data table notebook</a>'\n",
              "            + ' to learn more about interactive tables.';\n",
              "          element.innerHTML = '';\n",
              "          dataTable['output_type'] = 'display_data';\n",
              "          await google.colab.output.renderOutput(dataTable, element);\n",
              "          const docLink = document.createElement('div');\n",
              "          docLink.innerHTML = docLinkHtml;\n",
              "          element.appendChild(docLink);\n",
              "        }\n",
              "      </script>\n",
              "    </div>\n",
              "  </div>\n",
              "  "
            ]
          },
          "metadata": {},
          "execution_count": 106
        }
      ]
    },
    {
      "cell_type": "code",
      "source": [
        "# make predictions with the causal model \n",
        "dcfX_test = X_test\n",
        "dcfy_pred = dcfresult.predict(sm.add_constant(dcfX_test))\n",
        "print(r2_score(y_test, dcfy_pred))\n",
        "\n"
      ],
      "metadata": {
        "colab": {
          "base_uri": "https://localhost:8080/"
        },
        "id": "BjbYaCcUQitx",
        "outputId": "4fe2ea05-3a61-491d-9d90-0e2c90ca337b"
      },
      "execution_count": 107,
      "outputs": [
        {
          "output_type": "stream",
          "name": "stdout",
          "text": [
            "-0.0004591281583345985\n"
          ]
        }
      ]
    },
    {
      "cell_type": "code",
      "source": [
        ""
      ],
      "metadata": {
        "id": "dLE_YqpxRZbV"
      },
      "execution_count": null,
      "outputs": []
    }
  ]
}